version https://git-lfs.github.com/spec/v1
oid sha256:0ba17fd7f94ef271a293cac740f7e7e6efbe8100ea0851803e96568269006771
size 69436892
