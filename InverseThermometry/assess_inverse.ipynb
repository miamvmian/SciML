version https://git-lfs.github.com/spec/v1
oid sha256:880fd66c5cc7fd6022e22b136a09cb5e4c64c26290c79cb4c7d6099e2c78891d
size 69436404
