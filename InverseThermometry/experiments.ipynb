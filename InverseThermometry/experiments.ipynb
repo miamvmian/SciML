{
 "cells": [
  {
   "cell_type": "code",
   "execution_count": 1,
   "id": "b90f4e07",
   "metadata": {},
   "outputs": [],
   "source": [
    "import torch\n",
    "from heat_solver import HeatSolver, get_boundary_conditions\n",
    "from inverse_solver import InverseSolver\n",
    "from utils import (\n",
    "    create_conductivity_field,\n",
    "    sine_source,\n",
    "    sine_cosine_source,\n",
    "    relative_rmse,\n",
    "    r2_score,\n",
    ")\n",
    "from utils import SimpleSigma, SigmoidSigma\n",
    "\n",
    "import numpy as np"
   ]
  },
  {
   "cell_type": "markdown",
   "id": "0c65a788",
   "metadata": {},
   "source": [
    "## Omega experiment"
   ]
  },
  {
   "cell_type": "code",
   "execution_count": 2,
   "id": "2e43bb4c",
   "metadata": {},
   "outputs": [],
   "source": [
    "omega_arr = np.array([0.1, 0.3, 1.0, 3.0, 10.0]) * 2 * np.pi\n",
    "M = 10\n",
    "T = 1.0\n",
    "device = \"cuda\"\n",
    "max_sigma = 5\n",
    "alpha = 0.0001\n",
    "sigma_0 = 1.0  # Initial guess\n",
    "lr = 1.0\n",
    "noise_level = 0.05\n",
    "max_iters = 100\n",
    "tol = 1e-1\n",
    "pattern = \"linear\"\n",
    "\n",
    "sigma_gt = create_conductivity_field(M, pattern=pattern, device=device)"
   ]
  },
  {
   "cell_type": "code",
   "execution_count": null,
   "id": "756d097a",
   "metadata": {},
   "outputs": [
    {
     "name": "stdout",
     "output_type": "stream",
     "text": [
      "Optimizing sigma for omega=0.628\n"
     ]
    }
   ],
   "source": [
    "relative_mse_arr = []\n",
    "mse_arr = []\n",
    "\n",
    "for i, omega in enumerate(omega_arr):\n",
    "    print(f\"Optimizing sigma for omega={omega:.3f}\")\n",
    "\n",
    "    source_func = lambda x, y, t: 10 * sine_cosine_source(x, y, t, omega, device)\n",
    "\n",
    "    # Generate boundary observations with noise\n",
    "    u_b_gt = get_boundary_conditions(sigma_gt, source_func, T, max_sigma, device=device)\n",
    "    u_b = (1 + noise_level * torch.randn_like(u_b_gt)) * u_b_gt\n",
    "\n",
    "    sigma_module = SimpleSigma(M, sigma_0)\n",
    "\n",
    "    # One solver run to balance losses\n",
    "    sigma = sigma_module()\n",
    "    solver = HeatSolver(M, source_func, device)\n",
    "    _, u_b_history, u_history = solver(sigma, T, max_sigma=max_sigma)\n",
    "\n",
    "    reg_loss = solver.h**2 * (sigma - sigma_0).square().sum().item()\n",
    "    data_loss = solver.h * solver.tau * (u_b_history - u_b).square().sum().item()\n",
    "    alpha = 0.1 * data_loss / reg_loss\n",
    "\n",
    "    # Inverse solver\n",
    "    inverse_solver = InverseSolver(\n",
    "        sigma_module,\n",
    "        u_b_gt=u_b,\n",
    "        source_func=source_func,\n",
    "        M=M,\n",
    "        T=T,\n",
    "        n_steps=u_b.shape[0] - 1,\n",
    "        alpha=alpha,\n",
    "        sigma_0=sigma_0,\n",
    "        device=device,\n",
    "    )\n",
    "\n",
    "    (\n",
    "        final_sigma,\n",
    "        total_loss_history,\n",
    "        boundary_loss_history,\n",
    "        regularization_loss_history,\n",
    "    ) = inverse_solver.solve(max_iters=max_iters, tol=tol, print_info=False)\n",
    "\n",
    "    mse_arr.append(r2_score(final_sigma, sigma_gt))"
   ]
  },
  {
   "cell_type": "code",
   "execution_count": null,
   "id": "3d5828f8",
   "metadata": {},
   "outputs": [],
   "source": [
    "plt.plot(omega_arr, mse_arr)\n",
    "plt.xlabel(r\"$\\omega$\")\n",
    "plt.ylabel(r\"$R^2$ score\")\n",
    "plt.xscale(\"log\")\n",
    "plt.show()"
   ]
  },
  {
   "cell_type": "markdown",
   "id": "decbd930",
   "metadata": {},
   "source": [
    "# $\\alpha$ experiment"
   ]
  },
  {
   "cell_type": "code",
   "execution_count": null,
   "id": "9527d8d9",
   "metadata": {},
   "outputs": [],
   "source": [
    "M = 10\n",
    "T = 1.0\n",
    "device = \"cpu\"\n",
    "max_sigma = 5\n",
    "omega = 2 * np.pi\n",
    "alpha_arr = np.array([1e-4, 1e-3, 1e-2, 1e-1, 1])\n",
    "sigma_0 = 1.0  # Initial guess\n",
    "lr = 1e-1\n",
    "noise_level = 0.05\n",
    "max_iters = 5000\n",
    "tol = 1e-1\n",
    "pattern = \"linear\"\n",
    "\n",
    "source_func = lambda x, y, t: 10 * sine_cosine_source(x, y, t, omega)\n",
    "sigma_gt = create_conductivity_field(M, pattern=pattern, device=device)"
   ]
  },
  {
   "cell_type": "code",
   "execution_count": null,
   "id": "22563b6c",
   "metadata": {},
   "outputs": [],
   "source": [
    "relative_mse_arr = []\n",
    "\n",
    "for i, alpha in enumerate(alpha_arr):\n",
    "    print(f\"Optimizing sigma for alpha={alpha:.3f}\")\n",
    "\n",
    "    # Generate boundary observations with noise\n",
    "    u_b_gt = get_boundary_conditions(sigma_gt, source_func, T, max_sigma, device=device)\n",
    "    u_b = (1 + noise_level * torch.randn_like(u_b_gt)) * u_b_gt\n",
    "\n",
    "    sigma_module = SimpleSigma(M, sigma_0)\n",
    "\n",
    "    # Inverse solver\n",
    "    inverse_solver = InverseSolver(\n",
    "        sigma_module,\n",
    "        u_b_gt=u_b,\n",
    "        source_func=source_func,\n",
    "        M=M,\n",
    "        T=T,\n",
    "        n_steps=u_b.shape[0] - 1,\n",
    "        alpha=alpha,\n",
    "        sigma_0=sigma_0,\n",
    "        device=device,\n",
    "    )\n",
    "\n",
    "    (\n",
    "        final_sigma,\n",
    "        total_loss_history,\n",
    "        boundary_loss_history,\n",
    "        regularization_loss_history,\n",
    "    ) = inverse_solver.solve(max_iters=max_iters, tol=tol, print_info=False)\n",
    "\n",
    "    mse_arr.append(r2_score(final_sigma, sigma_gt))"
   ]
  },
  {
   "cell_type": "code",
   "execution_count": null,
   "id": "7ac09ad4",
   "metadata": {},
   "outputs": [],
   "source": [
    "plt.plot(alpha_arr, mse_arr)\n",
    "plt.xlabel(r\"$\\alpha$\")\n",
    "plt.ylabel(r\"$R^2$ score\")\n",
    "plt.xscale(\"log\")\n",
    "plt.show()"
   ]
  },
  {
   "cell_type": "markdown",
   "id": "c241023b",
   "metadata": {},
   "source": [
    "# Transformations of $\\sigma$ experiment"
   ]
  },
  {
   "cell_type": "code",
   "execution_count": null,
   "id": "9b7c37fb",
   "metadata": {},
   "outputs": [],
   "source": [
    "M = 10\n",
    "T = 1.0\n",
    "device = \"cpu\"\n",
    "max_sigma = 5\n",
    "omega = 2 * np.pi\n",
    "alpha_arr = 0.0001\n",
    "sigma_0 = 1.0  # Initial guess\n",
    "lr = 1e-1\n",
    "noise_level = 0.05\n",
    "max_iters = 5000\n",
    "tol = 1e-1\n",
    "pattern = \"linear\"\n",
    "\n",
    "source_func = lambda x, y, t: 10 * sine_cosine_source(x, y, t, omega)\n",
    "sigma_gt = create_conductivity_field(M, pattern=pattern, device=device)\n",
    "\n",
    "sigma_modules = [SimpleSigma, SigmoidSigma]"
   ]
  },
  {
   "cell_type": "code",
   "execution_count": null,
   "id": "0a8fe4c3",
   "metadata": {},
   "outputs": [],
   "source": [
    "relative_mse_arr = []\n",
    "\n",
    "for i, sigma_module in enumerate(sigma_modules):\n",
    "    print(f\"Optimizing sigma {i+1}/2\")\n",
    "\n",
    "    # Generate boundary observations with noise\n",
    "    u_b_gt = get_boundary_conditions(sigma_gt, source_func, T, max_sigma, device=device)\n",
    "    u_b = (1 + noise_level * torch.randn_like(u_b_gt)) * u_b_gt\n",
    "\n",
    "    # Inverse solver\n",
    "    inverse_solver = InverseSolver(\n",
    "        sigma_module,\n",
    "        u_b_gt=u_b,\n",
    "        source_func=source_func,\n",
    "        M=M,\n",
    "        T=T,\n",
    "        n_steps=u_b.shape[0] - 1,\n",
    "        alpha=alpha,\n",
    "        sigma_0=sigma_0,\n",
    "        device=device,\n",
    "    )\n",
    "\n",
    "    (\n",
    "        final_sigma,\n",
    "        total_loss_history,\n",
    "        boundary_loss_history,\n",
    "        regularization_loss_history,\n",
    "    ) = inverse_solver.solve(max_iters=max_iters, tol=tol, print_info=False)\n",
    "\n",
    "    mse_arr.append(r2_score(final_sigma, sigma_gt))"
   ]
  },
  {
   "cell_type": "markdown",
   "id": "d13d8adf",
   "metadata": {},
   "source": [
    "# Noise level experiment"
   ]
  },
  {
   "cell_type": "code",
   "execution_count": null,
   "id": "8955518f",
   "metadata": {},
   "outputs": [],
   "source": [
    "M = 10\n",
    "T = 1.0\n",
    "device = \"cpu\"\n",
    "max_sigma = 5\n",
    "omega = 2 * np.pi\n",
    "alpha_arr = 0.0001\n",
    "sigma_0 = 1.0  # Initial guess\n",
    "lr = 1e-1\n",
    "noise_level_arr = np.array([1e-3, 0.01, 0.05, 0.1])\n",
    "max_iters = 5000\n",
    "tol = 1e-1\n",
    "pattern = \"linear\"\n",
    "\n",
    "source_func = lambda x, y, t: 10 * sine_cosine_source(x, y, t, omega)\n",
    "sigma_gt = create_conductivity_field(M, pattern=pattern, device=device)"
   ]
  },
  {
   "cell_type": "code",
   "execution_count": null,
   "id": "b04e178d",
   "metadata": {},
   "outputs": [],
   "source": [
    "relative_mse_arr = []\n",
    "\n",
    "for i, noise_level in enumerate(noise_level_arr):\n",
    "    print(f\"Optimizing sigma for noise_level={noise_level:.3f}\")\n",
    "\n",
    "    # Generate boundary observations with noise\n",
    "    u_b_gt = get_boundary_conditions(sigma_gt, source_func, T, max_sigma, device=device)\n",
    "    u_b = (1 + noise_level * torch.randn_like(u_b_gt)) * u_b_gt\n",
    "\n",
    "    sigma_module = SimpleSigma(M, sigma_0)\n",
    "\n",
    "    # Inverse solver\n",
    "    inverse_solver = InverseSolver(\n",
    "        sigma_module,\n",
    "        u_b_gt=u_b,\n",
    "        source_func=source_func,\n",
    "        M=M,\n",
    "        T=T,\n",
    "        n_steps=u_b.shape[0] - 1,\n",
    "        alpha=alpha,\n",
    "        sigma_0=sigma_0,\n",
    "        device=device,\n",
    "    )\n",
    "\n",
    "    (\n",
    "        final_sigma,\n",
    "        total_loss_history,\n",
    "        boundary_loss_history,\n",
    "        regularization_loss_history,\n",
    "    ) = inverse_solver.solve(max_iters=max_iters, tol=tol, print_info=False)\n",
    "\n",
    "    mse_arr.append(r2_score(final_sigma, sigma_gt))"
   ]
  },
  {
   "cell_type": "code",
   "execution_count": null,
   "id": "cf5212a5",
   "metadata": {},
   "outputs": [],
   "source": [
    "plt.plot(noise_level_arr, mse_arr)\n",
    "plt.xlabel(\"Noise level\")\n",
    "plt.ylabel(r\"$R^2$ score\")\n",
    "plt.show()"
   ]
  }
 ],
 "metadata": {
  "kernelspec": {
   "display_name": "3.10.11",
   "language": "python",
   "name": "python3"
  },
  "language_info": {
   "codemirror_mode": {
    "name": "ipython",
    "version": 3
   },
   "file_extension": ".py",
   "mimetype": "text/x-python",
   "name": "python",
   "nbconvert_exporter": "python",
   "pygments_lexer": "ipython3",
   "version": "3.10.11"
  }
 },
 "nbformat": 4,
 "nbformat_minor": 5
}
