{
 "cells": [
  {
   "cell_type": "code",
   "execution_count": null,
   "id": "b90f4e07",
   "metadata": {},
   "outputs": [],
   "source": [
    "import torch\n",
    "from heat_solver import HeatSolver\n",
    "from inverse_solver import InverseSolver\n",
    "from utils import create_conductivity_field, sine_source\n",
    "from utils import SimpleSigma, SigmoidSigma\n",
    "\n",
    "from run import get_boundary_conditions"
   ]
  },
  {
   "cell_type": "code",
   "execution_count": null,
   "id": "2e43bb4c",
   "metadata": {},
   "outputs": [],
   "source": []
  },
  {
   "cell_type": "code",
   "execution_count": null,
   "id": "756d097a",
   "metadata": {},
   "outputs": [],
   "source": []
  }
 ],
 "metadata": {
  "kernelspec": {
   "display_name": "torch",
   "language": "python",
   "name": "python3"
  },
  "language_info": {
   "codemirror_mode": {
    "name": "ipython",
    "version": 3
   },
   "file_extension": ".py",
   "mimetype": "text/x-python",
   "name": "python",
   "nbconvert_exporter": "python",
   "pygments_lexer": "ipython3",
   "version": "3.11.9"
  }
 },
 "nbformat": 4,
 "nbformat_minor": 5
}
