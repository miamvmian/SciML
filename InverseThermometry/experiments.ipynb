{
 "cells": [
  {
   "cell_type": "code",
   "execution_count": 1,
   "id": "b90f4e07",
   "metadata": {},
   "outputs": [],
   "source": [
    "import torch\n",
    "from heat_solver import HeatSolver\n",
    "from inverse_solver import InverseSolver\n",
    "from utils import create_conductivity_field, sine_source, sine_cosine_source, relative_rmse, r2_score\n",
    "from utils import SimpleSigma, SigmoidSigma\n",
    "\n",
    "from run import get_boundary_conditions\n",
    "\n",
    "import numpy as np"
   ]
  },
  {
   "cell_type": "markdown",
   "id": "0c65a788",
   "metadata": {},
   "source": [
    "## Omega experiment"
   ]
  },
  {
   "cell_type": "code",
   "execution_count": null,
   "id": "2e43bb4c",
   "metadata": {},
   "outputs": [],
   "source": [
    "omega_arr = np.array([0.1, 0.3, 1.0, 3.0, 10.0]) * 2 * np.pi\n",
    "M = 10\n",
    "T = 1.0\n",
    "device = 'cpu'\n",
    "max_sigma = 5\n",
    "alpha = 0.0001\n",
    "sigma_0 = 1.0  # Initial guess\n",
    "lr = 1e-1\n",
    "noise_level = 0.05\n",
    "max_iters = 5000\n",
    "tol = 1e-1\n",
    "pattern = 'linear'\n",
    "\n",
    "source_func = lambda x, y, t: 10 * sine_cosine_source(x, y, t, omega)\n",
    "sigma_gt = create_conductivity_field(M, pattern=pattern, device=device)"
   ]
  },
  {
   "cell_type": "code",
   "execution_count": 4,
   "id": "756d097a",
   "metadata": {},
   "outputs": [
    {
     "name": "stdout",
     "output_type": "stream",
     "text": [
      "Optimizing sigma for omega=0.628\n"
     ]
    },
    {
     "name": "stderr",
     "output_type": "stream",
     "text": [
      "  0%|          | 1/5000 [00:04<5:34:26,  4.01s/it]"
     ]
    },
    {
     "name": "stdout",
     "output_type": "stream",
     "text": [
      "Iter 0: Loss = 0.170519\n"
     ]
    },
    {
     "name": "stderr",
     "output_type": "stream",
     "text": [
      "  0%|          | 2/5000 [00:08<5:51:05,  4.21s/it]"
     ]
    },
    {
     "name": "stdout",
     "output_type": "stream",
     "text": [
      "Iter 1: Loss = 0.169875\n"
     ]
    },
    {
     "name": "stderr",
     "output_type": "stream",
     "text": [
      "  0%|          | 3/5000 [00:12<5:58:11,  4.30s/it]"
     ]
    },
    {
     "name": "stdout",
     "output_type": "stream",
     "text": [
      "Iter 2: Loss = 0.169237\n"
     ]
    },
    {
     "name": "stderr",
     "output_type": "stream",
     "text": [
      "  0%|          | 4/5000 [00:17<6:01:02,  4.34s/it]"
     ]
    },
    {
     "name": "stdout",
     "output_type": "stream",
     "text": [
      "Iter 3: Loss = 0.168604\n"
     ]
    },
    {
     "name": "stderr",
     "output_type": "stream",
     "text": [
      "  0%|          | 5/5000 [00:21<6:01:04,  4.34s/it]"
     ]
    },
    {
     "name": "stdout",
     "output_type": "stream",
     "text": [
      "Iter 4: Loss = 0.167976\n"
     ]
    },
    {
     "name": "stderr",
     "output_type": "stream",
     "text": [
      "  0%|          | 6/5000 [00:25<6:00:55,  4.34s/it]"
     ]
    },
    {
     "name": "stdout",
     "output_type": "stream",
     "text": [
      "Iter 5: Loss = 0.167354\n"
     ]
    },
    {
     "name": "stderr",
     "output_type": "stream",
     "text": [
      "  0%|          | 7/5000 [00:30<5:56:32,  4.28s/it]"
     ]
    },
    {
     "name": "stdout",
     "output_type": "stream",
     "text": [
      "Iter 6: Loss = 0.166738\n"
     ]
    },
    {
     "name": "stderr",
     "output_type": "stream",
     "text": [
      "  0%|          | 8/5000 [00:34<5:54:19,  4.26s/it]"
     ]
    },
    {
     "name": "stdout",
     "output_type": "stream",
     "text": [
      "Iter 7: Loss = 0.166127\n"
     ]
    },
    {
     "name": "stderr",
     "output_type": "stream",
     "text": [
      "  0%|          | 9/5000 [00:38<5:58:52,  4.31s/it]"
     ]
    },
    {
     "name": "stdout",
     "output_type": "stream",
     "text": [
      "Iter 8: Loss = 0.165521\n"
     ]
    },
    {
     "name": "stderr",
     "output_type": "stream",
     "text": [
      "  0%|          | 10/5000 [00:42<5:57:19,  4.30s/it]"
     ]
    },
    {
     "name": "stdout",
     "output_type": "stream",
     "text": [
      "Iter 9: Loss = 0.164922\n"
     ]
    },
    {
     "name": "stderr",
     "output_type": "stream",
     "text": [
      "  0%|          | 11/5000 [00:47<5:56:28,  4.29s/it]"
     ]
    },
    {
     "name": "stdout",
     "output_type": "stream",
     "text": [
      "Iter 10: Loss = 0.164328\n"
     ]
    },
    {
     "name": "stderr",
     "output_type": "stream",
     "text": [
      "  0%|          | 12/5000 [00:51<5:57:17,  4.30s/it]"
     ]
    },
    {
     "name": "stdout",
     "output_type": "stream",
     "text": [
      "Iter 11: Loss = 0.163739\n"
     ]
    },
    {
     "name": "stderr",
     "output_type": "stream",
     "text": [
      "  0%|          | 13/5000 [00:56<6:07:41,  4.42s/it]"
     ]
    },
    {
     "name": "stdout",
     "output_type": "stream",
     "text": [
      "Iter 12: Loss = 0.163157\n"
     ]
    },
    {
     "name": "stderr",
     "output_type": "stream",
     "text": [
      "  0%|          | 14/5000 [01:00<6:06:34,  4.41s/it]"
     ]
    },
    {
     "name": "stdout",
     "output_type": "stream",
     "text": [
      "Iter 13: Loss = 0.162580\n"
     ]
    },
    {
     "name": "stderr",
     "output_type": "stream",
     "text": [
      "  0%|          | 15/5000 [01:05<6:08:13,  4.43s/it]"
     ]
    },
    {
     "name": "stdout",
     "output_type": "stream",
     "text": [
      "Iter 14: Loss = 0.162009\n"
     ]
    },
    {
     "name": "stderr",
     "output_type": "stream",
     "text": [
      "  0%|          | 16/5000 [01:09<6:12:34,  4.49s/it]"
     ]
    },
    {
     "name": "stdout",
     "output_type": "stream",
     "text": [
      "Iter 15: Loss = 0.161443\n"
     ]
    },
    {
     "name": "stderr",
     "output_type": "stream",
     "text": [
      "  0%|          | 17/5000 [01:14<6:08:55,  4.44s/it]"
     ]
    },
    {
     "name": "stdout",
     "output_type": "stream",
     "text": [
      "Iter 16: Loss = 0.160884\n"
     ]
    },
    {
     "name": "stderr",
     "output_type": "stream",
     "text": [
      "  0%|          | 18/5000 [01:18<6:03:42,  4.38s/it]"
     ]
    },
    {
     "name": "stdout",
     "output_type": "stream",
     "text": [
      "Iter 17: Loss = 0.160331\n"
     ]
    },
    {
     "name": "stderr",
     "output_type": "stream",
     "text": [
      "  0%|          | 19/5000 [01:22<6:00:34,  4.34s/it]"
     ]
    },
    {
     "name": "stdout",
     "output_type": "stream",
     "text": [
      "Iter 18: Loss = 0.159783\n"
     ]
    },
    {
     "name": "stderr",
     "output_type": "stream",
     "text": [
      "  0%|          | 20/5000 [01:26<5:57:15,  4.30s/it]"
     ]
    },
    {
     "name": "stdout",
     "output_type": "stream",
     "text": [
      "Iter 19: Loss = 0.159241\n"
     ]
    },
    {
     "name": "stderr",
     "output_type": "stream",
     "text": [
      "  0%|          | 21/5000 [01:30<5:55:01,  4.28s/it]"
     ]
    },
    {
     "name": "stdout",
     "output_type": "stream",
     "text": [
      "Iter 20: Loss = 0.158705\n"
     ]
    },
    {
     "name": "stderr",
     "output_type": "stream",
     "text": [
      "  0%|          | 22/5000 [01:35<5:50:07,  4.22s/it]"
     ]
    },
    {
     "name": "stdout",
     "output_type": "stream",
     "text": [
      "Iter 21: Loss = 0.158175\n"
     ]
    },
    {
     "name": "stderr",
     "output_type": "stream",
     "text": [
      "  0%|          | 23/5000 [01:39<5:47:40,  4.19s/it]"
     ]
    },
    {
     "name": "stdout",
     "output_type": "stream",
     "text": [
      "Iter 22: Loss = 0.157651\n"
     ]
    },
    {
     "name": "stderr",
     "output_type": "stream",
     "text": [
      "  0%|          | 24/5000 [01:43<5:47:18,  4.19s/it]"
     ]
    },
    {
     "name": "stdout",
     "output_type": "stream",
     "text": [
      "Iter 23: Loss = 0.157132\n"
     ]
    },
    {
     "name": "stderr",
     "output_type": "stream",
     "text": [
      "  0%|          | 25/5000 [01:47<5:44:24,  4.15s/it]"
     ]
    },
    {
     "name": "stdout",
     "output_type": "stream",
     "text": [
      "Iter 24: Loss = 0.156619\n"
     ]
    },
    {
     "name": "stderr",
     "output_type": "stream",
     "text": [
      "  1%|          | 26/5000 [01:51<5:46:18,  4.18s/it]"
     ]
    },
    {
     "name": "stdout",
     "output_type": "stream",
     "text": [
      "Iter 25: Loss = 0.156112\n"
     ]
    },
    {
     "name": "stderr",
     "output_type": "stream",
     "text": [
      "  1%|          | 27/5000 [01:56<5:54:13,  4.27s/it]"
     ]
    },
    {
     "name": "stdout",
     "output_type": "stream",
     "text": [
      "Iter 26: Loss = 0.155610\n"
     ]
    },
    {
     "name": "stderr",
     "output_type": "stream",
     "text": [
      "  1%|          | 28/5000 [02:00<5:57:48,  4.32s/it]"
     ]
    },
    {
     "name": "stdout",
     "output_type": "stream",
     "text": [
      "Iter 27: Loss = 0.155115\n"
     ]
    },
    {
     "name": "stderr",
     "output_type": "stream",
     "text": [
      "  1%|          | 29/5000 [02:05<6:02:24,  4.37s/it]"
     ]
    },
    {
     "name": "stdout",
     "output_type": "stream",
     "text": [
      "Iter 28: Loss = 0.154624\n"
     ]
    },
    {
     "name": "stderr",
     "output_type": "stream",
     "text": [
      "  1%|          | 30/5000 [02:09<6:05:48,  4.42s/it]"
     ]
    },
    {
     "name": "stdout",
     "output_type": "stream",
     "text": [
      "Iter 29: Loss = 0.154140\n"
     ]
    },
    {
     "name": "stderr",
     "output_type": "stream",
     "text": [
      "  1%|          | 30/5000 [02:14<6:10:31,  4.47s/it]\n"
     ]
    },
    {
     "ename": "KeyboardInterrupt",
     "evalue": "",
     "output_type": "error",
     "traceback": [
      "\u001b[1;31m---------------------------------------------------------------------------\u001b[0m",
      "\u001b[1;31mKeyboardInterrupt\u001b[0m                         Traceback (most recent call last)",
      "Cell \u001b[1;32mIn[4], line 34\u001b[0m\n\u001b[0;32m     21\u001b[0m \u001b[38;5;66;03m# Inverse solver\u001b[39;00m\n\u001b[0;32m     22\u001b[0m inverse_solver \u001b[38;5;241m=\u001b[39m InverseSolver(\n\u001b[0;32m     23\u001b[0m     sigma_module,\n\u001b[0;32m     24\u001b[0m     u_b_gt\u001b[38;5;241m=\u001b[39mu_b,\n\u001b[1;32m   (...)\u001b[0m\n\u001b[0;32m     31\u001b[0m     device\u001b[38;5;241m=\u001b[39mdevice\n\u001b[0;32m     32\u001b[0m )\n\u001b[1;32m---> 34\u001b[0m final_sigma, total_loss_history, boundary_loss_history, regularization_loss_history \u001b[38;5;241m=\u001b[39m \u001b[43minverse_solver\u001b[49m\u001b[38;5;241;43m.\u001b[39;49m\u001b[43msolve\u001b[49m\u001b[43m(\u001b[49m\n\u001b[0;32m     35\u001b[0m \u001b[43m    \u001b[49m\u001b[43mmax_iters\u001b[49m\u001b[38;5;241;43m=\u001b[39;49m\u001b[43mmax_iters\u001b[49m\u001b[43m,\u001b[49m\n\u001b[0;32m     36\u001b[0m \u001b[43m    \u001b[49m\u001b[43mtol\u001b[49m\u001b[38;5;241;43m=\u001b[39;49m\u001b[43mtol\u001b[49m\u001b[43m,\u001b[49m\n\u001b[0;32m     37\u001b[0m \u001b[43m    \u001b[49m\u001b[43mprint_info\u001b[49m\u001b[38;5;241;43m=\u001b[39;49m\u001b[38;5;28;43;01mFalse\u001b[39;49;00m\n\u001b[0;32m     38\u001b[0m \u001b[43m\u001b[49m\u001b[43m)\u001b[49m\n\u001b[0;32m     41\u001b[0m mse_arr\u001b[38;5;241m.\u001b[39mappend(r2_score(final_sigma, sigma_gt))\n",
      "File \u001b[1;32mc:\\Users\\OlegKashurin\\home\\Skoltech\\PINN\\SciML\\InverseThermometry\\inverse_solver.py:59\u001b[0m, in \u001b[0;36mInverseSolver.solve\u001b[1;34m(self, max_iters, tol, **kwargs)\u001b[0m\n\u001b[0;32m     56\u001b[0m loss \u001b[38;5;241m=\u001b[39m loss_data \u001b[38;5;241m+\u001b[39m \u001b[38;5;28mself\u001b[39m\u001b[38;5;241m.\u001b[39malpha \u001b[38;5;241m*\u001b[39m loss_reg\n\u001b[0;32m     58\u001b[0m \u001b[38;5;28mself\u001b[39m\u001b[38;5;241m.\u001b[39moptimizer\u001b[38;5;241m.\u001b[39mzero_grad()\n\u001b[1;32m---> 59\u001b[0m \u001b[43mloss\u001b[49m\u001b[38;5;241;43m.\u001b[39;49m\u001b[43mbackward\u001b[49m\u001b[43m(\u001b[49m\u001b[43m)\u001b[49m\n\u001b[0;32m     60\u001b[0m \u001b[38;5;28mself\u001b[39m\u001b[38;5;241m.\u001b[39moptimizer\u001b[38;5;241m.\u001b[39mstep()\n\u001b[0;32m     62\u001b[0m boundary_loss_history\u001b[38;5;241m.\u001b[39mappend(loss_data\u001b[38;5;241m.\u001b[39mitem())\n",
      "File \u001b[1;32mc:\\Users\\OlegKashurin\\miniforge3\\envs\\torch\\Lib\\site-packages\\torch\\_tensor.py:525\u001b[0m, in \u001b[0;36mTensor.backward\u001b[1;34m(self, gradient, retain_graph, create_graph, inputs)\u001b[0m\n\u001b[0;32m    515\u001b[0m \u001b[38;5;28;01mif\u001b[39;00m has_torch_function_unary(\u001b[38;5;28mself\u001b[39m):\n\u001b[0;32m    516\u001b[0m     \u001b[38;5;28;01mreturn\u001b[39;00m handle_torch_function(\n\u001b[0;32m    517\u001b[0m         Tensor\u001b[38;5;241m.\u001b[39mbackward,\n\u001b[0;32m    518\u001b[0m         (\u001b[38;5;28mself\u001b[39m,),\n\u001b[1;32m   (...)\u001b[0m\n\u001b[0;32m    523\u001b[0m         inputs\u001b[38;5;241m=\u001b[39minputs,\n\u001b[0;32m    524\u001b[0m     )\n\u001b[1;32m--> 525\u001b[0m \u001b[43mtorch\u001b[49m\u001b[38;5;241;43m.\u001b[39;49m\u001b[43mautograd\u001b[49m\u001b[38;5;241;43m.\u001b[39;49m\u001b[43mbackward\u001b[49m\u001b[43m(\u001b[49m\n\u001b[0;32m    526\u001b[0m \u001b[43m    \u001b[49m\u001b[38;5;28;43mself\u001b[39;49m\u001b[43m,\u001b[49m\u001b[43m \u001b[49m\u001b[43mgradient\u001b[49m\u001b[43m,\u001b[49m\u001b[43m \u001b[49m\u001b[43mretain_graph\u001b[49m\u001b[43m,\u001b[49m\u001b[43m \u001b[49m\u001b[43mcreate_graph\u001b[49m\u001b[43m,\u001b[49m\u001b[43m \u001b[49m\u001b[43minputs\u001b[49m\u001b[38;5;241;43m=\u001b[39;49m\u001b[43minputs\u001b[49m\n\u001b[0;32m    527\u001b[0m \u001b[43m\u001b[49m\u001b[43m)\u001b[49m\n",
      "File \u001b[1;32mc:\\Users\\OlegKashurin\\miniforge3\\envs\\torch\\Lib\\site-packages\\torch\\autograd\\__init__.py:267\u001b[0m, in \u001b[0;36mbackward\u001b[1;34m(tensors, grad_tensors, retain_graph, create_graph, grad_variables, inputs)\u001b[0m\n\u001b[0;32m    262\u001b[0m     retain_graph \u001b[38;5;241m=\u001b[39m create_graph\n\u001b[0;32m    264\u001b[0m \u001b[38;5;66;03m# The reason we repeat the same comment below is that\u001b[39;00m\n\u001b[0;32m    265\u001b[0m \u001b[38;5;66;03m# some Python versions print out the first line of a multi-line function\u001b[39;00m\n\u001b[0;32m    266\u001b[0m \u001b[38;5;66;03m# calls in the traceback and some print out the last line\u001b[39;00m\n\u001b[1;32m--> 267\u001b[0m \u001b[43m_engine_run_backward\u001b[49m\u001b[43m(\u001b[49m\n\u001b[0;32m    268\u001b[0m \u001b[43m    \u001b[49m\u001b[43mtensors\u001b[49m\u001b[43m,\u001b[49m\n\u001b[0;32m    269\u001b[0m \u001b[43m    \u001b[49m\u001b[43mgrad_tensors_\u001b[49m\u001b[43m,\u001b[49m\n\u001b[0;32m    270\u001b[0m \u001b[43m    \u001b[49m\u001b[43mretain_graph\u001b[49m\u001b[43m,\u001b[49m\n\u001b[0;32m    271\u001b[0m \u001b[43m    \u001b[49m\u001b[43mcreate_graph\u001b[49m\u001b[43m,\u001b[49m\n\u001b[0;32m    272\u001b[0m \u001b[43m    \u001b[49m\u001b[43minputs\u001b[49m\u001b[43m,\u001b[49m\n\u001b[0;32m    273\u001b[0m \u001b[43m    \u001b[49m\u001b[43mallow_unreachable\u001b[49m\u001b[38;5;241;43m=\u001b[39;49m\u001b[38;5;28;43;01mTrue\u001b[39;49;00m\u001b[43m,\u001b[49m\n\u001b[0;32m    274\u001b[0m \u001b[43m    \u001b[49m\u001b[43maccumulate_grad\u001b[49m\u001b[38;5;241;43m=\u001b[39;49m\u001b[38;5;28;43;01mTrue\u001b[39;49;00m\u001b[43m,\u001b[49m\n\u001b[0;32m    275\u001b[0m \u001b[43m\u001b[49m\u001b[43m)\u001b[49m\n",
      "File \u001b[1;32mc:\\Users\\OlegKashurin\\miniforge3\\envs\\torch\\Lib\\site-packages\\torch\\autograd\\graph.py:744\u001b[0m, in \u001b[0;36m_engine_run_backward\u001b[1;34m(t_outputs, *args, **kwargs)\u001b[0m\n\u001b[0;32m    742\u001b[0m     unregister_hooks \u001b[38;5;241m=\u001b[39m _register_logging_hooks_on_whole_graph(t_outputs)\n\u001b[0;32m    743\u001b[0m \u001b[38;5;28;01mtry\u001b[39;00m:\n\u001b[1;32m--> 744\u001b[0m     \u001b[38;5;28;01mreturn\u001b[39;00m \u001b[43mVariable\u001b[49m\u001b[38;5;241;43m.\u001b[39;49m\u001b[43m_execution_engine\u001b[49m\u001b[38;5;241;43m.\u001b[39;49m\u001b[43mrun_backward\u001b[49m\u001b[43m(\u001b[49m\u001b[43m  \u001b[49m\u001b[38;5;66;43;03m# Calls into the C++ engine to run the backward pass\u001b[39;49;00m\n\u001b[0;32m    745\u001b[0m \u001b[43m        \u001b[49m\u001b[43mt_outputs\u001b[49m\u001b[43m,\u001b[49m\u001b[43m \u001b[49m\u001b[38;5;241;43m*\u001b[39;49m\u001b[43margs\u001b[49m\u001b[43m,\u001b[49m\u001b[43m \u001b[49m\u001b[38;5;241;43m*\u001b[39;49m\u001b[38;5;241;43m*\u001b[39;49m\u001b[43mkwargs\u001b[49m\n\u001b[0;32m    746\u001b[0m \u001b[43m    \u001b[49m\u001b[43m)\u001b[49m  \u001b[38;5;66;03m# Calls into the C++ engine to run the backward pass\u001b[39;00m\n\u001b[0;32m    747\u001b[0m \u001b[38;5;28;01mfinally\u001b[39;00m:\n\u001b[0;32m    748\u001b[0m     \u001b[38;5;28;01mif\u001b[39;00m attach_logging_hooks:\n",
      "\u001b[1;31mKeyboardInterrupt\u001b[0m: "
     ]
    }
   ],
   "source": [
    "relative_mse_arr = []\n",
    "\n",
    "for i, omega in enumerate(omega_arr):\n",
    "    print(f\"Optimizing sigma for omega={omega:.3f}\")\n",
    "\n",
    "    # Generate boundary observations with noise\n",
    "    u_b_gt = get_boundary_conditions(sigma_gt, source_func, T, max_sigma, device=device)\n",
    "    u_b = (1 + noise_level * torch.randn_like(u_b_gt)) * u_b_gt\n",
    "\n",
    "    sigma_module = SimpleSigma(M, sigma_0)\n",
    "\n",
    "    # One solver run to balance losses\n",
    "    sigma = sigma_module()\n",
    "    solver = HeatSolver(M, source_func, device)\n",
    "    _, u_b_history, u_history = solver(sigma, T, max_sigma=max_sigma)\n",
    "\n",
    "    reg_loss = solver.h**2 * (sigma - sigma_0).square().sum().item()\n",
    "    data_loss = solver.h * solver.tau * (u_b_history - u_b).square().sum().item()\n",
    "    alpha = 0.1 * data_loss / reg_loss\n",
    "\n",
    "    # Inverse solver\n",
    "    inverse_solver = InverseSolver(\n",
    "        sigma_module,\n",
    "        u_b_gt=u_b,\n",
    "        source_func=source_func,\n",
    "        M=M,\n",
    "        T=T,\n",
    "        n_steps=u_b.shape[0] - 1,\n",
    "        alpha=alpha,\n",
    "        sigma_0=sigma_0,\n",
    "        device=device\n",
    "    )\n",
    "\n",
    "    final_sigma, total_loss_history, boundary_loss_history, regularization_loss_history = inverse_solver.solve(\n",
    "        max_iters=max_iters,\n",
    "        tol=tol,\n",
    "        print_info=False\n",
    "    )\n",
    "\n",
    "\n",
    "    mse_arr.append(r2_score(final_sigma, sigma_gt))"
   ]
  },
  {
   "cell_type": "code",
   "execution_count": null,
   "id": "3d5828f8",
   "metadata": {},
   "outputs": [],
   "source": [
    "plt.plot(omega_arr, mse_arr)\n",
    "plt.xlabel(r'$\\omega$')\n",
    "plt.ylabel(r'$R^2$ score')\n",
    "plt.xscale('log')\n",
    "plt.show()"
   ]
  },
  {
   "cell_type": "markdown",
   "id": "decbd930",
   "metadata": {},
   "source": [
    "# $\\alpha$ experiment"
   ]
  },
  {
   "cell_type": "code",
   "execution_count": null,
   "id": "9527d8d9",
   "metadata": {},
   "outputs": [],
   "source": [
    "M = 10\n",
    "T = 1.0\n",
    "device = 'cpu'\n",
    "max_sigma = 5\n",
    "omega = 2 * np.pi\n",
    "alpha_arr = np.array([1e-4, 1e-3, 1e-2, 1e-1, 1])\n",
    "sigma_0 = 1.0  # Initial guess\n",
    "lr = 1e-1\n",
    "noise_level = 0.05\n",
    "max_iters = 5000\n",
    "tol = 1e-1\n",
    "pattern = 'linear'\n",
    "\n",
    "source_func = lambda x, y, t: 10 * sine_cosine_source(x, y, t, omega)\n",
    "sigma_gt = create_conductivity_field(M, pattern=pattern, device=device)"
   ]
  },
  {
   "cell_type": "code",
   "execution_count": null,
   "id": "22563b6c",
   "metadata": {},
   "outputs": [],
   "source": [
    "relative_mse_arr = []\n",
    "\n",
    "for i, alpha in enumerate(alpha_arr):\n",
    "    print(f\"Optimizing sigma for alpha={alpha:.3f}\")\n",
    "\n",
    "    # Generate boundary observations with noise\n",
    "    u_b_gt = get_boundary_conditions(sigma_gt, source_func, T, max_sigma, device=device)\n",
    "    u_b = (1 + noise_level * torch.randn_like(u_b_gt)) * u_b_gt\n",
    "\n",
    "    sigma_module = SimpleSigma(M, sigma_0)\n",
    "\n",
    "    # Inverse solver\n",
    "    inverse_solver = InverseSolver(\n",
    "        sigma_module,\n",
    "        u_b_gt=u_b,\n",
    "        source_func=source_func,\n",
    "        M=M,\n",
    "        T=T,\n",
    "        n_steps=u_b.shape[0] - 1,\n",
    "        alpha=alpha,\n",
    "        sigma_0=sigma_0,\n",
    "        device=device\n",
    "    )\n",
    "\n",
    "    final_sigma, total_loss_history, boundary_loss_history, regularization_loss_history = inverse_solver.solve(\n",
    "        max_iters=max_iters,\n",
    "        tol=tol,\n",
    "        print_info=False\n",
    "    )\n",
    "\n",
    "\n",
    "    mse_arr.append(r2_score(final_sigma, sigma_gt))"
   ]
  },
  {
   "cell_type": "code",
   "execution_count": null,
   "id": "7ac09ad4",
   "metadata": {},
   "outputs": [],
   "source": [
    "plt.plot(alpha_arr, mse_arr)\n",
    "plt.xlabel(r'$\\alpha$')\n",
    "plt.ylabel(r'$R^2$ score')\n",
    "plt.xscale('log')\n",
    "plt.show()"
   ]
  },
  {
   "cell_type": "markdown",
   "id": "c241023b",
   "metadata": {},
   "source": [
    "# Transformations of $\\sigma$ experiment"
   ]
  },
  {
   "cell_type": "code",
   "execution_count": null,
   "id": "9b7c37fb",
   "metadata": {},
   "outputs": [],
   "source": [
    "M = 10\n",
    "T = 1.0\n",
    "device = 'cpu'\n",
    "max_sigma = 5\n",
    "omega = 2 * np.pi\n",
    "alpha_arr = 0.0001\n",
    "sigma_0 = 1.0  # Initial guess\n",
    "lr = 1e-1\n",
    "noise_level = 0.05\n",
    "max_iters = 5000\n",
    "tol = 1e-1\n",
    "pattern = 'linear'\n",
    "\n",
    "source_func = lambda x, y, t: 10 * sine_cosine_source(x, y, t, omega)\n",
    "sigma_gt = create_conductivity_field(M, pattern=pattern, device=device)\n",
    "\n",
    "sigma_modules = [SimpleSigma, SigmoidSigma]"
   ]
  },
  {
   "cell_type": "code",
   "execution_count": null,
   "id": "0a8fe4c3",
   "metadata": {},
   "outputs": [],
   "source": [
    "relative_mse_arr = []\n",
    "\n",
    "for i, sigma_module in enumerate(sigma_modules):\n",
    "    print(f\"Optimizing sigma {i+1}/2\")\n",
    "\n",
    "    # Generate boundary observations with noise\n",
    "    u_b_gt = get_boundary_conditions(sigma_gt, source_func, T, max_sigma, device=device)\n",
    "    u_b = (1 + noise_level * torch.randn_like(u_b_gt)) * u_b_gt\n",
    "\n",
    "    # Inverse solver\n",
    "    inverse_solver = InverseSolver(\n",
    "        sigma_module,\n",
    "        u_b_gt=u_b,\n",
    "        source_func=source_func,\n",
    "        M=M,\n",
    "        T=T,\n",
    "        n_steps=u_b.shape[0] - 1,\n",
    "        alpha=alpha,\n",
    "        sigma_0=sigma_0,\n",
    "        device=device\n",
    "    )\n",
    "\n",
    "    final_sigma, total_loss_history, boundary_loss_history, regularization_loss_history = inverse_solver.solve(\n",
    "        max_iters=max_iters,\n",
    "        tol=tol,\n",
    "        print_info=False\n",
    "    )\n",
    "\n",
    "\n",
    "    mse_arr.append(r2_score(final_sigma, sigma_gt))"
   ]
  },
  {
   "cell_type": "markdown",
   "id": "d13d8adf",
   "metadata": {},
   "source": [
    "# Noise level experiment"
   ]
  },
  {
   "cell_type": "code",
   "execution_count": null,
   "id": "8955518f",
   "metadata": {},
   "outputs": [],
   "source": [
    "M = 10\n",
    "T = 1.0\n",
    "device = 'cpu'\n",
    "max_sigma = 5\n",
    "omega = 2 * np.pi\n",
    "alpha_arr = 0.0001\n",
    "sigma_0 = 1.0  # Initial guess\n",
    "lr = 1e-1\n",
    "noise_level_arr = np.array([1e-3, 0.01, 0.05, 0.1])\n",
    "max_iters = 5000\n",
    "tol = 1e-1\n",
    "pattern = 'linear'\n",
    "\n",
    "source_func = lambda x, y, t: 10 * sine_cosine_source(x, y, t, omega)\n",
    "sigma_gt = create_conductivity_field(M, pattern=pattern, device=device)"
   ]
  },
  {
   "cell_type": "code",
   "execution_count": null,
   "id": "b04e178d",
   "metadata": {},
   "outputs": [],
   "source": [
    "relative_mse_arr = []\n",
    "\n",
    "for i, noise_level in enumerate(noise_level_arr):\n",
    "    print(f\"Optimizing sigma for noise_level={noise_level:.3f}\")\n",
    "\n",
    "    # Generate boundary observations with noise\n",
    "    u_b_gt = get_boundary_conditions(sigma_gt, source_func, T, max_sigma, device=device)\n",
    "    u_b = (1 + noise_level * torch.randn_like(u_b_gt)) * u_b_gt\n",
    "\n",
    "    sigma_module = SimpleSigma(M, sigma_0)\n",
    "\n",
    "    # Inverse solver\n",
    "    inverse_solver = InverseSolver(\n",
    "        sigma_module,\n",
    "        u_b_gt=u_b,\n",
    "        source_func=source_func,\n",
    "        M=M,\n",
    "        T=T,\n",
    "        n_steps=u_b.shape[0] - 1,\n",
    "        alpha=alpha,\n",
    "        sigma_0=sigma_0,\n",
    "        device=device\n",
    "    )\n",
    "\n",
    "    final_sigma, total_loss_history, boundary_loss_history, regularization_loss_history = inverse_solver.solve(\n",
    "        max_iters=max_iters,\n",
    "        tol=tol,\n",
    "        print_info=False\n",
    "    )\n",
    "\n",
    "\n",
    "    mse_arr.append(r2_score(final_sigma, sigma_gt))"
   ]
  },
  {
   "cell_type": "code",
   "execution_count": null,
   "id": "cf5212a5",
   "metadata": {},
   "outputs": [],
   "source": [
    "plt.plot(noise_level_arr, mse_arr)\n",
    "plt.xlabel('Noise level')\n",
    "plt.ylabel(r'$R^2$ score')\n",
    "plt.show()"
   ]
  }
 ],
 "metadata": {
  "kernelspec": {
   "display_name": "torch",
   "language": "python",
   "name": "python3"
  },
  "language_info": {
   "codemirror_mode": {
    "name": "ipython",
    "version": 3
   },
   "file_extension": ".py",
   "mimetype": "text/x-python",
   "name": "python",
   "nbconvert_exporter": "python",
   "pygments_lexer": "ipython3",
   "version": "3.11.9"
  }
 },
 "nbformat": 4,
 "nbformat_minor": 5
}
