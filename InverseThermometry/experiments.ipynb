{
 "cells": [
  {
   "cell_type": "code",
   "execution_count": null,
   "id": "b90f4e07",
   "metadata": {},
   "outputs": [],
   "source": [
    "import torch\n",
    "from heat_solver import HeatSolver\n",
    "from inverse_solver import InverseSolver\n",
    "from utils import (\n",
    "    create_conductivity_field,\n",
    "    sine_source,\n",
    "    sine_cosine_source,\n",
    "    relative_rmse,\n",
    "    r2_score,\n",
    ")\n",
    "from IPython.display import clear_output\n",
    "from utils import SimpleSigma, SigmoidSigma, compare\n",
    "\n",
    "import numpy as np"
   ]
  },
  {
   "cell_type": "code",
   "execution_count": 3,
   "id": "19cbb4f0",
   "metadata": {},
   "outputs": [],
   "source": [
    "device = \"cpu\""
   ]
  },
  {
   "cell_type": "markdown",
   "id": "0c65a788",
   "metadata": {},
   "source": [
    "## Omega experiment"
   ]
  },
  {
   "cell_type": "code",
   "execution_count": 4,
   "id": "33800351",
   "metadata": {},
   "outputs": [],
   "source": [
    "from matplotlib import pyplot as plt\n",
    "from tqdm import tqdm\n",
    "\n",
    "\n",
    "def experiment(\n",
    "    sigma_gt,\n",
    "    source_func,\n",
    "    noise_level=0.05,\n",
    "    max_iters=100,\n",
    "    alpha=0.001,\n",
    "    lr=1e-2,\n",
    "    T=1.0,\n",
    "    sigma_0=1.0,\n",
    "    max_sigma=5.0,\n",
    "    device: str = \"cpu\",\n",
    "):\n",
    "    M = sigma_gt.shape[0]\n",
    "    assert sigma_gt.shape[0] == sigma_gt.shape[1]\n",
    "\n",
    "    # Generate boundary observations with noise\n",
    "    solver = HeatSolver(M, source_func, device)\n",
    "    _, u_gt_b_history, u_gt_history = solver(sigma_gt, T, max_sigma=max_sigma)\n",
    "    u_gt_b_noisy_history = (\n",
    "        1 + noise_level * torch.randn_like(u_gt_b_history)\n",
    "    ) * u_gt_b_history\n",
    "\n",
    "    del u_gt_b_history\n",
    "\n",
    "    # Iterate inverse problem solver\n",
    "    inverse_solver = InverseSolver(\n",
    "        SimpleSigma(M, sigma_0),\n",
    "        u_b_gt=u_gt_b_noisy_history,\n",
    "        source_func=source_func,\n",
    "        M=M,\n",
    "        T=T,\n",
    "        alpha=alpha,\n",
    "        lr=lr,\n",
    "        sigma_0=sigma_0,\n",
    "        device=device,\n",
    "    )\n",
    "\n",
    "    fig, ax = plt.subplots(1, 1)\n",
    "    data_loss_history = []\n",
    "    reg_loss_history = []\n",
    "    total_loss_history = []\n",
    "    for data_term, reg_term, total_loss in tqdm(\n",
    "        inverse_solver.solve(max_iters=max_iters), total=max_iters\n",
    "    ):\n",
    "        data_loss_history.append(data_term)\n",
    "        reg_loss_history.append(reg_term)\n",
    "        total_loss_history.append(total_loss)\n",
    "\n",
    "        ax.clear()\n",
    "        ax.set_title(\"Loss\")\n",
    "        ax.plot(data_loss_history, label=\"Data loss\", alpha=0.8)\n",
    "        ax.plot(reg_loss_history, label=\"Reg loss\", alpha=0.8)\n",
    "        ax.plot(total_loss_history, label=\"Total loss\", alpha=0.8)\n",
    "        ax.legend()\n",
    "        ax.set_yscale(\"log\")\n",
    "        clear_output(wait=True)\n",
    "        display(fig)\n",
    "\n",
    "    res_sigma = inverse_solver.get_solution()\n",
    "\n",
    "    print(\"Running full simulation with resulting sigma\")\n",
    "    _, _, u_history = solver(res_sigma, T, max_sigma=max_sigma)\n",
    "\n",
    "    # 1. Assess sigma_gt vs res_sigma\n",
    "    compare(u_history, u_gt_history, source_func, solver.tau)"
   ]
  },
  {
   "cell_type": "code",
   "execution_count": 5,
   "id": "6406842d",
   "metadata": {},
   "outputs": [
    {
     "name": "stderr",
     "output_type": "stream",
     "text": [
      "  0%|          | 0/100 [00:04<?, ?it/s]\n"
     ]
    },
    {
     "ename": "NameError",
     "evalue": "name 'clear_output' is not defined",
     "output_type": "error",
     "traceback": [
      "\u001b[1;31m---------------------------------------------------------------------------\u001b[0m",
      "\u001b[1;31mNameError\u001b[0m                                 Traceback (most recent call last)",
      "Cell \u001b[1;32mIn[5], line 4\u001b[0m\n\u001b[0;32m      2\u001b[0m sincos10_source \u001b[38;5;241m=\u001b[39m \u001b[38;5;28;01mlambda\u001b[39;00m x, y, t: \u001b[38;5;241m10\u001b[39m \u001b[38;5;241m*\u001b[39m sine_cosine_source(x, y, t, omega, device)\n\u001b[0;32m      3\u001b[0m sigma_gt \u001b[38;5;241m=\u001b[39m create_conductivity_field(pattern\u001b[38;5;241m=\u001b[39m\u001b[38;5;124m\"\u001b[39m\u001b[38;5;124mconstant\u001b[39m\u001b[38;5;124m\"\u001b[39m, device\u001b[38;5;241m=\u001b[39mdevice)\n\u001b[1;32m----> 4\u001b[0m \u001b[43mexperiment\u001b[49m\u001b[43m(\u001b[49m\u001b[43msigma_gt\u001b[49m\u001b[43m,\u001b[49m\u001b[43m \u001b[49m\u001b[43msincos10_source\u001b[49m\u001b[43m)\u001b[49m\n",
      "Cell \u001b[1;32mIn[4], line 60\u001b[0m, in \u001b[0;36mexperiment\u001b[1;34m(sigma_gt, source_func, noise_level, max_iters, alpha, lr, T, sigma_0, max_sigma, device)\u001b[0m\n\u001b[0;32m     58\u001b[0m     ax\u001b[38;5;241m.\u001b[39mlegend()\n\u001b[0;32m     59\u001b[0m     ax\u001b[38;5;241m.\u001b[39mset_yscale(\u001b[38;5;124m\"\u001b[39m\u001b[38;5;124mlog\u001b[39m\u001b[38;5;124m\"\u001b[39m)\n\u001b[1;32m---> 60\u001b[0m     \u001b[43mclear_output\u001b[49m(wait\u001b[38;5;241m=\u001b[39m\u001b[38;5;28;01mTrue\u001b[39;00m)\n\u001b[0;32m     61\u001b[0m     display(fig)\n\u001b[0;32m     63\u001b[0m res_sigma \u001b[38;5;241m=\u001b[39m inverse_solver\u001b[38;5;241m.\u001b[39mget_solution()\n",
      "\u001b[1;31mNameError\u001b[0m: name 'clear_output' is not defined"
     ]
    },
    {
     "data": {
      "image/png": "[encoded data removed]",
      "text/plain": [
       "<Figure size 640x480 with 1 Axes>"
      ]
     },
     "metadata": {},
     "output_type": "display_data"
    }
   ],
   "source": [
    "omega = 0.3\n",
    "sincos10_source = lambda x, y, t: 10 * sine_cosine_source(x, y, t, omega, device)\n",
    "sigma_gt = create_conductivity_field(pattern=\"constant\", device=device)\n",
    "experiment(sigma_gt, sincos10_source)"
   ]
  },
  {
   "cell_type": "markdown",
   "id": "decbd930",
   "metadata": {},
   "source": [
    "# $\\alpha$ experiment"
   ]
  },
  {
   "cell_type": "code",
   "execution_count": null,
   "id": "9527d8d9",
   "metadata": {},
   "outputs": [],
   "source": [
    "M = 10\n",
    "T = 1.0\n",
    "device = \"cpu\"\n",
    "max_sigma = 5\n",
    "omega = 2 * np.pi\n",
    "alpha_arr = np.array([1e-4, 1e-3, 1e-2, 1e-1, 1])\n",
    "sigma_0 = 1.0  # Initial guess\n",
    "lr = 1e-1\n",
    "noise_level = 0.05\n",
    "max_iters = 5000\n",
    "tol = 1e-1\n",
    "pattern = \"linear\"\n",
    "\n",
    "source_func = lambda x, y, t: 10 * sine_cosine_source(x, y, t, omega)\n",
    "sigma_gt = create_conductivity_field(M, pattern=pattern, device=device)"
   ]
  },
  {
   "cell_type": "code",
   "execution_count": null,
   "id": "22563b6c",
   "metadata": {},
   "outputs": [],
   "source": [
    "relative_mse_arr = []\n",
    "\n",
    "for i, alpha in enumerate(alpha_arr):\n",
    "    print(f\"Optimizing sigma for alpha={alpha:.3f}\")\n",
    "\n",
    "    # Generate boundary observations with noise\n",
    "    u_b_gt = get_boundary_conditions(sigma_gt, source_func, T, max_sigma, device=device)\n",
    "    u_b = (1 + noise_level * torch.randn_like(u_b_gt)) * u_b_gt\n",
    "\n",
    "    sigma_module = SimpleSigma(M, sigma_0)\n",
    "\n",
    "    # Inverse solver\n",
    "    inverse_solver = InverseSolver(\n",
    "        sigma_module,\n",
    "        u_b_gt=u_b,\n",
    "        source_func=source_func,\n",
    "        M=M,\n",
    "        T=T,\n",
    "        n_steps=u_b.shape[0] - 1,\n",
    "        alpha=alpha,\n",
    "        sigma_0=sigma_0,\n",
    "        device=device,\n",
    "    )\n",
    "\n",
    "    (\n",
    "        final_sigma,\n",
    "        total_loss_history,\n",
    "        boundary_loss_history,\n",
    "        regularization_loss_history,\n",
    "    ) = inverse_solver.solve(max_iters=max_iters, tol=tol, print_info=False)\n",
    "\n",
    "    mse_arr.append(r2_score(final_sigma, sigma_gt))"
   ]
  },
  {
   "cell_type": "code",
   "execution_count": null,
   "id": "7ac09ad4",
   "metadata": {},
   "outputs": [],
   "source": [
    "plt.plot(alpha_arr, mse_arr)\n",
    "plt.xlabel(r\"$\\alpha$\")\n",
    "plt.ylabel(r\"$R^2$ score\")\n",
    "plt.xscale(\"log\")\n",
    "plt.show()"
   ]
  },
  {
   "cell_type": "markdown",
   "id": "c241023b",
   "metadata": {},
   "source": [
    "# Transformations of $\\sigma$ experiment"
   ]
  },
  {
   "cell_type": "code",
   "execution_count": null,
   "id": "9b7c37fb",
   "metadata": {},
   "outputs": [],
   "source": [
    "M = 10\n",
    "T = 1.0\n",
    "device = \"cpu\"\n",
    "max_sigma = 5\n",
    "omega = 2 * np.pi\n",
    "alpha_arr = 0.0001\n",
    "sigma_0 = 1.0  # Initial guess\n",
    "lr = 1e-1\n",
    "noise_level = 0.05\n",
    "max_iters = 5000\n",
    "tol = 1e-1\n",
    "pattern = \"linear\"\n",
    "\n",
    "source_func = lambda x, y, t: 10 * sine_cosine_source(x, y, t, omega)\n",
    "sigma_gt = create_conductivity_field(M, pattern=pattern, device=device)\n",
    "\n",
    "sigma_modules = [SimpleSigma, SigmoidSigma]"
   ]
  },
  {
   "cell_type": "code",
   "execution_count": null,
   "id": "0a8fe4c3",
   "metadata": {},
   "outputs": [],
   "source": [
    "relative_mse_arr = []\n",
    "\n",
    "for i, sigma_module in enumerate(sigma_modules):\n",
    "    print(f\"Optimizing sigma {i+1}/2\")\n",
    "\n",
    "    # Generate boundary observations with noise\n",
    "    u_b_gt = get_boundary_conditions(sigma_gt, source_func, T, max_sigma, device=device)\n",
    "    u_b = (1 + noise_level * torch.randn_like(u_b_gt)) * u_b_gt\n",
    "\n",
    "    # Inverse solver\n",
    "    inverse_solver = InverseSolver(\n",
    "        sigma_module,\n",
    "        u_b_gt=u_b,\n",
    "        source_func=source_func,\n",
    "        M=M,\n",
    "        T=T,\n",
    "        n_steps=u_b.shape[0] - 1,\n",
    "        alpha=alpha,\n",
    "        sigma_0=sigma_0,\n",
    "        device=device,\n",
    "    )\n",
    "\n",
    "    (\n",
    "        final_sigma,\n",
    "        total_loss_history,\n",
    "        boundary_loss_history,\n",
    "        regularization_loss_history,\n",
    "    ) = inverse_solver.solve(max_iters=max_iters, tol=tol, print_info=False)\n",
    "\n",
    "    mse_arr.append(r2_score(final_sigma, sigma_gt))"
   ]
  },
  {
   "cell_type": "markdown",
   "id": "d13d8adf",
   "metadata": {},
   "source": [
    "# Noise level experiment"
   ]
  },
  {
   "cell_type": "code",
   "execution_count": null,
   "id": "8955518f",
   "metadata": {},
   "outputs": [],
   "source": [
    "M = 10\n",
    "T = 1.0\n",
    "device = \"cpu\"\n",
    "max_sigma = 5\n",
    "omega = 2 * np.pi\n",
    "alpha_arr = 0.0001\n",
    "sigma_0 = 1.0  # Initial guess\n",
    "lr = 1e-1\n",
    "noise_level_arr = np.array([1e-3, 0.01, 0.05, 0.1])\n",
    "max_iters = 5000\n",
    "tol = 1e-1\n",
    "pattern = \"linear\"\n",
    "\n",
    "source_func = lambda x, y, t: 10 * sine_cosine_source(x, y, t, omega)\n",
    "sigma_gt = create_conductivity_field(M, pattern=pattern, device=device)"
   ]
  },
  {
   "cell_type": "code",
   "execution_count": null,
   "id": "b04e178d",
   "metadata": {},
   "outputs": [],
   "source": [
    "relative_mse_arr = []\n",
    "\n",
    "for i, noise_level in enumerate(noise_level_arr):\n",
    "    print(f\"Optimizing sigma for noise_level={noise_level:.3f}\")\n",
    "\n",
    "    # Generate boundary observations with noise\n",
    "    u_b_gt = get_boundary_conditions(sigma_gt, source_func, T, max_sigma, device=device)\n",
    "    u_b = (1 + noise_level * torch.randn_like(u_b_gt)) * u_b_gt\n",
    "\n",
    "    sigma_module = SimpleSigma(M, sigma_0)\n",
    "\n",
    "    # Inverse solver\n",
    "    inverse_solver = InverseSolver(\n",
    "        sigma_module,\n",
    "        u_b_gt=u_b,\n",
    "        source_func=source_func,\n",
    "        M=M,\n",
    "        T=T,\n",
    "        n_steps=u_b.shape[0] - 1,\n",
    "        alpha=alpha,\n",
    "        sigma_0=sigma_0,\n",
    "        device=device,\n",
    "    )\n",
    "\n",
    "    (\n",
    "        final_sigma,\n",
    "        total_loss_history,\n",
    "        boundary_loss_history,\n",
    "        regularization_loss_history,\n",
    "    ) = inverse_solver.solve(max_iters=max_iters, tol=tol, print_info=False)\n",
    "\n",
    "    mse_arr.append(r2_score(final_sigma, sigma_gt))"
   ]
  },
  {
   "cell_type": "code",
   "execution_count": null,
   "id": "cf5212a5",
   "metadata": {},
   "outputs": [],
   "source": [
    "plt.plot(noise_level_arr, mse_arr)\n",
    "plt.xlabel(\"Noise level\")\n",
    "plt.ylabel(r\"$R^2$ score\")\n",
    "plt.show()"
   ]
  }
 ],
 "metadata": {
  "kernelspec": {
   "display_name": "3.10.11",
   "language": "python",
   "name": "python3"
  },
  "language_info": {
   "codemirror_mode": {
    "name": "ipython",
    "version": 3
   },
   "file_extension": ".py",
   "mimetype": "text/x-python",
   "name": "python",
   "nbconvert_exporter": "python",
   "pygments_lexer": "ipython3",
   "version": "3.10.11"
  }
 },
 "nbformat": 4,
 "nbformat_minor": 5
}
