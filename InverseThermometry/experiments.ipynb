{
 "cells": [
  {
   "cell_type": "code",
   "execution_count": 1,
   "id": "b90f4e07",
   "metadata": {},
   "outputs": [],
   "source": [
    "import torch\n",
    "from heat_solver import HeatSolver, get_boundary_conditions\n",
    "from inverse_solver import InverseSolver\n",
    "from utils import (\n",
    "    create_conductivity_field,\n",
    "    sine_source,\n",
    "    sine_cosine_source,\n",
    "    relative_rmse,\n",
    "    r2_score,\n",
    ")\n",
    "from utils import SimpleSigma, SigmoidSigma\n",
    "\n",
    "import numpy as np"
   ]
  },
  {
   "cell_type": "markdown",
   "id": "0c65a788",
   "metadata": {},
   "source": [
    "## Omega experiment"
   ]
  },
  {
   "cell_type": "code",
   "execution_count": 4,
   "id": "2e43bb4c",
   "metadata": {},
   "outputs": [],
   "source": [
    "omega_arr = np.array([0.1, 0.3, 1.0, 3.0, 10.0]) * 2 * np.pi\n",
    "M = 10\n",
    "T = 1.0\n",
    "device = \"cpu\"\n",
    "max_sigma = 5\n",
    "alpha = 0.0001\n",
    "sigma_0 = 1.0  # Initial guess\n",
    "lr = 1.0\n",
    "noise_level = 0.05\n",
    "max_iters = 100\n",
    "tol = 1e-1\n",
    "pattern = \"linear\"\n",
    "\n",
    "sigma_gt = create_conductivity_field(M, pattern=pattern, device=device)"
   ]
  },
  {
   "cell_type": "code",
   "execution_count": 5,
   "id": "756d097a",
   "metadata": {},
   "outputs": [
    {
     "name": "stdout",
     "output_type": "stream",
     "text": [
      "Optimizing sigma for omega=0.628\n"
     ]
    },
    {
     "name": "stderr",
     "output_type": "stream",
     "text": [
      "  1%|          | 1/100 [00:10<16:47, 10.17s/it]"
     ]
    },
    {
     "name": "stdout",
     "output_type": "stream",
     "text": [
      "Iter 0: Loss = 0.174994\n"
     ]
    },
    {
     "name": "stderr",
     "output_type": "stream",
     "text": [
      "  2%|▏         | 2/100 [00:20<16:28, 10.09s/it]"
     ]
    },
    {
     "name": "stdout",
     "output_type": "stream",
     "text": [
      "Iter 1: Loss = 0.174319\n"
     ]
    },
    {
     "name": "stderr",
     "output_type": "stream",
     "text": [
      "  3%|▎         | 3/100 [00:29<15:47,  9.76s/it]"
     ]
    },
    {
     "name": "stdout",
     "output_type": "stream",
     "text": [
      "Iter 2: Loss = 0.173650\n"
     ]
    },
    {
     "name": "stderr",
     "output_type": "stream",
     "text": [
      "  4%|▍         | 4/100 [00:39<15:35,  9.74s/it]"
     ]
    },
    {
     "name": "stdout",
     "output_type": "stream",
     "text": [
      "Iter 3: Loss = 0.172987\n"
     ]
    },
    {
     "name": "stderr",
     "output_type": "stream",
     "text": [
      "  5%|▌         | 5/100 [00:48<15:18,  9.67s/it]"
     ]
    },
    {
     "name": "stdout",
     "output_type": "stream",
     "text": [
      "Iter 4: Loss = 0.172330\n"
     ]
    },
    {
     "name": "stderr",
     "output_type": "stream",
     "text": [
      "  6%|▌         | 6/100 [00:58<15:04,  9.62s/it]"
     ]
    },
    {
     "name": "stdout",
     "output_type": "stream",
     "text": [
      "Iter 5: Loss = 0.171679\n"
     ]
    },
    {
     "name": "stderr",
     "output_type": "stream",
     "text": [
      "  7%|▋         | 7/100 [01:07<14:53,  9.61s/it]"
     ]
    },
    {
     "name": "stdout",
     "output_type": "stream",
     "text": [
      "Iter 6: Loss = 0.171034\n"
     ]
    },
    {
     "name": "stderr",
     "output_type": "stream",
     "text": [
      "  8%|▊         | 8/100 [01:17<14:41,  9.58s/it]"
     ]
    },
    {
     "name": "stdout",
     "output_type": "stream",
     "text": [
      "Iter 7: Loss = 0.170395\n"
     ]
    },
    {
     "name": "stderr",
     "output_type": "stream",
     "text": [
      "  9%|▉         | 9/100 [01:27<14:31,  9.58s/it]"
     ]
    },
    {
     "name": "stdout",
     "output_type": "stream",
     "text": [
      "Iter 8: Loss = 0.169763\n"
     ]
    },
    {
     "name": "stderr",
     "output_type": "stream",
     "text": [
      " 10%|█         | 10/100 [01:37<14:42,  9.80s/it]"
     ]
    },
    {
     "name": "stdout",
     "output_type": "stream",
     "text": [
      "Iter 9: Loss = 0.169136\n"
     ]
    },
    {
     "name": "stderr",
     "output_type": "stream",
     "text": [
      " 11%|█         | 11/100 [01:47<14:31,  9.79s/it]"
     ]
    },
    {
     "name": "stdout",
     "output_type": "stream",
     "text": [
      "Iter 10: Loss = 0.168516\n"
     ]
    },
    {
     "name": "stderr",
     "output_type": "stream",
     "text": [
      " 12%|█▏        | 12/100 [01:56<14:23,  9.81s/it]"
     ]
    },
    {
     "name": "stdout",
     "output_type": "stream",
     "text": [
      "Iter 11: Loss = 0.167903\n"
     ]
    },
    {
     "name": "stderr",
     "output_type": "stream",
     "text": [
      " 13%|█▎        | 13/100 [02:06<14:10,  9.78s/it]"
     ]
    },
    {
     "name": "stdout",
     "output_type": "stream",
     "text": [
      "Iter 12: Loss = 0.167295\n"
     ]
    },
    {
     "name": "stderr",
     "output_type": "stream",
     "text": [
      " 14%|█▍        | 14/100 [02:16<13:59,  9.76s/it]"
     ]
    },
    {
     "name": "stdout",
     "output_type": "stream",
     "text": [
      "Iter 13: Loss = 0.166694\n"
     ]
    },
    {
     "name": "stderr",
     "output_type": "stream",
     "text": [
      " 15%|█▌        | 15/100 [02:26<14:01,  9.90s/it]"
     ]
    },
    {
     "name": "stdout",
     "output_type": "stream",
     "text": [
      "Iter 14: Loss = 0.166099\n"
     ]
    },
    {
     "name": "stderr",
     "output_type": "stream",
     "text": [
      " 15%|█▌        | 15/100 [02:30<14:14, 10.05s/it]\n"
     ]
    },
    {
     "ename": "KeyboardInterrupt",
     "evalue": "",
     "output_type": "error",
     "traceback": [
      "\u001b[1;31m---------------------------------------------------------------------------\u001b[0m",
      "\u001b[1;31mKeyboardInterrupt\u001b[0m                         Traceback (most recent call last)",
      "Cell \u001b[1;32mIn[5], line 42\u001b[0m\n\u001b[0;32m     24\u001b[0m \u001b[38;5;66;03m# Inverse solver\u001b[39;00m\n\u001b[0;32m     25\u001b[0m inverse_solver \u001b[38;5;241m=\u001b[39m InverseSolver(\n\u001b[0;32m     26\u001b[0m     sigma_module,\n\u001b[0;32m     27\u001b[0m     u_b_gt\u001b[38;5;241m=\u001b[39mu_b,\n\u001b[1;32m   (...)\u001b[0m\n\u001b[0;32m     34\u001b[0m     device\u001b[38;5;241m=\u001b[39mdevice,\n\u001b[0;32m     35\u001b[0m )\n\u001b[0;32m     37\u001b[0m (\n\u001b[0;32m     38\u001b[0m     final_sigma,\n\u001b[0;32m     39\u001b[0m     total_loss_history,\n\u001b[0;32m     40\u001b[0m     boundary_loss_history,\n\u001b[0;32m     41\u001b[0m     regularization_loss_history,\n\u001b[1;32m---> 42\u001b[0m ) \u001b[38;5;241m=\u001b[39m \u001b[43minverse_solver\u001b[49m\u001b[38;5;241;43m.\u001b[39;49m\u001b[43msolve\u001b[49m\u001b[43m(\u001b[49m\u001b[43mmax_iters\u001b[49m\u001b[38;5;241;43m=\u001b[39;49m\u001b[43mmax_iters\u001b[49m\u001b[43m,\u001b[49m\u001b[43m \u001b[49m\u001b[43mtol\u001b[49m\u001b[38;5;241;43m=\u001b[39;49m\u001b[43mtol\u001b[49m\u001b[43m,\u001b[49m\u001b[43m \u001b[49m\u001b[43mprint_info\u001b[49m\u001b[38;5;241;43m=\u001b[39;49m\u001b[38;5;28;43;01mFalse\u001b[39;49;00m\u001b[43m)\u001b[49m\n\u001b[0;32m     44\u001b[0m mse_arr\u001b[38;5;241m.\u001b[39mappend(r2_score(final_sigma, sigma_gt))\n",
      "File \u001b[1;32mc:\\Users\\OlegKashurin\\home\\Skoltech\\PINN\\SciML\\InverseThermometry\\inverse_solver.py:58\u001b[0m, in \u001b[0;36mInverseSolver.solve\u001b[1;34m(self, max_iters, tol, **kwargs)\u001b[0m\n\u001b[0;32m     56\u001b[0m \u001b[38;5;28;01mfor\u001b[39;00m i \u001b[38;5;129;01min\u001b[39;00m tqdm(\u001b[38;5;28mrange\u001b[39m(max_iters)):\n\u001b[0;32m     57\u001b[0m     sigma \u001b[38;5;241m=\u001b[39m \u001b[38;5;28mself\u001b[39m\u001b[38;5;241m.\u001b[39msigma_module()\n\u001b[1;32m---> 58\u001b[0m     _, u_b_history, _ \u001b[38;5;241m=\u001b[39m \u001b[38;5;28;43mself\u001b[39;49m\u001b[38;5;241;43m.\u001b[39;49m\u001b[43msolver\u001b[49m\u001b[43m(\u001b[49m\u001b[43msigma\u001b[49m\u001b[43m,\u001b[49m\u001b[43m \u001b[49m\u001b[38;5;28;43mself\u001b[39;49m\u001b[38;5;241;43m.\u001b[39;49m\u001b[43mT\u001b[49m\u001b[43m,\u001b[49m\u001b[43m \u001b[49m\u001b[38;5;28;43mself\u001b[39;49m\u001b[38;5;241;43m.\u001b[39;49m\u001b[43mn_steps\u001b[49m\u001b[43m,\u001b[49m\u001b[43m \u001b[49m\u001b[38;5;241;43m*\u001b[39;49m\u001b[38;5;241;43m*\u001b[39;49m\u001b[43mkwargs\u001b[49m\u001b[43m)\u001b[49m\n\u001b[0;32m     60\u001b[0m     loss_data \u001b[38;5;241m=\u001b[39m \u001b[38;5;28mself\u001b[39m\u001b[38;5;241m.\u001b[39msolver\u001b[38;5;241m.\u001b[39mh \u001b[38;5;241m*\u001b[39m \u001b[38;5;28mself\u001b[39m\u001b[38;5;241m.\u001b[39msolver\u001b[38;5;241m.\u001b[39mtau \u001b[38;5;241m*\u001b[39m (u_b_history \u001b[38;5;241m-\u001b[39m \u001b[38;5;28mself\u001b[39m\u001b[38;5;241m.\u001b[39mu_b_gt)\u001b[38;5;241m.\u001b[39msquare()\u001b[38;5;241m.\u001b[39msum()\n\u001b[0;32m     61\u001b[0m     loss_reg \u001b[38;5;241m=\u001b[39m \u001b[38;5;28mself\u001b[39m\u001b[38;5;241m.\u001b[39msolver\u001b[38;5;241m.\u001b[39mh\u001b[38;5;241m*\u001b[39m\u001b[38;5;241m*\u001b[39m\u001b[38;5;241m2\u001b[39m \u001b[38;5;241m*\u001b[39m (sigma \u001b[38;5;241m-\u001b[39m \u001b[38;5;28mself\u001b[39m\u001b[38;5;241m.\u001b[39msigma_0)\u001b[38;5;241m.\u001b[39msquare()\u001b[38;5;241m.\u001b[39msum()\n",
      "File \u001b[1;32mc:\\Users\\OlegKashurin\\miniforge3\\envs\\torch\\Lib\\site-packages\\torch\\nn\\modules\\module.py:1532\u001b[0m, in \u001b[0;36mModule._wrapped_call_impl\u001b[1;34m(self, *args, **kwargs)\u001b[0m\n\u001b[0;32m   1530\u001b[0m     \u001b[38;5;28;01mreturn\u001b[39;00m \u001b[38;5;28mself\u001b[39m\u001b[38;5;241m.\u001b[39m_compiled_call_impl(\u001b[38;5;241m*\u001b[39margs, \u001b[38;5;241m*\u001b[39m\u001b[38;5;241m*\u001b[39mkwargs)  \u001b[38;5;66;03m# type: ignore[misc]\u001b[39;00m\n\u001b[0;32m   1531\u001b[0m \u001b[38;5;28;01melse\u001b[39;00m:\n\u001b[1;32m-> 1532\u001b[0m     \u001b[38;5;28;01mreturn\u001b[39;00m \u001b[38;5;28;43mself\u001b[39;49m\u001b[38;5;241;43m.\u001b[39;49m\u001b[43m_call_impl\u001b[49m\u001b[43m(\u001b[49m\u001b[38;5;241;43m*\u001b[39;49m\u001b[43margs\u001b[49m\u001b[43m,\u001b[49m\u001b[43m \u001b[49m\u001b[38;5;241;43m*\u001b[39;49m\u001b[38;5;241;43m*\u001b[39;49m\u001b[43mkwargs\u001b[49m\u001b[43m)\u001b[49m\n",
      "File \u001b[1;32mc:\\Users\\OlegKashurin\\miniforge3\\envs\\torch\\Lib\\site-packages\\torch\\nn\\modules\\module.py:1541\u001b[0m, in \u001b[0;36mModule._call_impl\u001b[1;34m(self, *args, **kwargs)\u001b[0m\n\u001b[0;32m   1536\u001b[0m \u001b[38;5;66;03m# If we don't have any hooks, we want to skip the rest of the logic in\u001b[39;00m\n\u001b[0;32m   1537\u001b[0m \u001b[38;5;66;03m# this function, and just call forward.\u001b[39;00m\n\u001b[0;32m   1538\u001b[0m \u001b[38;5;28;01mif\u001b[39;00m \u001b[38;5;129;01mnot\u001b[39;00m (\u001b[38;5;28mself\u001b[39m\u001b[38;5;241m.\u001b[39m_backward_hooks \u001b[38;5;129;01mor\u001b[39;00m \u001b[38;5;28mself\u001b[39m\u001b[38;5;241m.\u001b[39m_backward_pre_hooks \u001b[38;5;129;01mor\u001b[39;00m \u001b[38;5;28mself\u001b[39m\u001b[38;5;241m.\u001b[39m_forward_hooks \u001b[38;5;129;01mor\u001b[39;00m \u001b[38;5;28mself\u001b[39m\u001b[38;5;241m.\u001b[39m_forward_pre_hooks\n\u001b[0;32m   1539\u001b[0m         \u001b[38;5;129;01mor\u001b[39;00m _global_backward_pre_hooks \u001b[38;5;129;01mor\u001b[39;00m _global_backward_hooks\n\u001b[0;32m   1540\u001b[0m         \u001b[38;5;129;01mor\u001b[39;00m _global_forward_hooks \u001b[38;5;129;01mor\u001b[39;00m _global_forward_pre_hooks):\n\u001b[1;32m-> 1541\u001b[0m     \u001b[38;5;28;01mreturn\u001b[39;00m \u001b[43mforward_call\u001b[49m\u001b[43m(\u001b[49m\u001b[38;5;241;43m*\u001b[39;49m\u001b[43margs\u001b[49m\u001b[43m,\u001b[49m\u001b[43m \u001b[49m\u001b[38;5;241;43m*\u001b[39;49m\u001b[38;5;241;43m*\u001b[39;49m\u001b[43mkwargs\u001b[49m\u001b[43m)\u001b[49m\n\u001b[0;32m   1543\u001b[0m \u001b[38;5;28;01mtry\u001b[39;00m:\n\u001b[0;32m   1544\u001b[0m     result \u001b[38;5;241m=\u001b[39m \u001b[38;5;28;01mNone\u001b[39;00m\n",
      "File \u001b[1;32mc:\\Users\\OlegKashurin\\home\\Skoltech\\PINN\\SciML\\InverseThermometry\\heat_solver.py:244\u001b[0m, in \u001b[0;36mHeatSolver.forward\u001b[1;34m(self, sigma, T, n_steps, max_sigma, print_info)\u001b[0m\n\u001b[0;32m    241\u001b[0m     u \u001b[38;5;241m=\u001b[39m heat_step(u, sigma, f, \u001b[38;5;28mself\u001b[39m\u001b[38;5;241m.\u001b[39mh, \u001b[38;5;28mself\u001b[39m\u001b[38;5;241m.\u001b[39mtau)\n\u001b[0;32m    243\u001b[0m     \u001b[38;5;66;03m# Store solution\u001b[39;00m\n\u001b[1;32m--> 244\u001b[0m     u_history[k \u001b[38;5;241m+\u001b[39m \u001b[38;5;241m1\u001b[39m] \u001b[38;5;241m=\u001b[39m \u001b[43mu\u001b[49m\u001b[38;5;241;43m.\u001b[39;49m\u001b[43mclone\u001b[49m\u001b[43m(\u001b[49m\u001b[43m)\u001b[49m\n\u001b[0;32m    245\u001b[0m     u_b_history[k \u001b[38;5;241m+\u001b[39m \u001b[38;5;241m1\u001b[39m] \u001b[38;5;241m=\u001b[39m u[\u001b[38;5;28mself\u001b[39m\u001b[38;5;241m.\u001b[39mmask]\u001b[38;5;241m.\u001b[39mclone()\n\u001b[0;32m    247\u001b[0m \u001b[38;5;28;01mreturn\u001b[39;00m u, u_b_history, u_history\n",
      "\u001b[1;31mKeyboardInterrupt\u001b[0m: "
     ]
    }
   ],
   "source": [
    "relative_mse_arr = []\n",
    "mse_arr = []\n",
    "\n",
    "for i, omega in enumerate(omega_arr):\n",
    "    print(f\"Optimizing sigma for omega={omega:.3f}\")\n",
    "\n",
    "    source_func = lambda x, y, t: 10 * sine_cosine_source(x, y, t, omega, device)\n",
    "\n",
    "    # Generate boundary observations with noise\n",
    "    u_b_gt = get_boundary_conditions(sigma_gt, source_func, T, max_sigma, device=device)\n",
    "    u_b = (1 + noise_level * torch.randn_like(u_b_gt)) * u_b_gt\n",
    "\n",
    "    sigma_module = SimpleSigma(M, sigma_0)\n",
    "\n",
    "    # One solver run to balance losses\n",
    "    sigma = sigma_module()\n",
    "    solver = HeatSolver(M, source_func, device)\n",
    "    _, u_b_history, u_history = solver(sigma, T, max_sigma=max_sigma)\n",
    "\n",
    "    reg_loss = solver.h**2 * (sigma - sigma_0).square().sum().item()\n",
    "    data_loss = solver.h * solver.tau * (u_b_history - u_b).square().sum().item()\n",
    "    alpha = 0.1 * data_loss / reg_loss\n",
    "\n",
    "    # Inverse solver\n",
    "    inverse_solver = InverseSolver(\n",
    "        sigma_module,\n",
    "        u_b_gt=u_b,\n",
    "        source_func=source_func,\n",
    "        M=M,\n",
    "        T=T,\n",
    "        n_steps=u_b.shape[0] - 1,\n",
    "        alpha=alpha,\n",
    "        sigma_0=sigma_0,\n",
    "        device=device,\n",
    "    )\n",
    "\n",
    "    (\n",
    "        final_sigma,\n",
    "        total_loss_history,\n",
    "        boundary_loss_history,\n",
    "        regularization_loss_history,\n",
    "    ) = inverse_solver.solve(max_iters=max_iters, tol=tol, print_info=False)\n",
    "\n",
    "    mse_arr.append(r2_score(final_sigma, sigma_gt))"
   ]
  },
  {
   "cell_type": "code",
   "execution_count": null,
   "id": "3d5828f8",
   "metadata": {},
   "outputs": [],
   "source": [
    "plt.plot(omega_arr, mse_arr)\n",
    "plt.xlabel(r\"$\\omega$\")\n",
    "plt.ylabel(r\"$R^2$ score\")\n",
    "plt.xscale(\"log\")\n",
    "plt.show()"
   ]
  },
  {
   "cell_type": "markdown",
   "id": "decbd930",
   "metadata": {},
   "source": [
    "# $\\alpha$ experiment"
   ]
  },
  {
   "cell_type": "code",
   "execution_count": null,
   "id": "9527d8d9",
   "metadata": {},
   "outputs": [],
   "source": [
    "M = 10\n",
    "T = 1.0\n",
    "device = \"cpu\"\n",
    "max_sigma = 5\n",
    "omega = 2 * np.pi\n",
    "alpha_arr = np.array([1e-4, 1e-3, 1e-2, 1e-1, 1])\n",
    "sigma_0 = 1.0  # Initial guess\n",
    "lr = 1e-1\n",
    "noise_level = 0.05\n",
    "max_iters = 5000\n",
    "tol = 1e-1\n",
    "pattern = \"linear\"\n",
    "\n",
    "source_func = lambda x, y, t: 10 * sine_cosine_source(x, y, t, omega)\n",
    "sigma_gt = create_conductivity_field(M, pattern=pattern, device=device)"
   ]
  },
  {
   "cell_type": "code",
   "execution_count": null,
   "id": "22563b6c",
   "metadata": {},
   "outputs": [],
   "source": [
    "relative_mse_arr = []\n",
    "\n",
    "for i, alpha in enumerate(alpha_arr):\n",
    "    print(f\"Optimizing sigma for alpha={alpha:.3f}\")\n",
    "\n",
    "    # Generate boundary observations with noise\n",
    "    u_b_gt = get_boundary_conditions(sigma_gt, source_func, T, max_sigma, device=device)\n",
    "    u_b = (1 + noise_level * torch.randn_like(u_b_gt)) * u_b_gt\n",
    "\n",
    "    sigma_module = SimpleSigma(M, sigma_0)\n",
    "\n",
    "    # Inverse solver\n",
    "    inverse_solver = InverseSolver(\n",
    "        sigma_module,\n",
    "        u_b_gt=u_b,\n",
    "        source_func=source_func,\n",
    "        M=M,\n",
    "        T=T,\n",
    "        n_steps=u_b.shape[0] - 1,\n",
    "        alpha=alpha,\n",
    "        sigma_0=sigma_0,\n",
    "        device=device,\n",
    "    )\n",
    "\n",
    "    (\n",
    "        final_sigma,\n",
    "        total_loss_history,\n",
    "        boundary_loss_history,\n",
    "        regularization_loss_history,\n",
    "    ) = inverse_solver.solve(max_iters=max_iters, tol=tol, print_info=False)\n",
    "\n",
    "    mse_arr.append(r2_score(final_sigma, sigma_gt))"
   ]
  },
  {
   "cell_type": "code",
   "execution_count": null,
   "id": "7ac09ad4",
   "metadata": {},
   "outputs": [],
   "source": [
    "plt.plot(alpha_arr, mse_arr)\n",
    "plt.xlabel(r\"$\\alpha$\")\n",
    "plt.ylabel(r\"$R^2$ score\")\n",
    "plt.xscale(\"log\")\n",
    "plt.show()"
   ]
  },
  {
   "cell_type": "markdown",
   "id": "c241023b",
   "metadata": {},
   "source": [
    "# Transformations of $\\sigma$ experiment"
   ]
  },
  {
   "cell_type": "code",
   "execution_count": null,
   "id": "9b7c37fb",
   "metadata": {},
   "outputs": [],
   "source": [
    "M = 10\n",
    "T = 1.0\n",
    "device = \"cpu\"\n",
    "max_sigma = 5\n",
    "omega = 2 * np.pi\n",
    "alpha_arr = 0.0001\n",
    "sigma_0 = 1.0  # Initial guess\n",
    "lr = 1e-1\n",
    "noise_level = 0.05\n",
    "max_iters = 5000\n",
    "tol = 1e-1\n",
    "pattern = \"linear\"\n",
    "\n",
    "source_func = lambda x, y, t: 10 * sine_cosine_source(x, y, t, omega)\n",
    "sigma_gt = create_conductivity_field(M, pattern=pattern, device=device)\n",
    "\n",
    "sigma_modules = [SimpleSigma, SigmoidSigma]"
   ]
  },
  {
   "cell_type": "code",
   "execution_count": null,
   "id": "0a8fe4c3",
   "metadata": {},
   "outputs": [],
   "source": [
    "relative_mse_arr = []\n",
    "\n",
    "for i, sigma_module in enumerate(sigma_modules):\n",
    "    print(f\"Optimizing sigma {i+1}/2\")\n",
    "\n",
    "    # Generate boundary observations with noise\n",
    "    u_b_gt = get_boundary_conditions(sigma_gt, source_func, T, max_sigma, device=device)\n",
    "    u_b = (1 + noise_level * torch.randn_like(u_b_gt)) * u_b_gt\n",
    "\n",
    "    # Inverse solver\n",
    "    inverse_solver = InverseSolver(\n",
    "        sigma_module,\n",
    "        u_b_gt=u_b,\n",
    "        source_func=source_func,\n",
    "        M=M,\n",
    "        T=T,\n",
    "        n_steps=u_b.shape[0] - 1,\n",
    "        alpha=alpha,\n",
    "        sigma_0=sigma_0,\n",
    "        device=device,\n",
    "    )\n",
    "\n",
    "    (\n",
    "        final_sigma,\n",
    "        total_loss_history,\n",
    "        boundary_loss_history,\n",
    "        regularization_loss_history,\n",
    "    ) = inverse_solver.solve(max_iters=max_iters, tol=tol, print_info=False)\n",
    "\n",
    "    mse_arr.append(r2_score(final_sigma, sigma_gt))"
   ]
  },
  {
   "cell_type": "markdown",
   "id": "d13d8adf",
   "metadata": {},
   "source": [
    "# Noise level experiment"
   ]
  },
  {
   "cell_type": "code",
   "execution_count": null,
   "id": "8955518f",
   "metadata": {},
   "outputs": [],
   "source": [
    "M = 10\n",
    "T = 1.0\n",
    "device = \"cpu\"\n",
    "max_sigma = 5\n",
    "omega = 2 * np.pi\n",
    "alpha_arr = 0.0001\n",
    "sigma_0 = 1.0  # Initial guess\n",
    "lr = 1e-1\n",
    "noise_level_arr = np.array([1e-3, 0.01, 0.05, 0.1])\n",
    "max_iters = 5000\n",
    "tol = 1e-1\n",
    "pattern = \"linear\"\n",
    "\n",
    "source_func = lambda x, y, t: 10 * sine_cosine_source(x, y, t, omega)\n",
    "sigma_gt = create_conductivity_field(M, pattern=pattern, device=device)"
   ]
  },
  {
   "cell_type": "code",
   "execution_count": null,
   "id": "b04e178d",
   "metadata": {},
   "outputs": [],
   "source": [
    "relative_mse_arr = []\n",
    "\n",
    "for i, noise_level in enumerate(noise_level_arr):\n",
    "    print(f\"Optimizing sigma for noise_level={noise_level:.3f}\")\n",
    "\n",
    "    # Generate boundary observations with noise\n",
    "    u_b_gt = get_boundary_conditions(sigma_gt, source_func, T, max_sigma, device=device)\n",
    "    u_b = (1 + noise_level * torch.randn_like(u_b_gt)) * u_b_gt\n",
    "\n",
    "    sigma_module = SimpleSigma(M, sigma_0)\n",
    "\n",
    "    # Inverse solver\n",
    "    inverse_solver = InverseSolver(\n",
    "        sigma_module,\n",
    "        u_b_gt=u_b,\n",
    "        source_func=source_func,\n",
    "        M=M,\n",
    "        T=T,\n",
    "        n_steps=u_b.shape[0] - 1,\n",
    "        alpha=alpha,\n",
    "        sigma_0=sigma_0,\n",
    "        device=device,\n",
    "    )\n",
    "\n",
    "    (\n",
    "        final_sigma,\n",
    "        total_loss_history,\n",
    "        boundary_loss_history,\n",
    "        regularization_loss_history,\n",
    "    ) = inverse_solver.solve(max_iters=max_iters, tol=tol, print_info=False)\n",
    "\n",
    "    mse_arr.append(r2_score(final_sigma, sigma_gt))"
   ]
  },
  {
   "cell_type": "code",
   "execution_count": null,
   "id": "cf5212a5",
   "metadata": {},
   "outputs": [],
   "source": [
    "plt.plot(noise_level_arr, mse_arr)\n",
    "plt.xlabel(\"Noise level\")\n",
    "plt.ylabel(r\"$R^2$ score\")\n",
    "plt.show()"
   ]
  }
 ],
 "metadata": {
  "kernelspec": {
   "display_name": "torch",
   "language": "python",
   "name": "python3"
  },
  "language_info": {
   "codemirror_mode": {
    "name": "ipython",
    "version": 3
   },
   "file_extension": ".py",
   "mimetype": "text/x-python",
   "name": "python",
   "nbconvert_exporter": "python",
   "pygments_lexer": "ipython3",
   "version": "3.11.9"
  }
 },
 "nbformat": 4,
 "nbformat_minor": 5
}
