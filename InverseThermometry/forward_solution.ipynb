version https://git-lfs.github.com/spec/v1
oid sha256:1ba21372a3c276b42048c86fb94b32f3ff34952eea1208c6e9c566aed6899d55
size 24826749
