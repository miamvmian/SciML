{
 "cells": [
  {
   "cell_type": "code",
   "execution_count": 10,
   "id": "821344d1",
   "metadata": {},
   "outputs": [
    {
     "name": "stdout",
     "output_type": "stream",
     "text": [
      "The autoreload extension is already loaded. To reload it, use:\n",
      "  %reload_ext autoreload\n"
     ]
    }
   ],
   "source": [
    "%load_ext autoreload\n",
    "%autoreload 2"
   ]
  },
  {
   "cell_type": "code",
   "execution_count": 84,
   "id": "c24f0baf",
   "metadata": {},
   "outputs": [],
   "source": [
    "import torch\n",
    "from heat_solver import HeatSolver\n",
    "from inverse_solver import InverseSolver\n",
    "from utils import create_conductivity_field, _boundary_mask, sine_source\n",
    "from utils import SimpleSigma, SigmoidSigma\n",
    "\n",
    "from run import get_boundary_conditions"
   ]
  },
  {
   "cell_type": "markdown",
   "id": "5a453f78",
   "metadata": {},
   "source": [
    "# Test"
   ]
  },
  {
   "cell_type": "code",
   "execution_count": 77,
   "id": "6c5f66e4",
   "metadata": {},
   "outputs": [],
   "source": [
    "# === Params ===\n",
    "M = 10\n",
    "T = 1.0\n",
    "device = 'cpu'\n",
    "max_sigma = 5\n",
    "alpha = 0.01\n",
    "sigma_0 = 1.0  # Initial guess\n",
    "lr = 1e-1\n",
    "omega = 2.0 * 3.1415   # Frequency for sine source\n",
    "noise_level = 0.01\n",
    "max_iters = 5000\n",
    "tol = 1e-3\n",
    "pattern = 'linear'\n",
    "\n",
    "\n",
    "source_func = lambda x, y, t: sine_source(x, y, t, omega)\n",
    "sigma_gt = create_conductivity_field(M, pattern=pattern, device=device)"
   ]
  },
  {
   "cell_type": "code",
   "execution_count": 78,
   "id": "358fd9e3",
   "metadata": {},
   "outputs": [],
   "source": [
    "# Generate boundary observations with noise\n",
    "u_b_gt = get_boundary_conditions(sigma_gt, source_func, T, max_sigma, device=device)\n",
    "u_b = (1 + noise_level * torch.randn_like(u_b_gt)) * u_b_gt"
   ]
  },
  {
   "cell_type": "code",
   "execution_count": 80,
   "id": "6df50333",
   "metadata": {},
   "outputs": [],
   "source": [
    "sigma = SimpleSigma(M, sigma_0)"
   ]
  },
  {
   "cell_type": "code",
   "execution_count": 81,
   "id": "cb12f71d",
   "metadata": {},
   "outputs": [],
   "source": [
    "# Inverse solver\n",
    "inverse_solver = InverseSolver(\n",
    "    sigma,\n",
    "    u_b_gt=u_b,\n",
    "    source_func=source_func,\n",
    "    M=M,\n",
    "    T=T,\n",
    "    n_steps=u_b.shape[0] - 1,\n",
    "    alpha=alpha,\n",
    "    sigma_0=sigma_0,\n",
    "    device=device\n",
    ")"
   ]
  },
  {
   "cell_type": "code",
   "execution_count": 82,
   "id": "42777ac3",
   "metadata": {},
   "outputs": [
    {
     "name": "stderr",
     "output_type": "stream",
     "text": [
      "  0%|          | 0/5000 [00:00<?, ?it/s]"
     ]
    },
    {
     "name": "stdout",
     "output_type": "stream",
     "text": [
      "1.0 4000\n",
      "Grid: 10x10, Time step: 0.000250, Steps: 4000\n"
     ]
    },
    {
     "name": "stderr",
     "output_type": "stream",
     "text": [
      "  0%|          | 0/5000 [00:04<?, ?it/s]"
     ]
    },
    {
     "name": "stdout",
     "output_type": "stream",
     "text": [
      "Converged at iteration 0, loss: 0.000101\n"
     ]
    },
    {
     "name": "stderr",
     "output_type": "stream",
     "text": [
      "\n"
     ]
    }
   ],
   "source": [
    "final_sigma, total_loss_history, boundary_loss_history, regularization_loss_history = inverse_solver.solve(\n",
    "    max_iters=max_iters,\n",
    "    tol=tol,\n",
    "    print_info=True\n",
    ")"
   ]
  },
  {
   "cell_type": "code",
   "execution_count": null,
   "id": "5d19a980",
   "metadata": {},
   "outputs": [],
   "source": []
  }
 ],
 "metadata": {
  "kernelspec": {
   "display_name": "torch",
   "language": "python",
   "name": "python3"
  },
  "language_info": {
   "codemirror_mode": {
    "name": "ipython",
    "version": 3
   },
   "file_extension": ".py",
   "mimetype": "text/x-python",
   "name": "python",
   "nbconvert_exporter": "python",
   "pygments_lexer": "ipython3",
   "version": "3.11.9"
  }
 },
 "nbformat": 4,
 "nbformat_minor": 5
}
