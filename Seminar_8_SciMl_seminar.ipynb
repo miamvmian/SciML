{
  "cells": [
    {
      "cell_type": "code",
      "execution_count": null,
      "metadata": {
        "colab": {
          "background_save": true
        },
        "id": "Nd9_zoxdDQNa"
      },
      "outputs": [],
      "source": [
        "%%capture\n",
        "!pip install torch-geometric==2.5.0\n",
        "!pip install trimesh\n",
        "!pip install differentiable-voronoi\n",
        "!pip install gradnorm-pytorch"
      ]
    },
    {
      "cell_type": "code",
      "execution_count": null,
      "metadata": {
        "colab": {
          "background_save": true
        },
        "id": "wqXsEzi0DaRh"
      },
      "outputs": [],
      "source": [
        "from differentiable_voronoi import differentiable_voronoi, triangulate\n",
        "from shapely import Polygon, LineString, Point\n",
        "import matplotlib.pyplot as plt\n",
        "import torch\n",
        "from torch_geometric.nn import MessagePassing\n",
        "from torch_geometric.utils import to_dense_adj, to_undirected, degree, to_dense_batch\n",
        "from copy import deepcopy\n",
        "import numpy as np\n",
        "from sklearn.cluster import KMeans, SpectralClustering, BisectingKMeans\n",
        "from trimesh import Trimesh\n",
        "from scipy.spatial import Delaunay\n",
        "import matplotlib.patches\n",
        "from shapely.geometry.polygon import orient\n",
        "from scipy.spatial import Voronoi, voronoi_plot_2d\n",
        "from torch_geometric.nn.pool import avg_pool_x\n",
        "import copy\n",
        "from torch.nn import MSELoss\n",
        "from IPython.display import clear_output\n",
        "from tqdm import tqdm\n",
        "from sklearn.metrics import mean_squared_error\n",
        "from sklearn.neighbors import KDTree\n",
        "from time import sleep\n",
        "import time\n",
        "import matplotlib.cm as cm"
      ]
    },
    {
      "cell_type": "markdown",
      "metadata": {
        "id": "HkqtboaEFPVH"
      },
      "source": [
        "##Solver"
      ]
    },
    {
      "cell_type": "code",
      "execution_count": null,
      "metadata": {
        "colab": {
          "background_save": true
        },
        "id": "fnoR4MclDb0T"
      },
      "outputs": [],
      "source": [
        "class WaveSolver(MessagePassing):\n",
        "    \"\"\"Graph solver class\"\"\"\n",
        "    def init(self):\n",
        "        super().init(aggr='add', flow='target_to_source')\n",
        "    def calc_weights(self, e, h, edge_index):\n",
        "        numerator =  e\n",
        "        denominator = h + 1e-18\n",
        "        assert numerator.shape == denominator.shape\n",
        "        return torch.divide(numerator, denominator)\n",
        "\n",
        "    def forward(self, u_nm1, u, v, h, e, k, w, p_bhp, dt, edge_index):\n",
        "        assert ~torch.any(torch.isnan(u))\n",
        "        assert ~torch.any(torch.isnan(v))\n",
        "        assert ~torch.any(torch.isnan(h))\n",
        "        assert ~torch.any(torch.isnan(e))\n",
        "        assert ~torch.any(torch.isnan(k))\n",
        "        assert len(u) == len(v), print(len(u), len(v))\n",
        "        assert len(h) == len(e) == edge_index.shape[1]\n",
        "        assert len(u) == len(p_bhp) == len(w) == len(k)\n",
        "        #assert torch.all(u >= 0), print(u)\n",
        "        assert torch.all(v > 0)\n",
        "        assert torch.all(h > 0)\n",
        "        assert torch.all(e >= 0)\n",
        "        assert torch.all(k > 0)\n",
        "        assert torch.all(w >= 0)\n",
        "        #assert torch.all(p_bhp >= 0)\n",
        "\n",
        "\n",
        "        weights = self.calc_weights(e, h, edge_index).view(-1, 1)\n",
        "        assert ~torch.any(torch.isnan(weights))\n",
        "        assert len(weights) == edge_index.shape[1], print(len(weights), len(edge_index))\n",
        "        #todo switch\n",
        "        edge_index, weights = to_undirected(edge_index, weights)\n",
        "        assert torch.all(weights >= 0)\n",
        "        div = self.propagate(edge_index=edge_index, x=u, weights=weights)\n",
        "        assert len(div) == len(u)\n",
        "        t2_over_V = (dt**2) / v\n",
        "        # added multiplication by k\n",
        "        return -u_nm1 + 2 * u - k * t2_over_V * div\n",
        "\n",
        "    def message(self, x_i, x_j, weights):\n",
        "        du = x_i - x_j\n",
        "        return weights * du\n",
        "\n",
        "def roll_out_wave(solver, n_steps, u0, v, h, e, k, w, p_bhp, dt, edge_index, keep=0, save_animation=False, every_nth=10):\n",
        "    animation = []\n",
        "    roll = torch.zeros((len(keep), n_steps))\n",
        "    roll[:,0] = u0[keep].squeeze().T\n",
        "\n",
        "\n",
        "\n",
        "    u_nm1 = u0\n",
        "    weights = solver.calc_weights(e, h, edge_index).view(-1, 1)\n",
        "    edge_index_undirected, weights_undirected = to_undirected(edge_index, weights)\n",
        "\n",
        "    div = solver.propagate(edge_index=edge_index_undirected, x=u0, weights=weights_undirected)\n",
        "    t2_over_V = 0.5*(dt**2) / v\n",
        "    div=div.squeeze()\n",
        "    div = (t2_over_V * div).unsqueeze(1)\n",
        "    u_n = u0 - k.unsqueeze(1)*div\n",
        "    roll[:, 1] = u_n[keep].squeeze().T\n",
        "\n",
        "\n",
        "    for i in range(2, n_steps):\n",
        "        u = solver(u_nm1=u_nm1, u=u_n, v=v.view(-1, 1), h=h, e=e, k=k.view(-1,1), w=w, p_bhp=p_bhp, dt=dt, edge_index=edge_index)\n",
        "        u_nm1 = u_n\n",
        "        u_n = u\n",
        "\n",
        "        roll[:, i] = u[keep].squeeze()\n",
        "\n",
        "\n",
        "    return roll\n",
        "\n",
        "\n",
        "def calc_h(coords, edge_index):\n",
        "    x_i, x_j = coords[edge_index[0]], coords[edge_index[1]]\n",
        "    return torch.norm(x_i - x_j, dim=1)\n",
        "\n",
        "def dynamics_wave(point_cloud, sources, sinks, boundary,  u0, dt=0.0001, n_steps=10000, save_animation=False):\n",
        "    COORDS = torch.tensor(point_cloud[:, :2], dtype=torch.float32, requires_grad=False)\n",
        "    mesh = triangulate(COORDS.clone().detach())\n",
        "\n",
        "    edge_index, areas, e, _ = differentiable_voronoi(COORDS, mesh, boundary)\n",
        "    assert len(COORDS) == len(areas), print(len(COORDS), len(areas), areas)\n",
        "    h = calc_h(COORDS, edge_index)\n",
        "\n",
        "    perm = torch.tensor(point_cloud[:, 2], requires_grad=False)\n",
        "\n",
        "    p_bhp = torch.zeros((len(COORDS), 1), requires_grad=False)\n",
        "    w = torch.zeros((len(COORDS), 1), requires_grad=False)\n",
        "\n",
        "    solver = WaveSolver()\n",
        "\n",
        "    return roll_out_wave(solver, n_steps=n_steps, u0=u0, v=areas, h=h, e=e, k=perm, w=w, p_bhp=p_bhp, dt=dt,\n",
        "                                 edge_index=edge_index, keep=sinks, save_animation=save_animation)"
      ]
    },
    {
      "cell_type": "markdown",
      "metadata": {
        "id": "hiAr9wGXFOQ8"
      },
      "source": [
        "##Initial data"
      ]
    },
    {
      "cell_type": "code",
      "execution_count": null,
      "metadata": {
        "colab": {
          "background_save": true
        },
        "id": "2GiFYv7HFNlv"
      },
      "outputs": [],
      "source": [
        "\n",
        "L = 1.0\n",
        "\n",
        "x_grid, y_grid = np.meshgrid(np.linspace(0, 1.0, 70), np.linspace(0, 1.0, 70))\n",
        "x = x_grid.flatten().reshape(-1, 1)\n",
        "y = y_grid.flatten().reshape(-1, 1)\n",
        "c = np.ones((len(x),1))\n",
        "field = np.concatenate([x, y, c], axis=1)\n",
        "\n",
        "\n",
        "sensor_index = []\n",
        "for j in range(5):\n",
        "  for i in range(5):\n",
        "    sensor_index.append(4900 - 140 -700*j + 15 +10*i)\n",
        "\n",
        "eps = 0.0\n",
        "\n",
        "task = {'field':field,\n",
        "      'sources': {}, #not used\n",
        "      'sensors': sensor_index,\n",
        "      'dt': 0.005,\n",
        "      'boundary': torch.tensor([[-eps,-eps],\n",
        "                                  [-eps, L + eps],\n",
        "                                   [L + eps, L + eps],\n",
        "                                    [L + eps, -eps]], requires_grad=False),\n",
        "      'n_steps':200}\n",
        "\n",
        "\n",
        "u0 = 1*(0.25**2 - np.square(task['field'][:,0] - 0.5) - np.square(task['field'][:,1] - 1.0))\n",
        "u0[u0 < 0] = 0.0\n",
        "u0 = u0[:,np.newaxis]\n",
        "\n",
        "u0 = torch.tensor(u0, requires_grad=False)\n"
      ]
    },
    {
      "cell_type": "code",
      "execution_count": null,
      "metadata": {
        "colab": {
          "background_save": true
        },
        "id": "w2dI0lzLGBxL",
        "outputId": "0390e8f2-d024-469e-cc24-dee922e2933d"
      },
      "outputs": [
        {
          "data": {
            "text/plain": [
              "(4900, 3)"
            ]
          },
          "execution_count": 5,
          "metadata": {},
          "output_type": "execute_result"
        }
      ],
      "source": [
        "field.shape"
      ]
    },
    {
      "cell_type": "code",
      "execution_count": null,
      "metadata": {
        "colab": {
          "background_save": true
        },
        "id": "7FjbYOtQGC4e",
        "outputId": "c7e28507-56ab-4a93-9db7-957839deaf94"
      },
      "outputs": [
        {
          "data": {
            "text/plain": [
              "(np.float64(-0.05), np.float64(1.05), np.float64(-0.05), np.float64(1.05))"
            ]
          },
          "execution_count": 6,
          "metadata": {},
          "output_type": "execute_result"
        },
        {
          "data": {
            "image/png": "[encoded data removed]",
            "text/plain": [
              "<Figure size 640x480 with 2 Axes>"
            ]
          },
          "metadata": {},
          "output_type": "display_data"
        }
      ],
      "source": [
        "scatter = plt.scatter(task['field'][:,0],task['field'][:,1] , c=task['field'][:,2],  cmap=plt.cm.jet)\n",
        "plt.colorbar(scatter)\n",
        "plt.axis('scaled')"
      ]
    },
    {
      "cell_type": "code",
      "execution_count": null,
      "metadata": {
        "colab": {
          "background_save": true
        },
        "id": "qA3yfD3hGC02",
        "outputId": "c90187e9-ebd6-4115-c3e2-1d44a80292fc"
      },
      "outputs": [
        {
          "data": {
            "text/plain": [
              "(np.float64(-0.05), np.float64(1.05), np.float64(-0.05), np.float64(1.05))"
            ]
          },
          "execution_count": 7,
          "metadata": {},
          "output_type": "execute_result"
        },
        {
          "data": {
            "image/png": "[encoded data removed]",
            "text/plain": [
              "<Figure size 640x480 with 2 Axes>"
            ]
          },
          "metadata": {},
          "output_type": "display_data"
        }
      ],
      "source": [
        "scatter = plt.scatter(task['field'][:,0],task['field'][:,1] , c=u0,  cmap=plt.cm.jet)\n",
        "plt.colorbar(scatter)\n",
        "plt.axis('scaled')"
      ]
    },
    {
      "cell_type": "code",
      "execution_count": null,
      "metadata": {
        "colab": {
          "background_save": true
        },
        "id": "6qVNJLyFGCrM",
        "outputId": "0b9f415d-82da-478f-dbc1-4399bf92b0da"
      },
      "outputs": [
        {
          "name": "stderr",
          "output_type": "stream",
          "text": [
            "/tmp/ipython-input-4091904744.py:48: UserWarning: The use of `x.T` on tensors of dimension other than 2 to reverse their shape is deprecated and it will throw an error in a future release. Consider `x.mT` to transpose batches of matrices or `x.permute(*torch.arange(x.ndim - 1, -1, -1))` to reverse the dimensions of a tensor. (Triggered internally at /pytorch/aten/src/ATen/native/TensorShape.cpp:4421.)\n",
            "  roll[:,0] = u0[keep].squeeze().T\n"
          ]
        }
      ],
      "source": [
        "ground_truth_dynamics_1 = dynamics_wave(task['field'], task['sources'],\n",
        "                  task['sensors'], task['boundary'], dt=task['dt'],\n",
        "                  n_steps=task['n_steps'], save_animation=False , u0=u0)"
      ]
    },
    {
      "cell_type": "code",
      "execution_count": null,
      "metadata": {
        "colab": {
          "background_save": true
        },
        "id": "pJ127d7UGPqE",
        "outputId": "b839bc31-e20c-4679-ca4b-fcbe2f90460a"
      },
      "outputs": [
        {
          "data": {
            "text/plain": [
              "[<matplotlib.lines.Line2D at 0x7bf1269e06b0>]"
            ]
          },
          "execution_count": 9,
          "metadata": {},
          "output_type": "execute_result"
        },
        {
          "data": {
            "image/png": "[encoded data removed]",
            "text/plain": [
              "<Figure size 640x480 with 1 Axes>"
            ]
          },
          "metadata": {},
          "output_type": "display_data"
        }
      ],
      "source": [
        "plt.plot(ground_truth_dynamics_1[0])"
      ]
    },
    {
      "cell_type": "code",
      "execution_count": null,
      "metadata": {
        "colab": {
          "background_save": true
        },
        "id": "8PKGf1pxGVHO",
        "outputId": "07a894b5-4256-40d5-f4bd-8b8c0146995c"
      },
      "outputs": [
        {
          "data": {
            "text/plain": [
              "torch.Size([25, 200])"
            ]
          },
          "execution_count": 10,
          "metadata": {},
          "output_type": "execute_result"
        }
      ],
      "source": [
        "ground_truth_dynamics_1.shape"
      ]
    },
    {
      "cell_type": "markdown",
      "metadata": {
        "id": "V5-AniRRD4i8"
      },
      "source": [
        "##Task 1\n",
        "\n",
        "$$\\frac{\\partial^2 u}{\\partial t^2} - c^2 \\Delta u = 0$$\n",
        "\n",
        "$$\n",
        "u = U_0(x,y) \\quad \\text{when } t=0\n",
        "$$\n",
        "\n",
        "$$\n",
        "\\frac{\\partial u}{\\partial t} = 0 \\quad \\text{when } t=0\n",
        "$$\n",
        "\n",
        "$$\n",
        "\\frac{\\partial u}{\\partial n} = 0 \\quad \\text{on boundary}\n",
        "$$\n",
        "\n",
        "$$\n",
        "\\min_{U_0}{L(U_0)} = \\sum_{i=1}^m \\int_0^T \\big( u_{\\mathrm{mod}}^i(t) - u_{\\mathrm{obs}}^i(t) \\big)^2 \\, dt + \\beta \\int_V U_0(x,y)^2 \\, dx dy\n",
        "$$\n",
        "\n",
        "Exsercise: define loss function and optimizer\n"
      ]
    },
    {
      "cell_type": "code",
      "execution_count": null,
      "metadata": {
        "id": "k8wu2QczEmTS"
      },
      "outputs": [],
      "source": [
        "def phys_loss_func(ground_truth_dynamics,modeled_dynamics,dt):\n",
        "  return torch.sum(torch.sum((ground_truth_dynamics - modeled_dynamics)**2, dim=1)* dt)\n"
      ]
    },
    {
      "cell_type": "code",
      "execution_count": null,
      "metadata": {
        "id": "i6aUmMC6E3qh"
      },
      "outputs": [],
      "source": [
        "def stab_loss_func_L2(u0_cur,areas,beta):\n",
        "  return beta * torch.sum((u0_cur** 2) * areas)"
      ]
    },
    {
      "cell_type": "code",
      "execution_count": null,
      "metadata": {
        "id": "m6Dq-8N8DndI"
      },
      "outputs": [],
      "source": [
        "def estimate_u0(point_cloud, boundary, sources, sensors, ground_truth_dynamics,\n",
        "                dt, n_steps, true_u0, n_epochs, function_for_phys_loss, function_for_stab_loss,\n",
        "                beta=1.0, lr=0.1):\n",
        "    # Ensure ground_truth_dynamics has correct dimensions: [num_sensors x num_timesteps]\n",
        "    assert ground_truth_dynamics.shape[0] == len(sensors)\n",
        "    assert ground_truth_dynamics.shape[1] == n_steps\n",
        "\n",
        "    n = point_cloud.shape[0]  # Number of points in the point cloud\n",
        "\n",
        "    # Triangulate point cloud to create mesh for spatial discretization\n",
        "    mesh = triangulate(point_cloud[:, :2])\n",
        "\n",
        "    # Convert point coordinates to tensor without requiring gradients (fixed input)\n",
        "    xys = torch.tensor(point_cloud[:, :2], requires_grad=False)\n",
        "\n",
        "    # Initialize u0 (initial wave function/state) as zeros with gradient tracking enabled for optimization\n",
        "    u0_cur = torch.zeros((n, 1), requires_grad=True, dtype=torch.float)\n",
        "\n",
        "    # Initialize other physical parameters as tensors, no gradients needed\n",
        "    p_bhp = torch.zeros((n, 1), requires_grad=False)  # boundary pressure or similar\n",
        "    w = torch.zeros((n, 1), requires_grad=False)      # possibly source/sink terms\n",
        "    k = torch.tensor(point_cloud[:, 2], requires_grad=False)  # property like permeability from point_cloud\n",
        "\n",
        "    loss_curve = []  # To store loss values over training epochs\n",
        "\n",
        "    with torch.no_grad():\n",
        "        # Compute differentiable Voronoi tessellation for mesh edges, areas, etc.\n",
        "        edge_index, areas, e, clipped_vertices_dict = differentiable_voronoi(xys, mesh, boundary)\n",
        "        # Calculate spatial discretization parameter h based on edges\n",
        "        h = calc_h(xys, edge_index)\n",
        "\n",
        "    solver = WaveSolver()  # Initialize wave equation solver instance\n",
        "    physical_loss = None   # Placeholder for physical loss value\n",
        "    modeled_dynamics = None  # Placeholder for predicted dynamics\n",
        "\n",
        "    # Lists to record various diagnostic losses per epoch\n",
        "    phys_loss_values, stability_loss_values = [], [], [], [], []\n",
        "\n",
        "    # Define optimizer for u0_cur variables to minimize loss\n",
        "    optimizer = torch.optim.Adam([u0_cur], lr=lr)\n",
        "\n",
        "    for i in range(n_epochs):\n",
        "        print(\"epoch \", i)\n",
        "        optimizer.zero_grad()  # Reset gradients before backward pass\n",
        "\n",
        "        with torch.no_grad():\n",
        "            # Print statistics of current estimate u0_cur for monitoring\n",
        "            print(\"u0_cur \", \" min/max: \", torch.min(u0_cur).item(), torch.max(u0_cur).item())\n",
        "            # Compute and print L2 error between current estimate and true initial condition\n",
        "            print('error for u_0:', torch.sqrt(torch.sum((u0_cur - true_u0)**2)).item())\n",
        "\n",
        "        # Roll out wave dynamics simulation given current u0 estimate and mesh parameters\n",
        "        modeled_dynamics = roll_out_wave(\n",
        "            solver, n_steps=n_steps, u0=u0_cur, v=areas, h=h, e=e,\n",
        "            k=k, w=w, p_bhp=p_bhp, dt=dt,\n",
        "            edge_index=edge_index, keep=sensors\n",
        "        )\n",
        "        # Check shapes match for ground truth and modeled dynamics\n",
        "        assert ground_truth_dynamics.shape == modeled_dynamics.shape\n",
        "\n",
        "        # Compute physical loss comparing simulation results to ground truth\n",
        "        physical_loss = function_for_phys_loss(ground_truth_dynamics, modeled_dynamics, dt)\n",
        "        phys_loss_values.append(physical_loss)\n",
        "\n",
        "        # Compute stability regularization loss on u0_cur\n",
        "        stab_loss = function_for_stab_loss(u0_cur, areas.view(-1, 1), beta)\n",
        "        stability_loss_values.append(stab_loss)\n",
        "\n",
        "        # Total loss is sum of physical mismatch and stability regularization\n",
        "        loss = physical_loss + stab_loss\n",
        "        print('loss ', loss.item(), \"phys \", physical_loss.item(), \"stab \", stab_loss.item())\n",
        "        loss.backward()  # Backpropagate loss to calculate gradients\n",
        "\n",
        "        loss_curve.append(loss.item())  # Record current loss\n",
        "\n",
        "        optimizer.step()  # Update u0_cur parameters using gradients\n",
        "\n",
        "        with torch.no_grad():\n",
        "            if i % 10 == 0 or i == (n_epochs - 1):  # Every 10 epochs and last epoch display plots\n",
        "\n",
        "                fig = plt.figure(figsize=(14, 14))\n",
        "                ((ax1, ax2), (ax3, ax4)) = fig.subplots(2, 2)\n",
        "\n",
        "                # Plot true initial state u0 if available\n",
        "                if true_u0 is not None:\n",
        "                    scatter = ax1.scatter(point_cloud[:, 0], point_cloud[:, 1], c=true_u0, cmap=cm.jet)\n",
        "                    ax1.scatter(point_cloud[sensors, 0], point_cloud[sensors, 1], marker='D', c='k')  # sensor locations\n",
        "                    ax1.set_title(\"True u0\")\n",
        "                    plt.colorbar(scatter, ax=ax1)\n",
        "\n",
        "                # Plot recovered initial state u0_cur\n",
        "                scatter = ax2.scatter(point_cloud[:, 0], point_cloud[:, 1], c=u0_cur.detach().numpy(), cmap=cm.jet)\n",
        "                ax2.scatter(point_cloud[sensors, 0], point_cloud[sensors, 1], marker='D', c='k')\n",
        "                ax2.set_title(\"Recovered u0\")\n",
        "                plt.colorbar(scatter, ax=ax2)\n",
        "\n",
        "                # Plot temporal dynamics for a sample sensor (or all sensors if uncommented loop)\n",
        "                if modeled_dynamics is not None:\n",
        "                    #for j in range(len(sensors)):\n",
        "                    for j in range(1):\n",
        "                        ax3.plot(np.linspace(0.0, dt * n_steps, n_steps), ground_truth_dynamics.detach().numpy()[j, :], label='data ' + str(j + 1))\n",
        "                        ax3.plot(np.linspace(0.0, dt * n_steps, n_steps), modeled_dynamics.detach().numpy()[j, :], label='fitting ' + str(j + 1))\n",
        "                    ax3.grid()\n",
        "                    ax3.legend()\n",
        "                    ax3.set(xlabel='t, s', ylabel='p, Pa')\n",
        "\n",
        "                # Plot loss curves over epochs on logarithmic scale\n",
        "                if physical_loss is not None:\n",
        "                    ax4.plot(range(1, 1 + len(phys_loss_values)), phys_loss_values, label='physical loss', color='red')\n",
        "                    ax4.plot(range(1, 1 + len(stability_loss_values)), stability_loss_values, label='stabilizer', color='black')\n",
        "                    ax4.set_yscale(\"log\")\n",
        "                    ax4.grid()\n",
        "                    ax4.legend()\n",
        "                    ax4.set(xlabel='epoch')\n",
        "\n",
        "                fig.suptitle(\"epoch \" + str(i))\n",
        "                plt.show()\n",
        "\n",
        "\n",
        "                # clear_output(wait=True)\n",
        "\n",
        "    return loss_curve\n"
      ]
    },
    {
      "cell_type": "code",
      "execution_count": null,
      "metadata": {
        "id": "SQ22D6ysF4ek"
      },
      "outputs": [],
      "source": [
        "estimate_u0(task['field'], task['boundary'],task['sources'],\n",
        "                  task['sensors'], dt=task['dt'],ground_truth_dynamics = ground_truth_dynamics_1,\n",
        "                  n_steps=task['n_steps'],true_u0 = u0, n_epochs = 100,function_for_phys_loss= phys_loss_func,function_for_stab_loss=stab_loss_func_L2,beta = 0.1,lr=0.01)"
      ]
    },
    {
      "cell_type": "markdown",
      "metadata": {
        "id": "qpjSq7U5FBlc"
      },
      "source": [
        "##Task 2\n",
        "\n",
        "1) Run a simulation with beta = 100\n",
        "\n",
        "2) Run a simulation with only first ten sensor points\n",
        "\n",
        "3) Run a simulation with only last five sensor points"
      ]
    },
    {
      "cell_type": "code",
      "execution_count": null,
      "metadata": {
        "colab": {
          "base_uri": "https://localhost:8080/"
        },
        "id": "wvd91Uj7ICZV",
        "outputId": "e3fd887f-648b-4e2f-8ada-94fc90500883"
      },
      "outputs": [
        {
          "data": {
            "text/plain": [
              "torch.Size([25, 200])"
            ]
          },
          "execution_count": 13,
          "metadata": {},
          "output_type": "execute_result"
        }
      ],
      "source": [
        "ground_truth_dynamics_1.shape"
      ]
    },
    {
      "cell_type": "code",
      "execution_count": null,
      "metadata": {
        "id": "pTmo8kI0FtQ8"
      },
      "outputs": [],
      "source": [
        "estimate_u0(task['field'], task['boundary'],task['sources'],\n",
        "                  task['sensors'], dt=task['dt'],ground_truth_dynamics = ground_truth_dynamics_1,\n",
        "                  n_steps=task['n_steps'],true_u0 = u0, n_epochs = 100,function_for_phys_loss= phys_loss_func,function_for_stab_loss=stab_loss_func_L2,beta = 100.0,lr=0.01)"
      ]
    },
    {
      "cell_type": "code",
      "source": [
        "estimate_u0(task['field'], task['boundary'],task['sources'],\n",
        "                  task['sensors'][20:], dt=task['dt'],ground_truth_dynamics = ground_truth_dynamics_1[20:],\n",
        "                  n_steps=task['n_steps'],true_u0 = u0, n_epochs = 100,function_for_phys_loss= phys_loss_func,function_for_stab_loss=stab_loss_func_L2,beta = 0.1,lr=0.01)"
      ],
      "metadata": {
        "id": "YuHzqIV9hxz3"
      },
      "execution_count": null,
      "outputs": []
    },
    {
      "cell_type": "code",
      "source": [
        "estimate_u0(task['field'], task['boundary'],task['sources'],\n",
        "                  task['sensors'][:5], dt=task['dt'],ground_truth_dynamics = ground_truth_dynamics_1[:5],\n",
        "                  n_steps=task['n_steps'],true_u0 = u0, n_epochs = 100,function_for_phys_loss= phys_loss_func,function_for_stab_loss=stab_loss_func_L2,beta = 0.1,lr=0.01)"
      ],
      "metadata": {
        "id": "vNeAfJBVhzbE"
      },
      "execution_count": null,
      "outputs": []
    },
    {
      "cell_type": "markdown",
      "metadata": {
        "id": "CGn-M1GtH6Iz"
      },
      "source": [
        "##Task 3\n",
        "\n",
        "$$\n",
        "L(U_0) = \\sum_{i=1}^m \\int_0^T \\big( u_{\\mathrm{mod}}^i(t) - u_{\\mathrm{obs}}^i(t) \\big)^2 \\, dt + \\beta \\int_V |U_0(x,y)| \\, dx dy\n",
        "$$"
      ]
    },
    {
      "cell_type": "code",
      "execution_count": null,
      "metadata": {
        "id": "OnurWFPdIwp1"
      },
      "outputs": [],
      "source": [
        "def stab_loss_func_L1(u0_cur,areas,beta):\n",
        "  return beta * torch.sum((abs(u0_cur)) * areas)"
      ]
    },
    {
      "cell_type": "code",
      "execution_count": null,
      "metadata": {
        "id": "rIDZRkSbJKYA"
      },
      "outputs": [],
      "source": [
        "estimate_u0(task['field'], task['boundary'],task['sources'],\n",
        "                  task['sensors'], dt=task['dt'],ground_truth_dynamics = ground_truth_dynamics_1,\n",
        "                  n_steps=task['n_steps'],true_u0 = u0, n_epochs = 100,function_for_phys_loss= phys_loss_func,function_for_stab_loss=stab_loss_func_L1,beta = 0.1,lr=0.01)"
      ]
    },
    {
      "cell_type": "markdown",
      "metadata": {
        "id": "jGU0hxLiI4_j"
      },
      "source": [
        "##Task 4\n",
        "$$\n",
        "L(U_0) = \\sum_{i=1}^m \\int_0^T w_i(t)\\big( u_{\\mathrm{mod}}^i(t) - u_{\\mathrm{obs}}^i(t) \\big)^2 \\, dt + \\beta \\int_V |U_0(x,y)| \\, dx dy\n",
        "$$\n",
        "\n",
        "$w_i(t) = \\frac{1}{t+\\alpha}$"
      ]
    },
    {
      "cell_type": "code",
      "execution_count": null,
      "metadata": {
        "id": "PcjfRg4KIY8j"
      },
      "outputs": [],
      "source": [
        "def phys_loss_func_with_modifiacation(ground_truth_dynamics,modeled_dynamics,dt,alpha = 0.01):\n",
        "\n",
        "  n_steps = ground_truth_dynamics.shape[1]\n",
        "  times = torch.arange(n_steps, dtype=torch.float32) * dt\n",
        "  weights = 1.0 / (times + alpha)\n",
        "  weights = weights.view(1, n_steps)\n",
        "  return torch.sum(torch.sum(weights*(ground_truth_dynamics - modeled_dynamics)**2, dim=1)* dt)"
      ]
    },
    {
      "cell_type": "code",
      "execution_count": null,
      "metadata": {
        "id": "4Kiwg8srJNDV"
      },
      "outputs": [],
      "source": [
        "estimate_u0(task['field'], task['boundary'],task['sources'],\n",
        "                  task['sensors'], dt=task['dt'],ground_truth_dynamics = ground_truth_dynamics_1,\n",
        "                  n_steps=task['n_steps'],true_u0 = u0, n_epochs = 100,function_for_phys_loss= phys_loss_func_with_modifiacation,function_for_stab_loss=stab_loss_func_L1,beta = 0.1,lr=0.01)"
      ]
    },
    {
      "cell_type": "markdown",
      "metadata": {
        "id": "3YMU4LdwJQjB"
      },
      "source": [
        "##Task 5\n",
        "\n",
        "Add some gaussian noise for initial data"
      ]
    },
    {
      "cell_type": "code",
      "source": [
        "noise_std = 0.1 * torch.std(ground_truth_dynamics_1)\n",
        "noise = torch.normal(mean=0.0, std=noise_std, size=ground_truth_dynamics_1.shape)\n",
        "ground_truth_dynamics_noisy = ground_truth_dynamics_1 + noise"
      ],
      "metadata": {
        "id": "gm_cb6d77dgf"
      },
      "execution_count": null,
      "outputs": []
    },
    {
      "cell_type": "code",
      "execution_count": null,
      "metadata": {
        "id": "dcLpu5foJb8C"
      },
      "outputs": [],
      "source": [
        "estimate_u0(task['field'], task['boundary'],task['sources'],\n",
        "                  task['sensors'], dt=task['dt'],ground_truth_dynamics = ground_truth_dynamics_noisy,\n",
        "                  n_steps=task['n_steps'],true_u0 = u0, n_epochs = 100,function_for_phys_loss= phys_loss_func_with_modifiacation,function_for_stab_loss=stab_loss_func_L1,beta = 0.1,lr=0.01)"
      ]
    }
  ],
  "metadata": {
    "colab": {
      "provenance": [],
      "toc_visible": true
    },
    "kernelspec": {
      "display_name": "Python 3",
      "name": "python3"
    },
    "language_info": {
      "name": "python"
    }
  },
  "nbformat": 4,
  "nbformat_minor": 0
}