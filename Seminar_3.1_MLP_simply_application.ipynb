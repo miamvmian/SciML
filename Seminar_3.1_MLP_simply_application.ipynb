version https://git-lfs.github.com/spec/v1
oid sha256:7546d451036c2db3d08f49cd9b64a42b1b1f6499f9d4561514ed717678f3033d
size 118501
