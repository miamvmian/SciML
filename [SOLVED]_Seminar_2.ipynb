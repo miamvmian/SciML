{
  "cells": [
    {
      "cell_type": "markdown",
      "metadata": {
        "id": "view-in-github",
        "colab_type": "text"
      },
      "source": [
        "<a href=\"https://colab.research.google.com/github/miamvmian/SciML/blob/main/%5BSOLVED%5D_Seminar_2.ipynb\" target=\"_parent\"><img src=\"https://colab.research.google.com/assets/colab-badge.svg\" alt=\"Open In Colab\"/></a>"
      ]
    },
    {
      "cell_type": "markdown",
      "metadata": {
        "id": "VE5D3nTpvJw3"
      },
      "source": [
        "<a href=\"https://colab.research.google.com/github/adasegroup/ML2022_seminars/blob/master/seminar10/artificial_neural_networks_solution.ipynb\" target=\"_parent\"><img src=\"https://colab.research.google.com/assets/colab-badge.svg\" alt=\"Open In Colab\"/></a>"
      ]
    },
    {
      "cell_type": "markdown",
      "metadata": {
        "id": "dKNcEMpxvJw6"
      },
      "source": [
        "# Seminar 9: Artificial neural networks, MLP, PyTorch\n",
        "Machine Learning by professor Evgeny Burnaev\n",
        "\n",
        "In this seminar we will get familiar with artificial neural networks and one of the most common frameworks to work with them --- PyTorch.\n",
        "Our humble ultimate goal will be to program and train an MLP to classify MNIST digits."
      ]
    },
    {
      "cell_type": "markdown",
      "metadata": {
        "id": "aBdSTN5gvJw6"
      },
      "source": [
        "![](https://github.com/adasegroup/ML2020_seminars/raw/master/seminar12/img/pic1.png)"
      ]
    },
    {
      "cell_type": "code",
      "execution_count": null,
      "metadata": {
        "id": "ZKGohHHKvJw7"
      },
      "outputs": [],
      "source": [
        "from IPython.display import clear_output, display\n",
        "from sklearn.metrics import confusion_matrix\n",
        "from sklearn.datasets import load_digits\n",
        "import numpy as np\n",
        "import matplotlib.pyplot as plt\n",
        "import torch\n",
        "from sklearn.model_selection import train_test_split\n",
        "from tqdm.auto import trange"
      ]
    },
    {
      "cell_type": "markdown",
      "metadata": {
        "id": "a3WmBQPrvJw8"
      },
      "source": [
        "## 1. Intro"
      ]
    },
    {
      "cell_type": "markdown",
      "metadata": {
        "id": "uXQnS5-9vJw8"
      },
      "source": [
        "An artificial neural network --- ANN or just NN, is simply a composition of functions with free 'trainable' parameters, or 'weights'.\n",
        "In this seminar, we will be talking about NNs that are feedforward, i.e don't have cyclic compositions of the functions,\n",
        "and we will be talking about them in the context of approximation tasks.\n",
        "\n",
        "More formally, for any functions $f_i$\n",
        "$$ f_1(x|w_1),\\quad f_2(x, f_1(x)|w_2),\\quad f_n(x, f_1(x), \\ldots, f_{n-1}(\\ldots)|w_n),$$\n",
        "$F(x) = f_n(\\ldots)$ is a feedforward neural network with weights $w_1,\\ldots,w_n$,\n",
        "and we will want it to approximate something, e.g another function."
      ]
    },
    {
      "cell_type": "markdown",
      "metadata": {
        "id": "PqFOBTGuvJw9"
      },
      "source": [
        "For instance, let's say that we want to find a linear fit to this:"
      ]
    },
    {
      "cell_type": "code",
      "execution_count": null,
      "metadata": {
        "colab": {
          "base_uri": "https://localhost:8080/",
          "height": 447
        },
        "id": "f_KKRX5HvJw9",
        "outputId": "f5933f9d-d12a-4f19-be0f-15c6a681ab9b"
      },
      "outputs": [
        {
          "output_type": "execute_result",
          "data": {
            "text/plain": [
              "<matplotlib.collections.PathCollection at 0x7bb46f7b3f20>"
            ]
          },
          "metadata": {},
          "execution_count": 3
        },
        {
          "output_type": "display_data",
          "data": {
            "text/plain": [
              "<Figure size 640x480 with 1 Axes>"
            ],
            "image/png": "[encoded data removed]"
          },
          "metadata": {}
        }
      ],
      "source": [
        "points_n = 100\n",
        "x = np.random.rand(points_n) * 10 - 5\n",
        "y = x * 3 + 4\n",
        "y += np.random.randn(points_n) / 2\n",
        "plt.scatter(x, y)"
      ]
    },
    {
      "cell_type": "markdown",
      "metadata": {
        "id": "psPnGUNbvJw9"
      },
      "source": [
        "We can call function $F(x) = ax + b$ a neural network with weights $a$ and $b$, and train this neural network, which means find such values of $a$ and $b$ that $F(x)$ fits the data above."
      ]
    },
    {
      "cell_type": "markdown",
      "metadata": {
        "id": "3WAE6k6rvJw9"
      },
      "source": [
        "NNs are trained with backpropagation algorithm, which is basically\n",
        "1. Calculate the value of the loss function, that represents how far from desired the output of the network is\n",
        "2. Calculate the derivative of the loss w.r.t to each trainable parameter of the network\n",
        "3. Update the values of the parameters with some rule using these derivatives\n",
        "4. Repeat steps 1-3 for N iterations, or until the loss is low enough, or something else"
      ]
    },
    {
      "cell_type": "markdown",
      "metadata": {
        "id": "5Yl3hbY2vJw9"
      },
      "source": [
        "### Exercise 1.\n",
        "Train $F(x) = ax + b$ to fit the data above. Use plain Python or NumPy, not PyTorch.\n",
        "\n",
        "More formally, we have $x_i,\\,y_i,\\,i=1,\\ldots,n_\\mathrm{pts}$\n",
        "1. Use mean squared error as the loss function $L(a, b) = \\frac{1}{n_\\mathrm{pts}}\\sum_i (F(x_i | a, b) - y_i)^2$\n",
        "2. Calculate the derivatives of the loss w.r.t to $a$ and $b$\n",
        "3. Update the weights of the network using Gradient Descent\n",
        "$$ a_\\mathrm{new} = a_\\mathrm{old} - \\lambda\\partial_a L(a_\\mathrm{old}, b_\\mathrm{old}),\\quad b_\\mathrm{new} = b_\\mathrm{old} - \\lambda\\partial_b L(a_\\mathrm{old}, b_\\mathrm{old}), $$\n",
        "where $\\lambda$ is a numerical paramer called \"learning rate\"\n",
        "4. Repeat steps 1-3 until you are satisfied with the result"
      ]
    },
    {
      "cell_type": "code",
      "execution_count": null,
      "metadata": {
        "colab": {
          "base_uri": "https://localhost:8080/",
          "height": 452
        },
        "id": "9ef1QuTpvJw9",
        "outputId": "a5bc8a50-baad-4edd-98ed-bb7f4463d405"
      },
      "outputs": [
        {
          "output_type": "display_data",
          "data": {
            "text/plain": [
              "<Figure size 640x480 with 1 Axes>"
            ],
            "image/png": "[encoded data removed]"
          },
          "metadata": {}
        }
      ],
      "source": [
        "# generate the data again\n",
        "np.random.seed(0)\n",
        "points_n = 100\n",
        "x = np.random.rand(points_n) * 10 - 5\n",
        "x.sort()  # sort points, merely for correct visualization\n",
        "y = x * 3 + 4\n",
        "y += np.random.randn(points_n) / 2\n",
        "\n",
        "# define the network and initial values of the parameters\n",
        "a = 1\n",
        "b = 2\n",
        "\n",
        "def f(x):\n",
        "    return x * a + b\n",
        "\n",
        "# visualization code\n",
        "fig = plt.figure()\n",
        "\n",
        "def visualize(fig, x, y, nn_outputs):\n",
        "    fig.clear()\n",
        "    plt.title(f'Iteration {iter_i}')\n",
        "    plt.scatter(x, y, c='tab:blue')\n",
        "    plt.plot(x, nn_outputs, c='tab:orange')\n",
        "    clear_output(wait=True)\n",
        "    display(fig)\n",
        "\n",
        "# train\n",
        "learning_rate = 1e-1\n",
        "iterations_n = 30\n",
        "\n",
        "for iter_i in range(iterations_n):\n",
        "    nn_outputs = f(x)\n",
        "\n",
        "    # calculate the derivatives\n",
        "    dl_a = 2. / points_n * np.sum((nn_outputs - y) * x)\n",
        "    dl_b = 2. / points_n * np.sum((nn_outputs - y) * 1)\n",
        "\n",
        "    # update the parameters\n",
        "    a = a - dl_a * learning_rate\n",
        "    b = b - dl_b * learning_rate\n",
        "\n",
        "    visualize(fig, x, y, nn_outputs)\n",
        "plt.close()"
      ]
    },
    {
      "cell_type": "markdown",
      "metadata": {
        "id": "FXu63-K2vJw-"
      },
      "source": [
        "### Exercise 2.\n",
        "Now try to fit this"
      ]
    },
    {
      "cell_type": "code",
      "execution_count": null,
      "metadata": {
        "colab": {
          "base_uri": "https://localhost:8080/",
          "height": 447
        },
        "id": "-lmdjUv1vJw-",
        "outputId": "f0ce35f2-feba-4887-aab9-ecb246bac514"
      },
      "outputs": [
        {
          "output_type": "execute_result",
          "data": {
            "text/plain": [
              "<matplotlib.collections.PathCollection at 0x7bb46d57dc40>"
            ]
          },
          "metadata": {},
          "execution_count": 5
        },
        {
          "output_type": "display_data",
          "data": {
            "text/plain": [
              "<Figure size 640x480 with 1 Axes>"
            ],
            "image/png": "[encoded data removed]"
          },
          "metadata": {}
        }
      ],
      "source": [
        "np.random.seed(0)\n",
        "points_n = 100\n",
        "x = np.random.rand(points_n) * np.pi*3 - np.pi*1.5\n",
        "x.sort()\n",
        "y = np.sin(x)\n",
        "y += np.random.randn(points_n) / 10\n",
        "plt.scatter(x, y)"
      ]
    },
    {
      "cell_type": "markdown",
      "metadata": {
        "id": "uOQWHtH6vJw-"
      },
      "source": [
        "with a bit more complex function $F(x) = f_3(f_2(f_1(x)))$\n",
        "\n",
        "$$f_1(x) = \\mathbf{a}_1\\,x + \\mathbf{b}_1,\\quad \\mathbf{a}_1,\\,\\mathbf{b}_1\\in\\mathbb{R}^{80}, \\\\\n",
        "f_2(\\mathbf{x})_i = \\max(0, x_i),\\quad i = 1, \\ldots, 80, \\\\\n",
        "f_3(\\mathbf{x}) = \\mathbf{a}_2\\cdot\\mathbf{x} + b_2,\\quad \\mathbf{a}_2\\in\\mathbb{R}^{80},\\,b_2\\in\\mathbb{R}.\n",
        "$$\n",
        "\n",
        "The training algorithm is the same, the main difference is calculation of derivatives."
      ]
    },
    {
      "cell_type": "code",
      "execution_count": null,
      "metadata": {
        "colab": {
          "base_uri": "https://localhost:8080/",
          "height": 452
        },
        "id": "isJh0IE3vJw-",
        "outputId": "72832426-cbf7-412b-b2ec-792a685f1db5"
      },
      "outputs": [
        {
          "output_type": "display_data",
          "data": {
            "text/plain": [
              "<Figure size 640x480 with 1 Axes>"
            ],
            "image/png": "[encoded data removed]"
          },
          "metadata": {}
        }
      ],
      "source": [
        "# define the network and initial values of the parameters\n",
        "a1 = np.random.rand(80)\n",
        "b1 = np.random.rand(80)\n",
        "a2 = np.random.rand(80)\n",
        "b2 = 1\n",
        "\n",
        "def f(x):\n",
        "    f1_out = x[..., None] * a1 + b1  # [points_n, 80]\n",
        "    f2_out = np.maximum(f1_out, 0)\n",
        "    f3_out = np.matmul(f2_out, a2) + b2\n",
        "    return f3_out\n",
        "\n",
        "# train\n",
        "learning_rate = 1e-3\n",
        "iterations_n = 1\n",
        "\n",
        "fig = plt.figure()\n",
        "\n",
        "for iter_i in range(iterations_n):\n",
        "    nn_outputs = f(x)\n",
        "\n",
        "    # calculate the derivatives\n",
        "    # Your code here\n",
        "\n",
        "    # update the parameters\n",
        "    # Your code here\n",
        "\n",
        "    if iter_i % 100 == 0:\n",
        "        visualize(fig, x, y, nn_outputs)\n",
        "plt.close()"
      ]
    },
    {
      "cell_type": "markdown",
      "metadata": {
        "id": "VnhcWHMQvJw-"
      },
      "source": [
        "Not that easy, right?\n",
        "\n",
        "The key here is to use chain rule for calculation of gradients\n",
        "$$\\frac{\\partial L}{\\partial \\mathbf{a}_1} = \\sum_i \\frac{\\partial L}{\\partial F(x_i)} \\frac{\\partial F(x_i)}{\\partial \\mathbf{a}_1},\\quad\n",
        "\\frac{\\partial F(x_i)}{\\partial \\mathbf{a}_1} = \\frac{\\partial F(x_i)}{\\partial f_3(x_i)}\\frac{\\partial f_3(x_i)}{\\partial f_2(x_i)}\\frac{\\partial f_2(x_i)}{\\partial f_1(x_i)}\\frac{\\partial f_1(x_i)}{\\partial \\mathbf{a}_1},\\quad \\text{etc},$$\n",
        "where\n",
        "$$L = \\frac{1}{n_\\mathrm{pts}}\\sum_i (F(x_i) - y_i)^2,\\\\\n",
        "F(x) = f_3(f_2(f_1(x))).$$\n",
        "\n",
        "The neural networks used for real-world tasks are composed of many more functions, and manually programming this each time would be impractical.\n",
        "Deep learning framewors like PyTorch provide a lot of preprogrammed functionality like this.\n",
        "\n",
        "Let's look at how we can use PyTorch to solve Exercise 2."
      ]
    },
    {
      "cell_type": "markdown",
      "metadata": {
        "id": "7bOeDCISvJw_"
      },
      "source": [
        "### Plan of the seminar\n",
        "1. Intro to the seminar\n",
        "2. Intro to PyTorch\n",
        "3. Automatic differentiation in PyTorch\n",
        "4. PyTorch Modules\n",
        "5. Batching\n",
        "6. Optimization\n",
        "7. Putting everything together\n",
        "8. Classifying MNIST with PyTorch"
      ]
    },
    {
      "cell_type": "markdown",
      "metadata": {
        "id": "R0Oj83vXvJw_"
      },
      "source": [
        "## 2. Intro to PyTorch"
      ]
    },
    {
      "cell_type": "markdown",
      "metadata": {
        "id": "Gw7lqdc8vJw_"
      },
      "source": [
        "PyTorch is mostly like NumPy."
      ]
    },
    {
      "cell_type": "code",
      "execution_count": null,
      "metadata": {
        "colab": {
          "base_uri": "https://localhost:8080/"
        },
        "id": "4i-6JcJkvJw_",
        "outputId": "f91f5324-177f-40d9-a187-d6fa23fbe6ac"
      },
      "outputs": [
        {
          "output_type": "execute_result",
          "data": {
            "text/plain": [
              "tensor([1., 2., 3.])"
            ]
          },
          "metadata": {},
          "execution_count": 3
        }
      ],
      "source": [
        "# in numpy\n",
        "a = np.random.rand(100)\n",
        "b = np.empty(100)\n",
        "\n",
        "np.maximum(a, np.array([0.]))\n",
        "np.matmul(a, b)\n",
        "\n",
        "np.asarray([1,2,3]).astype(np.float32)\n",
        "\n",
        "# in pytorch\n",
        "a = torch.rand(100)\n",
        "b = torch.empty(100)\n",
        "\n",
        "torch.max(a, torch.tensor([0.]))\n",
        "torch.matmul(a, b)\n",
        "\n",
        "torch.as_tensor([1,2,3]).type(torch.float32)"
      ]
    },
    {
      "cell_type": "markdown",
      "metadata": {
        "id": "1qYdeLi7vJw_"
      },
      "source": [
        "Etc.\n",
        "It is useful to look through the complete list of what there is \\[[1](https://pytorch.org/docs/stable/torch.html#math-operations), [2](https://pytorch.org/docs/stable/nn.functional.html)\\].\n",
        "For this course generally this is not necessary, but if you're going to use PyTorch for your research or the course project, there are plenty of convenient functions useful to be aware of.\n",
        "\n"
      ]
    },
    {
      "cell_type": "markdown",
      "metadata": {
        "id": "6xTq2YYHvJw_"
      },
      "source": [
        "A neat feature of PyTorch is that it is allows to accelerate computations using GPU transparently."
      ]
    },
    {
      "cell_type": "code",
      "execution_count": null,
      "metadata": {
        "colab": {
          "base_uri": "https://localhost:8080/",
          "height": 49,
          "referenced_widgets": [
            "c95822af25ea40ec927b1bc22dbab942",
            "b2becc549c1a48c89fe534470da35624",
            "2a0ee927ace04b4ba95510bc615df601",
            "ef7433204e8142479798e9781ccbfbda",
            "ee14d7340aac497eb28d5cfb336b38ea",
            "b9239ffca2264e599e7fa95d5e6311e9",
            "7262ccb5929041df9a92512d275d108c",
            "715cd58d059c42c6befe9294f5da8e32",
            "a0f2826388624031941c3fb12c35e3b5",
            "891ff0a0c928484faf5732559316e021",
            "c0f7b78757a449cda13e8b4c7e700149"
          ]
        },
        "id": "1GU75OVfvJw_",
        "outputId": "d4376d33-63ad-4f27-8625-69285c28c980"
      },
      "outputs": [
        {
          "output_type": "display_data",
          "data": {
            "text/plain": [
              "  0%|          | 0/1000 [00:00<?, ?it/s]"
            ],
            "application/vnd.jupyter.widget-view+json": {
              "version_major": 2,
              "version_minor": 0,
              "model_id": "c95822af25ea40ec927b1bc22dbab942"
            }
          },
          "metadata": {}
        }
      ],
      "source": [
        "m1 = np.random.rand(1000, 1000).astype(np.float32)\n",
        "m2 = np.random.rand(1000, 1000).astype(np.float32)\n",
        "for _ in trange(1000):\n",
        "    m1 @ m2"
      ]
    },
    {
      "cell_type": "code",
      "execution_count": null,
      "metadata": {
        "colab": {
          "base_uri": "https://localhost:8080/",
          "height": 49,
          "referenced_widgets": [
            "23159d81a21449a08b6b2303840fc203",
            "becafad076094ba085888527fc9580b4",
            "69dd7fd7369a497b909bb6c24d2a3c90",
            "719d47a30b1e40a887e77233ab1e0b6e",
            "504a77896dd74419addd3b1c3b89e1cd",
            "ddfbf8cbf1ef4e49a7ad963168300e44",
            "b658f737f37e419c931ac332789188f5",
            "306d73c5f76843e4886fafa2b56b6bbf",
            "f8113d47f1d74b5889873f51b5e1dffd",
            "12f9509441044ff5a96180627de2bcad",
            "5f12f65a966d4eb9bc3b2d1ec4b0e807"
          ]
        },
        "id": "q7I2zvKBvJxA",
        "outputId": "436696d8-632c-4e16-dbdd-9f2a14dab23f"
      },
      "outputs": [
        {
          "output_type": "display_data",
          "data": {
            "text/plain": [
              "  0%|          | 0/10000 [00:00<?, ?it/s]"
            ],
            "application/vnd.jupyter.widget-view+json": {
              "version_major": 2,
              "version_minor": 0,
              "model_id": "23159d81a21449a08b6b2303840fc203"
            }
          },
          "metadata": {}
        }
      ],
      "source": [
        "m1 = torch.rand(1000, 1000, dtype=torch.float32, device='cuda')\n",
        "m2 = torch.rand(1000, 1000, dtype=torch.float32, device='cuda')\n",
        "for _ in trange(10_000):\n",
        "    m1 @ m2"
      ]
    },
    {
      "cell_type": "markdown",
      "metadata": {
        "id": "lv963kYWvJxA"
      },
      "source": [
        "## 3. Automatic differentiation in PyTorch"
      ]
    },
    {
      "cell_type": "markdown",
      "metadata": {
        "id": "z4sWH75rvJxA"
      },
      "source": [
        "PyTorch can automatically calculate derivatives of predefined functions and their compositions.\n",
        "To indicate that we want to calculate derivative of something w.r.t some tensor, we need to set the `requires_grad` flag of this tensor to True."
      ]
    },
    {
      "cell_type": "code",
      "execution_count": null,
      "metadata": {
        "id": "gFcFXB7SvJxA"
      },
      "outputs": [],
      "source": [
        "x = torch.tensor([1.])\n",
        "x.requires_grad_()\n",
        "y = torch.sin(x)"
      ]
    },
    {
      "cell_type": "markdown",
      "metadata": {
        "id": "9xH1rhr5vJxA"
      },
      "source": [
        "To calculate $\\partial_x y(x)$ we need to call `y.backward()` (notice, not `y.backward(x)`). The value of the derivative is then stored in `x.grad`."
      ]
    },
    {
      "cell_type": "code",
      "execution_count": null,
      "metadata": {
        "colab": {
          "base_uri": "https://localhost:8080/"
        },
        "id": "qJEo5oBOvJxB",
        "outputId": "b6ad72e3-31cd-4c27-ee75-3e391cc242f3"
      },
      "outputs": [
        {
          "output_type": "stream",
          "name": "stdout",
          "text": [
            "tensor([0.5403]) == tensor([0.5403], grad_fn=<CosBackward0>)\n"
          ]
        }
      ],
      "source": [
        "y.backward()\n",
        "print(x.grad, '==', torch.cos(x))"
      ]
    },
    {
      "cell_type": "markdown",
      "metadata": {
        "id": "h5NPDueHvJxB"
      },
      "source": [
        "Same for composition of functions."
      ]
    },
    {
      "cell_type": "code",
      "execution_count": null,
      "metadata": {
        "colab": {
          "base_uri": "https://localhost:8080/"
        },
        "id": "cgBMUcQQvJxB",
        "outputId": "2a5fa9f2-5692-4024-b6e8-f3c1ffe107f9"
      },
      "outputs": [
        {
          "output_type": "stream",
          "name": "stdout",
          "text": [
            "tensor([4.]) == tensor([4.], grad_fn=<MulBackward0>)\n"
          ]
        }
      ],
      "source": [
        "x = torch.tensor([2.], requires_grad=True)\n",
        "y = x ** 2 + 1\n",
        "y.backward()\n",
        "print(x.grad, '==', 2 * x)"
      ]
    },
    {
      "cell_type": "markdown",
      "metadata": {
        "id": "eAgUM5j9vJxB"
      },
      "source": [
        "Same for multivariate functions, e.g $y = \\sum_i x_i a_i$"
      ]
    },
    {
      "cell_type": "code",
      "execution_count": null,
      "metadata": {
        "colab": {
          "base_uri": "https://localhost:8080/"
        },
        "id": "m50c0QaavJxB",
        "outputId": "a2cc61c5-bd3f-4000-b660-1b0bea3d71ad"
      },
      "outputs": [
        {
          "output_type": "stream",
          "name": "stdout",
          "text": [
            "tensor([0., 1., 2., 3., 4., 5., 6., 7., 8., 9.])\n",
            "tensor([0., 1., 2., 3., 4., 5., 6., 7., 8., 9.])\n"
          ]
        }
      ],
      "source": [
        "x = torch.ones(10, requires_grad=True)\n",
        "a = torch.arange(len(x), dtype=x.dtype)\n",
        "y = torch.sum(x * a)\n",
        "y.backward()\n",
        "\n",
        "print(x.grad)\n",
        "print(a)"
      ]
    },
    {
      "cell_type": "markdown",
      "metadata": {
        "id": "mvVFIXSEvJxB"
      },
      "source": [
        "If a tensor already has `grad` attribute, e.g from the previous call to `backward`, subsequent calls will add to the value of this attribute.\n",
        "So, if you, e.g, `backward()` in a loop, you need to explicitely set `grad` to zero each time."
      ]
    },
    {
      "cell_type": "code",
      "execution_count": null,
      "metadata": {
        "colab": {
          "base_uri": "https://localhost:8080/"
        },
        "id": "mSxOf1uFvJxC",
        "outputId": "d69e4ee0-c765-4eec-8b0a-2ed660d8ca27"
      },
      "outputs": [
        {
          "output_type": "execute_result",
          "data": {
            "text/plain": [
              "True"
            ]
          },
          "metadata": {},
          "execution_count": 10
        }
      ],
      "source": [
        "x = torch.tensor([1.], requires_grad=True)\n",
        "x.grad is None"
      ]
    },
    {
      "cell_type": "code",
      "execution_count": null,
      "metadata": {
        "colab": {
          "base_uri": "https://localhost:8080/"
        },
        "id": "sPIQLzYFvJxC",
        "outputId": "49d4b7d4-0a2d-4de5-ec18-64f2f173a6cc"
      },
      "outputs": [
        {
          "output_type": "execute_result",
          "data": {
            "text/plain": [
              "tensor([10.])"
            ]
          },
          "metadata": {},
          "execution_count": 12
        }
      ],
      "source": [
        "a = x * 2\n",
        "b = x * 3\n",
        "y = a + b  # == x * 5\n",
        "# in this case y.backward() is the same as\n",
        "a.backward()\n",
        "b.backward()\n",
        "x.grad"
      ]
    },
    {
      "cell_type": "code",
      "execution_count": null,
      "metadata": {
        "colab": {
          "base_uri": "https://localhost:8080/"
        },
        "id": "Iwf6KFqvvJxC",
        "outputId": "52d72e60-8317-4f3f-ae49-7551ebcc9eeb"
      },
      "outputs": [
        {
          "output_type": "stream",
          "name": "stdout",
          "text": [
            "True\n",
            "tensor([2.])\n",
            "tensor([5.])\n"
          ]
        }
      ],
      "source": [
        "x = torch.tensor([1.], requires_grad=True)\n",
        "print(x.grad is None)\n",
        "a = x * 2\n",
        "b = x * 3\n",
        "a.backward()\n",
        "print(x.grad)\n",
        "b.backward()\n",
        "print(x.grad)"
      ]
    },
    {
      "cell_type": "code",
      "execution_count": null,
      "metadata": {
        "colab": {
          "base_uri": "https://localhost:8080/"
        },
        "id": "tz4XSySovJxD",
        "outputId": "1cd64abf-8710-4f30-dd1d-8bd98ad69565"
      },
      "outputs": [
        {
          "output_type": "stream",
          "name": "stdout",
          "text": [
            "tensor([2.])\n",
            "tensor([4.])\n"
          ]
        }
      ],
      "source": [
        "x = torch.tensor([1.], requires_grad=True)\n",
        "for i in range(2):\n",
        "    y = x * 2\n",
        "    y.backward()\n",
        "    print(x.grad)"
      ]
    },
    {
      "cell_type": "code",
      "execution_count": null,
      "metadata": {
        "colab": {
          "base_uri": "https://localhost:8080/"
        },
        "id": "hFjCgsy3vJxD",
        "outputId": "b4b8731d-0644-47f1-bae8-5e2c03257533"
      },
      "outputs": [
        {
          "output_type": "stream",
          "name": "stdout",
          "text": [
            "tensor([2.])\n",
            "tensor([2.])\n"
          ]
        }
      ],
      "source": [
        "x = torch.tensor([1.], requires_grad=True)\n",
        "for i in range(2):\n",
        "    y = x * 2\n",
        "    y.backward()\n",
        "    print(x.grad)\n",
        "    x.grad.zero_()"
      ]
    },
    {
      "cell_type": "markdown",
      "metadata": {
        "id": "PFaMglkLvJxD"
      },
      "source": [
        "PyTorch tensors that don't require grad are transparently converted to numpy arrays.\n",
        "To convert a tensor that requires grad, we need to call its `detach` method."
      ]
    },
    {
      "cell_type": "code",
      "execution_count": null,
      "metadata": {
        "colab": {
          "base_uri": "https://localhost:8080/",
          "height": 586
        },
        "id": "W3O2--svvJxD",
        "outputId": "5040a25e-cd7a-4bac-a1a3-c7f4e4d323f2"
      },
      "outputs": [
        {
          "output_type": "error",
          "ename": "AttributeError",
          "evalue": "'Tensor' object has no attribute 'to_numpy'",
          "traceback": [
            "\u001b[0;31m---------------------------------------------------------------------------\u001b[0m",
            "\u001b[0;31mAttributeError\u001b[0m                            Traceback (most recent call last)",
            "\u001b[0;32m/tmp/ipython-input-1609518663.py\u001b[0m in \u001b[0;36m<cell line: 0>\u001b[0;34m()\u001b[0m\n\u001b[1;32m      2\u001b[0m \u001b[0;31m# plt.plot(x)  # doesn't work\u001b[0m\u001b[0;34m\u001b[0m\u001b[0;34m\u001b[0m\u001b[0m\n\u001b[1;32m      3\u001b[0m \u001b[0mplt\u001b[0m\u001b[0;34m.\u001b[0m\u001b[0mplot\u001b[0m\u001b[0;34m(\u001b[0m\u001b[0mx\u001b[0m\u001b[0;34m.\u001b[0m\u001b[0mdetach\u001b[0m\u001b[0;34m(\u001b[0m\u001b[0;34m)\u001b[0m\u001b[0;34m)\u001b[0m\u001b[0;34m\u001b[0m\u001b[0;34m\u001b[0m\u001b[0m\n\u001b[0;32m----> 4\u001b[0;31m \u001b[0mplt\u001b[0m\u001b[0;34m.\u001b[0m\u001b[0mplot\u001b[0m\u001b[0;34m(\u001b[0m\u001b[0mx\u001b[0m\u001b[0;34m.\u001b[0m\u001b[0mto_numpy\u001b[0m\u001b[0;34m(\u001b[0m\u001b[0;34m)\u001b[0m\u001b[0;34m)\u001b[0m\u001b[0;34m\u001b[0m\u001b[0;34m\u001b[0m\u001b[0m\n\u001b[0m",
            "\u001b[0;31mAttributeError\u001b[0m: 'Tensor' object has no attribute 'to_numpy'"
          ]
        },
        {
          "output_type": "display_data",
          "data": {
            "text/plain": [
              "<Figure size 640x480 with 1 Axes>"
            ],
            "image/png": "[encoded data removed]"
          },
          "metadata": {}
        }
      ],
      "source": [
        "x = torch.ones([10], requires_grad=True)\n",
        "# plt.plot(x)  # doesn't work\n",
        "plt.plot(x.detach())\n",
        "plt.plot(x.to_numpy())\n"
      ]
    },
    {
      "cell_type": "markdown",
      "metadata": {
        "id": "jnIALEJ-vJxE"
      },
      "source": [
        "## 4. PyTorch Modules"
      ]
    },
    {
      "cell_type": "markdown",
      "metadata": {
        "id": "QFkjwOk9vJxE"
      },
      "source": [
        "PyTorch offers a [variety of modules](https://pytorch.org/docs/stable/nn.html) representing different functions with already built-in trainable parameters.\n",
        "We can implement our $f_1$, $f_2$ and $f_3$ with predefined modules, that are called [Linear](https://pytorch.org/docs/stable/generated/torch.nn.Linear.html#torch.nn.Linear) and [ReLU](https://pytorch.org/docs/stable/generated/torch.nn.ReLU.html#torch.nn.ReLU).\n",
        "\n",
        "$$f_1(x) = \\mathbf{a}_1\\,x + \\mathbf{b}_1,\\quad \\mathbf{a}_1,\\,\\mathbf{b}_1\\in\\mathbb{R}^{80}, \\\\\n",
        "f_2(\\mathbf{x})_i = \\max(0, x_i),\\quad i = 1, \\ldots, 80, \\\\\n",
        "f_3(\\mathbf{x}) = \\mathbf{a}_2\\cdot\\mathbf{x} + b_2,\\quad \\mathbf{a}_2\\in\\mathbb{R}^{80},\\,b_2\\in\\mathbb{R}.\n",
        "$$"
      ]
    },
    {
      "cell_type": "code",
      "execution_count": null,
      "metadata": {
        "id": "1O-TQgMOvJxE"
      },
      "outputs": [],
      "source": [
        "# a1 = torch.rand(80, requires_grad=True)\n",
        "# b1 = torch.rand(80, requires_grad=True)\n",
        "# a2 = torch.rand(80, requires_grad=True)\n",
        "# b2 = torch.rand(1, requires_grad=True)\n",
        "# def f(x):\n",
        "#     f1_out = x[..., None] * a1 + b1\n",
        "#     f2_out = torch.max(f1_out, torch.tensor([0.]))\n",
        "#     f3_out = torch.matmul(f2_out, a2) + b2\n",
        "#     return f3_out\n",
        "\n",
        "\n",
        "f1 = torch.nn.Linear(1, 80, bias=True)\n",
        "f2 = torch.nn.ReLU()\n",
        "f3 = torch.nn.Linear(80, 1, bias=True)\n",
        "\n",
        "def f(x):\n",
        "    return f3(f2(f1(x)))"
      ]
    },
    {
      "cell_type": "code",
      "execution_count": null,
      "metadata": {
        "colab": {
          "base_uri": "https://localhost:8080/"
        },
        "id": "xxCpTs3lvJxE",
        "outputId": "84eccb67-4ee2-48b1-f38b-88d619a3e063"
      },
      "outputs": [
        {
          "output_type": "execute_result",
          "data": {
            "text/plain": [
              "(torch.Size([80, 1]), torch.Size([80]))"
            ]
          },
          "metadata": {},
          "execution_count": 25
        }
      ],
      "source": [
        "a, b = list(f1.parameters())\n",
        "a.shape, b.shape"
      ]
    },
    {
      "cell_type": "code",
      "source": [
        "x.shape"
      ],
      "metadata": {
        "id": "8jtOAZ-sa6RX",
        "outputId": "9b1da1fb-f524-4506-bb5a-0fea44473724",
        "colab": {
          "base_uri": "https://localhost:8080/"
        }
      },
      "execution_count": null,
      "outputs": [
        {
          "output_type": "execute_result",
          "data": {
            "text/plain": [
              "torch.Size([10])"
            ]
          },
          "metadata": {},
          "execution_count": 30
        }
      ]
    },
    {
      "cell_type": "code",
      "source": [
        "f1(x.reshape(-1, 1)).shape"
      ],
      "metadata": {
        "id": "V3vV9xJBalZ7",
        "outputId": "8d344a43-eca6-4d7f-ae63-55e3d6585556",
        "colab": {
          "base_uri": "https://localhost:8080/"
        }
      },
      "execution_count": null,
      "outputs": [
        {
          "output_type": "execute_result",
          "data": {
            "text/plain": [
              "torch.Size([10, 80])"
            ]
          },
          "metadata": {},
          "execution_count": 29
        }
      ]
    },
    {
      "cell_type": "markdown",
      "metadata": {
        "id": "0GhLOa9zvJxE"
      },
      "source": [
        "Another convenient way of stacking the modules is with [Sequential](https://pytorch.org/docs/stable/generated/torch.nn.Sequential.html#torch.nn.Sequential)"
      ]
    },
    {
      "cell_type": "code",
      "execution_count": null,
      "metadata": {
        "colab": {
          "base_uri": "https://localhost:8080/"
        },
        "id": "tOzF3HB8vJxE",
        "outputId": "92ac3ca7-7a47-42e9-b24d-3f6dbdd6838f"
      },
      "outputs": [
        {
          "output_type": "execute_result",
          "data": {
            "text/plain": [
              "4"
            ]
          },
          "metadata": {},
          "execution_count": 38
        }
      ],
      "source": [
        "# def f(x):\n",
        "#     return f3(f2(f1(x)))\n",
        "\n",
        "f = torch.nn.Sequential(\n",
        "    torch.nn.Linear(1, 80, bias=True),\n",
        "    torch.nn.ReLU(),\n",
        "    torch.nn.Linear(80, 1, bias=True)\n",
        ")\n",
        "len(list(f.parameters()))"
      ]
    },
    {
      "cell_type": "markdown",
      "metadata": {
        "id": "8TaQouM0vJxE"
      },
      "source": [
        "Another set of useful modules is [Loss functions](https://pytorch.org/docs/stable/nn.html#loss-functions).\n",
        "For Exercise 2 we will need [MSELoss](https://pytorch.org/docs/stable/generated/torch.nn.MSELoss.html#torch.nn.MSELoss)\n",
        "\n",
        "$$L = \\frac{1}{n_\\mathrm{pts}}\\sum_i (F(x_i) - y_i)^2.$$"
      ]
    },
    {
      "cell_type": "code",
      "execution_count": null,
      "metadata": {
        "colab": {
          "base_uri": "https://localhost:8080/"
        },
        "id": "_t5htoRwvJxE",
        "outputId": "e34340f8-1532-4d86-f0f6-3d78a6196eb3"
      },
      "outputs": [
        {
          "output_type": "execute_result",
          "data": {
            "text/plain": [
              "tensor(4.)"
            ]
          },
          "metadata": {},
          "execution_count": 31
        }
      ],
      "source": [
        "loss_function = torch.nn.MSELoss()\n",
        "nn_outputs = torch.ones(100) * 2\n",
        "y = torch.zeros(100)\n",
        "loss_function(nn_outputs, y)"
      ]
    },
    {
      "cell_type": "code",
      "source": [
        "nn_outputs"
      ],
      "metadata": {
        "id": "RRx7_Cz0bK2t",
        "outputId": "5141d0fa-fecc-4b00-8ee7-ca12b794ef86",
        "colab": {
          "base_uri": "https://localhost:8080/"
        }
      },
      "execution_count": null,
      "outputs": [
        {
          "output_type": "execute_result",
          "data": {
            "text/plain": [
              "tensor([2., 2., 2., 2., 2., 2., 2., 2., 2., 2., 2., 2., 2., 2., 2., 2., 2., 2.,\n",
              "        2., 2., 2., 2., 2., 2., 2., 2., 2., 2., 2., 2., 2., 2., 2., 2., 2., 2.,\n",
              "        2., 2., 2., 2., 2., 2., 2., 2., 2., 2., 2., 2., 2., 2., 2., 2., 2., 2.,\n",
              "        2., 2., 2., 2., 2., 2., 2., 2., 2., 2., 2., 2., 2., 2., 2., 2., 2., 2.,\n",
              "        2., 2., 2., 2., 2., 2., 2., 2., 2., 2., 2., 2., 2., 2., 2., 2., 2., 2.,\n",
              "        2., 2., 2., 2., 2., 2., 2., 2., 2., 2.])"
            ]
          },
          "metadata": {},
          "execution_count": 32
        }
      ]
    },
    {
      "cell_type": "markdown",
      "metadata": {
        "id": "_yHofHVqvJxE"
      },
      "source": [
        "## 5. Batching"
      ]
    },
    {
      "cell_type": "markdown",
      "metadata": {
        "id": "6dAMePxnvJxE"
      },
      "source": [
        "The inteface of PyTorch modules allows for some batch dimensions in the input data, along which the module acts independently and in parallel.\n",
        "For instance, [Linear](https://pytorch.org/docs/stable/generated/torch.nn.Linear.html#torch.nn.Linear) and [ReLU](https://pytorch.org/docs/stable/generated/torch.nn.ReLU.html#torch.nn.ReLU) allow for any number of batch dimensions."
      ]
    },
    {
      "cell_type": "code",
      "execution_count": null,
      "metadata": {
        "colab": {
          "base_uri": "https://localhost:8080/"
        },
        "id": "DU3P8e1SvJxF",
        "outputId": "be30ef92-2af6-4ea3-d8aa-4cc88a98b40b"
      },
      "outputs": [
        {
          "output_type": "execute_result",
          "data": {
            "text/plain": [
              "torch.Size([80])"
            ]
          },
          "metadata": {},
          "execution_count": 39
        }
      ],
      "source": [
        "f1 = torch.nn.Linear(1, 80, bias=True)\n",
        "\n",
        "x = torch.rand(1)\n",
        "f1(x).shape"
      ]
    },
    {
      "cell_type": "code",
      "execution_count": null,
      "metadata": {
        "colab": {
          "base_uri": "https://localhost:8080/"
        },
        "id": "g7TOhHuUvJxF",
        "outputId": "1543df52-c32b-4199-ef6f-ddbb50f9b047"
      },
      "outputs": [
        {
          "output_type": "execute_result",
          "data": {
            "text/plain": [
              "torch.Size([2, 3, 5, 80])"
            ]
          },
          "metadata": {},
          "execution_count": 40
        }
      ],
      "source": [
        "x = torch.rand(2, 3, 5, 1)\n",
        "f1(x).shape"
      ]
    },
    {
      "cell_type": "code",
      "execution_count": null,
      "metadata": {
        "colab": {
          "base_uri": "https://localhost:8080/",
          "height": 447
        },
        "id": "GyyK4y2kvJxF",
        "outputId": "c7eba341-93fb-4efb-ad47-4091b806c635"
      },
      "outputs": [
        {
          "output_type": "execute_result",
          "data": {
            "text/plain": [
              "(torch.Size([100]), torch.Size([100]))"
            ]
          },
          "metadata": {},
          "execution_count": 35
        },
        {
          "output_type": "display_data",
          "data": {
            "text/plain": [
              "<Figure size 640x480 with 1 Axes>"
            ],
            "image/png": "[encoded data removed]"
          },
          "metadata": {}
        }
      ],
      "source": [
        "# generate data\n",
        "torch.manual_seed(0)\n",
        "points_n = 100\n",
        "x = torch.rand(points_n, dtype=torch.float32) * np.pi * 3 - np.pi * 1.5\n",
        "x = x.sort()[0]\n",
        "y = torch.sin(x)\n",
        "y += torch.randn(points_n) / 10\n",
        "plt.scatter(x, y)\n",
        "\n",
        "x.shape, y.shape"
      ]
    },
    {
      "cell_type": "markdown",
      "metadata": {
        "id": "KtpkIvLavJxF"
      },
      "source": [
        "The number of points `points_n` corresponds to the batch dimension, since we want to calculate the output of the network for each point independently\n",
        "\n",
        "$$L = \\frac{1}{n_\\mathrm{pts}}\\sum_i (F(x_i) - y_i)^2.$$"
      ]
    },
    {
      "cell_type": "code",
      "execution_count": null,
      "metadata": {
        "colab": {
          "base_uri": "https://localhost:8080/"
        },
        "id": "_-1YkmINvJxF",
        "outputId": "a4d51afc-c6af-4581-ee66-8153604d2895"
      },
      "outputs": [
        {
          "output_type": "execute_result",
          "data": {
            "text/plain": [
              "(torch.Size([100, 1]), torch.Size([100, 1]))"
            ]
          },
          "metadata": {},
          "execution_count": 36
        }
      ],
      "source": [
        "x = x[..., None]  # add data dimension\n",
        "y = y[..., None]\n",
        "x.shape, y.shape"
      ]
    },
    {
      "cell_type": "markdown",
      "metadata": {
        "id": "NOuNKGvWvJxF"
      },
      "source": [
        "## 6. Optimization"
      ]
    },
    {
      "cell_type": "markdown",
      "metadata": {
        "id": "bFwGNLcjvJxF"
      },
      "source": [
        "PyTorch has implementions of different [optimization algorithms](https://pytorch.org/docs/stable/optim.html), or optimizers, for updating the weights of the neural network.\n",
        "Today we use [Gradient Descent](https://pytorch.org/docs/stable/optim.html#torch.optim.SGD).\n",
        "\n",
        "The way use an optimizer is to"
      ]
    },
    {
      "cell_type": "code",
      "execution_count": null,
      "metadata": {
        "id": "WpHkOUIQvJxF"
      },
      "outputs": [],
      "source": [
        "# 1. Initialize it, setting the learning rate and the optimized parameters\n",
        "optimizer = torch.optim.SGD(f.parameters(), lr=1e-3)\n",
        "\n",
        "# 2. At each training step we need to zero the gradients of the parameters --- optimizer can do this for us\n",
        "optimizer.zero_grad()\n",
        "\n",
        "# 3. Update the parameters\n",
        "optimizer.step()"
      ]
    },
    {
      "cell_type": "markdown",
      "metadata": {
        "id": "yrHcb7vVvJxF"
      },
      "source": [
        "## 7. Putting everything together"
      ]
    },
    {
      "cell_type": "markdown",
      "metadata": {
        "id": "mwjiXTcKvJxF"
      },
      "source": [
        "Let's try doing the Exercise 2 with PyTorch.\n",
        "\n",
        "### Exercise 2.5.\n",
        "Fit the data with the function $F(x) = f_3(f_2(f_1(x)))$\n",
        "\n",
        "$$f_1(x) = \\mathbf{a}_1\\,x + \\mathbf{b}_1,\\quad \\mathbf{a}_1,\\,\\mathbf{b}_1\\in\\mathbb{R}^{80}, \\\\\n",
        "f_2(\\mathbf{x})_i = \\max(0, x_i),\\quad i = 1, \\ldots, 80, \\\\\n",
        "f_3(\\mathbf{x}) = \\mathbf{a}_2\\cdot\\mathbf{x} + b_2,\\quad \\mathbf{a}_2\\in\\mathbb{R}^{80},\\,b_2\\in\\mathbb{R}.\n",
        "$$"
      ]
    },
    {
      "cell_type": "code",
      "execution_count": null,
      "metadata": {
        "colab": {
          "base_uri": "https://localhost:8080/",
          "height": 430
        },
        "id": "hkDD9ThqvJxF",
        "outputId": "46f8dece-a754-4b0a-f931-ca0aaebdaae4"
      },
      "outputs": [
        {
          "output_type": "display_data",
          "data": {
            "text/plain": [
              "<Figure size 640x480 with 1 Axes>"
            ],
            "image/png": "[encoded data removed]"
          },
          "metadata": {}
        }
      ],
      "source": [
        "torch.manual_seed(0)\n",
        "points_n = 100\n",
        "x = torch.rand(points_n, dtype=torch.float32) * np.pi * 3 - np.pi * 1.5\n",
        "x = x.sort()[0]\n",
        "y = torch.sin(x)\n",
        "y += torch.randn(points_n) / 10\n",
        "plt.scatter(x, y)\n",
        "\n",
        "x = x[..., None]\n",
        "y = y[..., None]"
      ]
    },
    {
      "cell_type": "code",
      "execution_count": null,
      "metadata": {
        "colab": {
          "base_uri": "https://localhost:8080/",
          "height": 452
        },
        "id": "BAKfwo0rvJxF",
        "outputId": "11935b1a-daf5-4f79-9d1b-fe21086a6524"
      },
      "outputs": [
        {
          "output_type": "display_data",
          "data": {
            "text/plain": [
              "<Figure size 640x480 with 1 Axes>"
            ],
            "image/png": "[encoded data removed]"
          },
          "metadata": {}
        }
      ],
      "source": [
        "hidden_dim_size = 80\n",
        "net = torch.nn.Sequential(\n",
        "    torch.nn.Linear(1, hidden_dim_size, bias=True),\n",
        "    torch.nn.ReLU(),\n",
        "    torch.nn.Linear(hidden_dim_size, 1, bias=True)\n",
        ")\n",
        "optimizer = torch.optim.SGD(net.parameters(), lr=1e-3)\n",
        "loss_function = torch.nn.MSELoss()\n",
        "fig = plt.figure()\n",
        "\n",
        "for iter_i in range(10_000):\n",
        "    nn_outputs = net(x)\n",
        "    loss = loss_function(nn_outputs, y)\n",
        "    optimizer.zero_grad()\n",
        "    loss.backward()\n",
        "    optimizer.step()\n",
        "    if iter_i % 100 == 0:\n",
        "        visualize(fig, x, y, nn_outputs.detach())\n",
        "plt.close()"
      ]
    },
    {
      "cell_type": "markdown",
      "metadata": {
        "id": "U7Z9JKoCvJxF"
      },
      "source": [
        "## 8. Classifying MNIST with PyTorch"
      ]
    },
    {
      "cell_type": "markdown",
      "metadata": {
        "id": "y83yncmEvJxF"
      },
      "source": [
        "MNIST is a dataset of images with handwritten digits.\n",
        "Each image is labeled with the corresponding number.\n",
        "We'll play around with a toy version of this dataset which has ~2k 8x8 images."
      ]
    },
    {
      "cell_type": "code",
      "execution_count": null,
      "metadata": {
        "colab": {
          "base_uri": "https://localhost:8080/",
          "height": 251
        },
        "id": "rKHBZGQfvJxF",
        "outputId": "06dca905-1935-4024-a03b-84f66cb1ac6a"
      },
      "outputs": [
        {
          "output_type": "execute_result",
          "data": {
            "text/plain": [
              "array([[0, 1, 2, 3, 4, 5, 6, 7, 8, 9],\n",
              "       [0, 1, 2, 3, 4, 5, 6, 7, 8, 9]])"
            ]
          },
          "metadata": {},
          "execution_count": 30
        },
        {
          "output_type": "display_data",
          "data": {
            "text/plain": [
              "<Figure size 1000x200 with 1 Axes>"
            ],
            "image/png": "[encoded data removed]"
          },
          "metadata": {}
        }
      ],
      "source": [
        "images, targets = load_digits(return_X_y=True)\n",
        "\n",
        "grid = np.pad(images[:20].reshape(20, 8, 8), [[0, 0], [3, 3], [3, 3]]).reshape(2, 10, 14, 14).swapaxes(1, 2).reshape(28, -1)\n",
        "plt.figure(figsize=(10, 2))\n",
        "plt.imshow(grid, cmap='gray_r')\n",
        "targets[:20].reshape(2, 10)"
      ]
    },
    {
      "cell_type": "markdown",
      "metadata": {
        "id": "v4DTljp2vJxG"
      },
      "source": [
        "Let's prepare the data for further work."
      ]
    },
    {
      "cell_type": "code",
      "execution_count": null,
      "metadata": {
        "id": "dWFdeVNBvJxG"
      },
      "outputs": [],
      "source": [
        "images_train, images_test, targets_train, targets_test = train_test_split(images, targets, random_state=0)\n",
        "images_train = torch.from_numpy(images_train.astype(np.float32))\n",
        "images_test = torch.from_numpy(images_test.astype(np.float32))\n",
        "targets_train = torch.from_numpy(targets_train)\n",
        "targets_test = torch.from_numpy(targets_test)"
      ]
    },
    {
      "cell_type": "markdown",
      "metadata": {
        "id": "_bvTrwkzvJxG"
      },
      "source": [
        "We will unroll each image into an array of 64 values and will train our $F(x)$ from above to predict an array of 10 values, each corresponding to probability of the image depicting the respective digit.\n",
        "\n",
        "More formally, $F(\\mathbf{x}) = f_3(f_2(f_1(\\mathbf{x}))),\\quad \\mathbf{x}\\in\\mathbb{R}^{64}$,\n",
        "$$f_1(\\mathbf{x}) = A_1\\cdot \\mathbf{x} + \\mathbf{b}_1,\\quad A_1\\in\\mathbb{R}^{80\\times 64},\\quad \\mathbf{b}_1\\in\\mathbb{R}^{80}, \\\\\n",
        "f_2(\\mathbf{x})_i = \\max(0, x_i),\\quad i = 1, \\ldots, 80, \\\\\n",
        "f_3(\\mathbf{x}) = A_2\\cdot\\mathbf{x} + \\mathbf{b}_2,\\quad A_2\\in\\mathbb{R}^{10\\times 80},\\,\\mathbf{b}_2\\in\\mathbb{R}^{10}.\n",
        "$$"
      ]
    },
    {
      "cell_type": "code",
      "execution_count": null,
      "metadata": {
        "id": "dgpEzTvFvJxG"
      },
      "outputs": [],
      "source": [
        "hidden_dim_size = 80\n",
        "input_size = 8 * 8\n",
        "number_of_classes = 10\n",
        "net = torch.nn.Sequential(\n",
        "    torch.nn.Linear(input_size, hidden_dim_size, bias=True),\n",
        "    torch.nn.ReLU(),\n",
        "    torch.nn.Linear(hidden_dim_size, number_of_classes, bias=True)\n",
        ")"
      ]
    },
    {
      "cell_type": "markdown",
      "metadata": {
        "id": "aPr1lxW2vJxG"
      },
      "source": [
        "Since we want to get probablities $p_i$ of different digits out of the network,\n",
        "we will pass the output of the network to softmax function\n",
        "$$\\mathrm{SoftMax}(\\mathbf{x})_i = \\frac{e^{x_i}}{\\sum_j e^{x_j}}$$\n",
        "to enforce the properties of probabilities,\n",
        "i.e $0 \\le p_i \\le 1$, $\\sum_i p_i = 1$."
      ]
    },
    {
      "cell_type": "code",
      "execution_count": null,
      "metadata": {
        "colab": {
          "base_uri": "https://localhost:8080/"
        },
        "id": "O8wRDon1vJxG",
        "outputId": "27468625-bb84-4fcc-81ce-244b40c4e677"
      },
      "outputs": [
        {
          "output_type": "execute_result",
          "data": {
            "text/plain": [
              "tensor([[ 2.6518,  0.4515,  0.9352,  0.2147,  0.4282,  0.6581, -3.6361, -1.9907,\n",
              "          3.2216, -1.1466],\n",
              "        [ 2.0977,  1.6607,  2.6291,  2.1919,  0.8841,  1.7786, -0.7675, -1.9802,\n",
              "          1.9287, -1.2167]], grad_fn=<AddmmBackward0>)"
            ]
          },
          "metadata": {},
          "execution_count": 33
        }
      ],
      "source": [
        "net_outputs = net(images_train[:2])\n",
        "net_outputs"
      ]
    },
    {
      "cell_type": "code",
      "execution_count": null,
      "metadata": {
        "colab": {
          "base_uri": "https://localhost:8080/"
        },
        "id": "IYsW9-jjvJxG",
        "outputId": "050df0c3-cdbb-47f4-c174-b4c6bc28c3d6"
      },
      "outputs": [
        {
          "output_type": "stream",
          "name": "stdout",
          "text": [
            "tensor(False)\n",
            "tensor([1.7878, 9.2066], grad_fn=<SumBackward1>)\n"
          ]
        }
      ],
      "source": [
        "print(torch.all((0 <= net_outputs) & (net_outputs <= 1)))\n",
        "print(net_outputs.sum(dim=-1))"
      ]
    },
    {
      "cell_type": "code",
      "execution_count": null,
      "metadata": {
        "colab": {
          "base_uri": "https://localhost:8080/"
        },
        "id": "uf6UIsy0vJxG",
        "outputId": "5ba11e0e-53f0-4daa-ece2-fe21c0749427"
      },
      "outputs": [
        {
          "output_type": "stream",
          "name": "stdout",
          "text": [
            "tensor(True)\n",
            "tensor([1.0000, 1.0000], grad_fn=<SumBackward1>)\n"
          ]
        }
      ],
      "source": [
        "softmax = torch.nn.Softmax(dim=-1)\n",
        "probabilities = softmax(net_outputs)\n",
        "\n",
        "print(torch.all((0 <= probabilities) & (probabilities <= 1)))\n",
        "print(probabilities.sum(dim=-1))"
      ]
    },
    {
      "cell_type": "markdown",
      "metadata": {
        "id": "uXmY7oFHvJxG"
      },
      "source": [
        "We then just take the index of maximal predicted probability"
      ]
    },
    {
      "cell_type": "code",
      "execution_count": null,
      "metadata": {
        "colab": {
          "base_uri": "https://localhost:8080/"
        },
        "id": "qVUibMBbvJxG",
        "outputId": "31e91833-4ef9-48a2-ea37-bdcce82bfb33"
      },
      "outputs": [
        {
          "output_type": "execute_result",
          "data": {
            "text/plain": [
              "tensor([8, 2])"
            ]
          },
          "metadata": {},
          "execution_count": 36
        }
      ],
      "source": [
        "max_probabilies, ids_of_max_probabilities = probabilities.max(dim=-1)\n",
        "ids_of_max_probabilities"
      ]
    },
    {
      "cell_type": "markdown",
      "metadata": {
        "id": "ARrFawzdvJxG"
      },
      "source": [
        "Instead of MSELoss, that we used for regression, we will use [CrossEntropyLoss](https://pytorch.org/docs/stable/generated/torch.nn.CrossEntropyLoss.html#torch.nn.CrossEntropyLoss), suitable for multi-class classification.\n",
        "As the input it takes raw outputs of the network and the target class labels."
      ]
    },
    {
      "cell_type": "code",
      "execution_count": null,
      "metadata": {
        "colab": {
          "base_uri": "https://localhost:8080/"
        },
        "id": "UOAQJmj_vJxG",
        "outputId": "7fa42c80-c7fd-4932-f190-c27c0c26f5db"
      },
      "outputs": [
        {
          "output_type": "execute_result",
          "data": {
            "text/plain": [
              "tensor(2.4883, grad_fn=<NllLossBackward0>)"
            ]
          },
          "metadata": {},
          "execution_count": 37
        }
      ],
      "source": [
        "loss_function = torch.nn.CrossEntropyLoss()\n",
        "\n",
        "loss_function(net_outputs, targets_train[:2])"
      ]
    },
    {
      "cell_type": "markdown",
      "metadata": {
        "id": "Vfr4TbkLvJxH"
      },
      "source": [
        "### Exercise 3.\n",
        "Let's put everything together and try to train our network."
      ]
    },
    {
      "cell_type": "code",
      "execution_count": null,
      "metadata": {
        "colab": {
          "base_uri": "https://localhost:8080/",
          "height": 440
        },
        "id": "leEErOfLvJxH",
        "outputId": "4158f106-a0c0-44ca-fb64-a3a3e52fafd2"
      },
      "outputs": [
        {
          "output_type": "display_data",
          "data": {
            "text/plain": [
              "<Figure size 1000x500 with 2 Axes>"
            ],
            "image/png": "[encoded data removed]"
          },
          "metadata": {}
        }
      ],
      "source": [
        "# define the network\n",
        "hidden_dim_size = 80\n",
        "input_size = 8 * 8\n",
        "number_of_classes = 10\n",
        "net = torch.nn.Sequential(\n",
        "    torch.nn.Linear(input_size, hidden_dim_size, bias=True),\n",
        "    torch.nn.ReLU(),\n",
        "    torch.nn.Linear(hidden_dim_size, number_of_classes, bias=True)\n",
        ")\n",
        "\n",
        "# use the same optimizer as before\n",
        "optimizer = torch.optim.SGD(net.parameters(), lr=1e-3)\n",
        "\n",
        "# use the cross entropy loss function\n",
        "loss_function = torch.nn.CrossEntropyLoss()\n",
        "\n",
        "# for monitoring we'll use confusion matrices on the train and test sets\n",
        "fig, [ax_train, ax_test] = plt.subplots(1, 2, figsize=[10, 5])\n",
        "\n",
        "def visualize():\n",
        "    ax_train.clear()\n",
        "    ax_train.set_title(f'Iteration {iter_i}, train')\n",
        "    ax_train.matshow(confusion_matrix(targets_train, get_predicted_classes(images_train)))\n",
        "    ax_test.set_title(f'test')\n",
        "    ax_test.matshow(confusion_matrix(targets_test, get_predicted_classes(images_test)))\n",
        "    clear_output(wait=True)\n",
        "    display(fig)\n",
        "\n",
        "def get_predicted_classes(images):\n",
        "    return softmax(net(images).detach()).max(dim=-1)[1]\n",
        "\n",
        "iters_n = 1000\n",
        "for iter_i in range(iters_n):\n",
        "    nn_outputs = net(images_train)\n",
        "    loss = loss_function(nn_outputs, targets_train)\n",
        "    optimizer.zero_grad()\n",
        "    loss.backward()\n",
        "    optimizer.step()\n",
        "    if iter_i % 10 == 0:\n",
        "        visualize()\n",
        "plt.close()"
      ]
    },
    {
      "cell_type": "code",
      "source": [
        "torch.nn.Softmax(dim=-1)(net(images_train[:2])).argmax(axis=-1)"
      ],
      "metadata": {
        "id": "CsSK_gD5hzas"
      },
      "execution_count": null,
      "outputs": []
    }
  ],
  "metadata": {
    "kernelspec": {
      "display_name": "Python 3",
      "name": "python3"
    },
    "language_info": {
      "codemirror_mode": {
        "name": "ipython",
        "version": 3
      },
      "file_extension": ".py",
      "mimetype": "text/x-python",
      "name": "python",
      "nbconvert_exporter": "python",
      "pygments_lexer": "ipython3",
      "version": "3.7.9"
    },
    "colab": {
      "provenance": [],
      "gpuType": "T4",
      "include_colab_link": true
    },
    "accelerator": "GPU",
    "widgets": {
      "application/vnd.jupyter.widget-state+json": {
        "c95822af25ea40ec927b1bc22dbab942": {
          "model_module": "@jupyter-widgets/controls",
          "model_name": "HBoxModel",
          "model_module_version": "1.5.0",
          "state": {
            "_dom_classes": [],
            "_model_module": "@jupyter-widgets/controls",
            "_model_module_version": "1.5.0",
            "_model_name": "HBoxModel",
            "_view_count": null,
            "_view_module": "@jupyter-widgets/controls",
            "_view_module_version": "1.5.0",
            "_view_name": "HBoxView",
            "box_style": "",
            "children": [
              "IPY_MODEL_b2becc549c1a48c89fe534470da35624",
              "IPY_MODEL_2a0ee927ace04b4ba95510bc615df601",
              "IPY_MODEL_ef7433204e8142479798e9781ccbfbda"
            ],
            "layout": "IPY_MODEL_ee14d7340aac497eb28d5cfb336b38ea"
          }
        },
        "b2becc549c1a48c89fe534470da35624": {
          "model_module": "@jupyter-widgets/controls",
          "model_name": "HTMLModel",
          "model_module_version": "1.5.0",
          "state": {
            "_dom_classes": [],
            "_model_module": "@jupyter-widgets/controls",
            "_model_module_version": "1.5.0",
            "_model_name": "HTMLModel",
            "_view_count": null,
            "_view_module": "@jupyter-widgets/controls",
            "_view_module_version": "1.5.0",
            "_view_name": "HTMLView",
            "description": "",
            "description_tooltip": null,
            "layout": "IPY_MODEL_b9239ffca2264e599e7fa95d5e6311e9",
            "placeholder": "​",
            "style": "IPY_MODEL_7262ccb5929041df9a92512d275d108c",
            "value": "100%"
          }
        },
        "2a0ee927ace04b4ba95510bc615df601": {
          "model_module": "@jupyter-widgets/controls",
          "model_name": "FloatProgressModel",
          "model_module_version": "1.5.0",
          "state": {
            "_dom_classes": [],
            "_model_module": "@jupyter-widgets/controls",
            "_model_module_version": "1.5.0",
            "_model_name": "FloatProgressModel",
            "_view_count": null,
            "_view_module": "@jupyter-widgets/controls",
            "_view_module_version": "1.5.0",
            "_view_name": "ProgressView",
            "bar_style": "success",
            "description": "",
            "description_tooltip": null,
            "layout": "IPY_MODEL_715cd58d059c42c6befe9294f5da8e32",
            "max": 1000,
            "min": 0,
            "orientation": "horizontal",
            "style": "IPY_MODEL_a0f2826388624031941c3fb12c35e3b5",
            "value": 1000
          }
        },
        "ef7433204e8142479798e9781ccbfbda": {
          "model_module": "@jupyter-widgets/controls",
          "model_name": "HTMLModel",
          "model_module_version": "1.5.0",
          "state": {
            "_dom_classes": [],
            "_model_module": "@jupyter-widgets/controls",
            "_model_module_version": "1.5.0",
            "_model_name": "HTMLModel",
            "_view_count": null,
            "_view_module": "@jupyter-widgets/controls",
            "_view_module_version": "1.5.0",
            "_view_name": "HTMLView",
            "description": "",
            "description_tooltip": null,
            "layout": "IPY_MODEL_891ff0a0c928484faf5732559316e021",
            "placeholder": "​",
            "style": "IPY_MODEL_c0f7b78757a449cda13e8b4c7e700149",
            "value": " 1000/1000 [00:20&lt;00:00, 59.17it/s]"
          }
        },
        "ee14d7340aac497eb28d5cfb336b38ea": {
          "model_module": "@jupyter-widgets/base",
          "model_name": "LayoutModel",
          "model_module_version": "1.2.0",
          "state": {
            "_model_module": "@jupyter-widgets/base",
            "_model_module_version": "1.2.0",
            "_model_name": "LayoutModel",
            "_view_count": null,
            "_view_module": "@jupyter-widgets/base",
            "_view_module_version": "1.2.0",
            "_view_name": "LayoutView",
            "align_content": null,
            "align_items": null,
            "align_self": null,
            "border": null,
            "bottom": null,
            "display": null,
            "flex": null,
            "flex_flow": null,
            "grid_area": null,
            "grid_auto_columns": null,
            "grid_auto_flow": null,
            "grid_auto_rows": null,
            "grid_column": null,
            "grid_gap": null,
            "grid_row": null,
            "grid_template_areas": null,
            "grid_template_columns": null,
            "grid_template_rows": null,
            "height": null,
            "justify_content": null,
            "justify_items": null,
            "left": null,
            "margin": null,
            "max_height": null,
            "max_width": null,
            "min_height": null,
            "min_width": null,
            "object_fit": null,
            "object_position": null,
            "order": null,
            "overflow": null,
            "overflow_x": null,
            "overflow_y": null,
            "padding": null,
            "right": null,
            "top": null,
            "visibility": null,
            "width": null
          }
        },
        "b9239ffca2264e599e7fa95d5e6311e9": {
          "model_module": "@jupyter-widgets/base",
          "model_name": "LayoutModel",
          "model_module_version": "1.2.0",
          "state": {
            "_model_module": "@jupyter-widgets/base",
            "_model_module_version": "1.2.0",
            "_model_name": "LayoutModel",
            "_view_count": null,
            "_view_module": "@jupyter-widgets/base",
            "_view_module_version": "1.2.0",
            "_view_name": "LayoutView",
            "align_content": null,
            "align_items": null,
            "align_self": null,
            "border": null,
            "bottom": null,
            "display": null,
            "flex": null,
            "flex_flow": null,
            "grid_area": null,
            "grid_auto_columns": null,
            "grid_auto_flow": null,
            "grid_auto_rows": null,
            "grid_column": null,
            "grid_gap": null,
            "grid_row": null,
            "grid_template_areas": null,
            "grid_template_columns": null,
            "grid_template_rows": null,
            "height": null,
            "justify_content": null,
            "justify_items": null,
            "left": null,
            "margin": null,
            "max_height": null,
            "max_width": null,
            "min_height": null,
            "min_width": null,
            "object_fit": null,
            "object_position": null,
            "order": null,
            "overflow": null,
            "overflow_x": null,
            "overflow_y": null,
            "padding": null,
            "right": null,
            "top": null,
            "visibility": null,
            "width": null
          }
        },
        "7262ccb5929041df9a92512d275d108c": {
          "model_module": "@jupyter-widgets/controls",
          "model_name": "DescriptionStyleModel",
          "model_module_version": "1.5.0",
          "state": {
            "_model_module": "@jupyter-widgets/controls",
            "_model_module_version": "1.5.0",
            "_model_name": "DescriptionStyleModel",
            "_view_count": null,
            "_view_module": "@jupyter-widgets/base",
            "_view_module_version": "1.2.0",
            "_view_name": "StyleView",
            "description_width": ""
          }
        },
        "715cd58d059c42c6befe9294f5da8e32": {
          "model_module": "@jupyter-widgets/base",
          "model_name": "LayoutModel",
          "model_module_version": "1.2.0",
          "state": {
            "_model_module": "@jupyter-widgets/base",
            "_model_module_version": "1.2.0",
            "_model_name": "LayoutModel",
            "_view_count": null,
            "_view_module": "@jupyter-widgets/base",
            "_view_module_version": "1.2.0",
            "_view_name": "LayoutView",
            "align_content": null,
            "align_items": null,
            "align_self": null,
            "border": null,
            "bottom": null,
            "display": null,
            "flex": null,
            "flex_flow": null,
            "grid_area": null,
            "grid_auto_columns": null,
            "grid_auto_flow": null,
            "grid_auto_rows": null,
            "grid_column": null,
            "grid_gap": null,
            "grid_row": null,
            "grid_template_areas": null,
            "grid_template_columns": null,
            "grid_template_rows": null,
            "height": null,
            "justify_content": null,
            "justify_items": null,
            "left": null,
            "margin": null,
            "max_height": null,
            "max_width": null,
            "min_height": null,
            "min_width": null,
            "object_fit": null,
            "object_position": null,
            "order": null,
            "overflow": null,
            "overflow_x": null,
            "overflow_y": null,
            "padding": null,
            "right": null,
            "top": null,
            "visibility": null,
            "width": null
          }
        },
        "a0f2826388624031941c3fb12c35e3b5": {
          "model_module": "@jupyter-widgets/controls",
          "model_name": "ProgressStyleModel",
          "model_module_version": "1.5.0",
          "state": {
            "_model_module": "@jupyter-widgets/controls",
            "_model_module_version": "1.5.0",
            "_model_name": "ProgressStyleModel",
            "_view_count": null,
            "_view_module": "@jupyter-widgets/base",
            "_view_module_version": "1.2.0",
            "_view_name": "StyleView",
            "bar_color": null,
            "description_width": ""
          }
        },
        "891ff0a0c928484faf5732559316e021": {
          "model_module": "@jupyter-widgets/base",
          "model_name": "LayoutModel",
          "model_module_version": "1.2.0",
          "state": {
            "_model_module": "@jupyter-widgets/base",
            "_model_module_version": "1.2.0",
            "_model_name": "LayoutModel",
            "_view_count": null,
            "_view_module": "@jupyter-widgets/base",
            "_view_module_version": "1.2.0",
            "_view_name": "LayoutView",
            "align_content": null,
            "align_items": null,
            "align_self": null,
            "border": null,
            "bottom": null,
            "display": null,
            "flex": null,
            "flex_flow": null,
            "grid_area": null,
            "grid_auto_columns": null,
            "grid_auto_flow": null,
            "grid_auto_rows": null,
            "grid_column": null,
            "grid_gap": null,
            "grid_row": null,
            "grid_template_areas": null,
            "grid_template_columns": null,
            "grid_template_rows": null,
            "height": null,
            "justify_content": null,
            "justify_items": null,
            "left": null,
            "margin": null,
            "max_height": null,
            "max_width": null,
            "min_height": null,
            "min_width": null,
            "object_fit": null,
            "object_position": null,
            "order": null,
            "overflow": null,
            "overflow_x": null,
            "overflow_y": null,
            "padding": null,
            "right": null,
            "top": null,
            "visibility": null,
            "width": null
          }
        },
        "c0f7b78757a449cda13e8b4c7e700149": {
          "model_module": "@jupyter-widgets/controls",
          "model_name": "DescriptionStyleModel",
          "model_module_version": "1.5.0",
          "state": {
            "_model_module": "@jupyter-widgets/controls",
            "_model_module_version": "1.5.0",
            "_model_name": "DescriptionStyleModel",
            "_view_count": null,
            "_view_module": "@jupyter-widgets/base",
            "_view_module_version": "1.2.0",
            "_view_name": "StyleView",
            "description_width": ""
          }
        },
        "23159d81a21449a08b6b2303840fc203": {
          "model_module": "@jupyter-widgets/controls",
          "model_name": "HBoxModel",
          "model_module_version": "1.5.0",
          "state": {
            "_dom_classes": [],
            "_model_module": "@jupyter-widgets/controls",
            "_model_module_version": "1.5.0",
            "_model_name": "HBoxModel",
            "_view_count": null,
            "_view_module": "@jupyter-widgets/controls",
            "_view_module_version": "1.5.0",
            "_view_name": "HBoxView",
            "box_style": "",
            "children": [
              "IPY_MODEL_becafad076094ba085888527fc9580b4",
              "IPY_MODEL_69dd7fd7369a497b909bb6c24d2a3c90",
              "IPY_MODEL_719d47a30b1e40a887e77233ab1e0b6e"
            ],
            "layout": "IPY_MODEL_504a77896dd74419addd3b1c3b89e1cd"
          }
        },
        "becafad076094ba085888527fc9580b4": {
          "model_module": "@jupyter-widgets/controls",
          "model_name": "HTMLModel",
          "model_module_version": "1.5.0",
          "state": {
            "_dom_classes": [],
            "_model_module": "@jupyter-widgets/controls",
            "_model_module_version": "1.5.0",
            "_model_name": "HTMLModel",
            "_view_count": null,
            "_view_module": "@jupyter-widgets/controls",
            "_view_module_version": "1.5.0",
            "_view_name": "HTMLView",
            "description": "",
            "description_tooltip": null,
            "layout": "IPY_MODEL_ddfbf8cbf1ef4e49a7ad963168300e44",
            "placeholder": "​",
            "style": "IPY_MODEL_b658f737f37e419c931ac332789188f5",
            "value": "100%"
          }
        },
        "69dd7fd7369a497b909bb6c24d2a3c90": {
          "model_module": "@jupyter-widgets/controls",
          "model_name": "FloatProgressModel",
          "model_module_version": "1.5.0",
          "state": {
            "_dom_classes": [],
            "_model_module": "@jupyter-widgets/controls",
            "_model_module_version": "1.5.0",
            "_model_name": "FloatProgressModel",
            "_view_count": null,
            "_view_module": "@jupyter-widgets/controls",
            "_view_module_version": "1.5.0",
            "_view_name": "ProgressView",
            "bar_style": "success",
            "description": "",
            "description_tooltip": null,
            "layout": "IPY_MODEL_306d73c5f76843e4886fafa2b56b6bbf",
            "max": 10000,
            "min": 0,
            "orientation": "horizontal",
            "style": "IPY_MODEL_f8113d47f1d74b5889873f51b5e1dffd",
            "value": 10000
          }
        },
        "719d47a30b1e40a887e77233ab1e0b6e": {
          "model_module": "@jupyter-widgets/controls",
          "model_name": "HTMLModel",
          "model_module_version": "1.5.0",
          "state": {
            "_dom_classes": [],
            "_model_module": "@jupyter-widgets/controls",
            "_model_module_version": "1.5.0",
            "_model_name": "HTMLModel",
            "_view_count": null,
            "_view_module": "@jupyter-widgets/controls",
            "_view_module_version": "1.5.0",
            "_view_name": "HTMLView",
            "description": "",
            "description_tooltip": null,
            "layout": "IPY_MODEL_12f9509441044ff5a96180627de2bcad",
            "placeholder": "​",
            "style": "IPY_MODEL_5f12f65a966d4eb9bc3b2d1ec4b0e807",
            "value": " 10000/10000 [00:05&lt;00:00, 1692.05it/s]"
          }
        },
        "504a77896dd74419addd3b1c3b89e1cd": {
          "model_module": "@jupyter-widgets/base",
          "model_name": "LayoutModel",
          "model_module_version": "1.2.0",
          "state": {
            "_model_module": "@jupyter-widgets/base",
            "_model_module_version": "1.2.0",
            "_model_name": "LayoutModel",
            "_view_count": null,
            "_view_module": "@jupyter-widgets/base",
            "_view_module_version": "1.2.0",
            "_view_name": "LayoutView",
            "align_content": null,
            "align_items": null,
            "align_self": null,
            "border": null,
            "bottom": null,
            "display": null,
            "flex": null,
            "flex_flow": null,
            "grid_area": null,
            "grid_auto_columns": null,
            "grid_auto_flow": null,
            "grid_auto_rows": null,
            "grid_column": null,
            "grid_gap": null,
            "grid_row": null,
            "grid_template_areas": null,
            "grid_template_columns": null,
            "grid_template_rows": null,
            "height": null,
            "justify_content": null,
            "justify_items": null,
            "left": null,
            "margin": null,
            "max_height": null,
            "max_width": null,
            "min_height": null,
            "min_width": null,
            "object_fit": null,
            "object_position": null,
            "order": null,
            "overflow": null,
            "overflow_x": null,
            "overflow_y": null,
            "padding": null,
            "right": null,
            "top": null,
            "visibility": null,
            "width": null
          }
        },
        "ddfbf8cbf1ef4e49a7ad963168300e44": {
          "model_module": "@jupyter-widgets/base",
          "model_name": "LayoutModel",
          "model_module_version": "1.2.0",
          "state": {
            "_model_module": "@jupyter-widgets/base",
            "_model_module_version": "1.2.0",
            "_model_name": "LayoutModel",
            "_view_count": null,
            "_view_module": "@jupyter-widgets/base",
            "_view_module_version": "1.2.0",
            "_view_name": "LayoutView",
            "align_content": null,
            "align_items": null,
            "align_self": null,
            "border": null,
            "bottom": null,
            "display": null,
            "flex": null,
            "flex_flow": null,
            "grid_area": null,
            "grid_auto_columns": null,
            "grid_auto_flow": null,
            "grid_auto_rows": null,
            "grid_column": null,
            "grid_gap": null,
            "grid_row": null,
            "grid_template_areas": null,
            "grid_template_columns": null,
            "grid_template_rows": null,
            "height": null,
            "justify_content": null,
            "justify_items": null,
            "left": null,
            "margin": null,
            "max_height": null,
            "max_width": null,
            "min_height": null,
            "min_width": null,
            "object_fit": null,
            "object_position": null,
            "order": null,
            "overflow": null,
            "overflow_x": null,
            "overflow_y": null,
            "padding": null,
            "right": null,
            "top": null,
            "visibility": null,
            "width": null
          }
        },
        "b658f737f37e419c931ac332789188f5": {
          "model_module": "@jupyter-widgets/controls",
          "model_name": "DescriptionStyleModel",
          "model_module_version": "1.5.0",
          "state": {
            "_model_module": "@jupyter-widgets/controls",
            "_model_module_version": "1.5.0",
            "_model_name": "DescriptionStyleModel",
            "_view_count": null,
            "_view_module": "@jupyter-widgets/base",
            "_view_module_version": "1.2.0",
            "_view_name": "StyleView",
            "description_width": ""
          }
        },
        "306d73c5f76843e4886fafa2b56b6bbf": {
          "model_module": "@jupyter-widgets/base",
          "model_name": "LayoutModel",
          "model_module_version": "1.2.0",
          "state": {
            "_model_module": "@jupyter-widgets/base",
            "_model_module_version": "1.2.0",
            "_model_name": "LayoutModel",
            "_view_count": null,
            "_view_module": "@jupyter-widgets/base",
            "_view_module_version": "1.2.0",
            "_view_name": "LayoutView",
            "align_content": null,
            "align_items": null,
            "align_self": null,
            "border": null,
            "bottom": null,
            "display": null,
            "flex": null,
            "flex_flow": null,
            "grid_area": null,
            "grid_auto_columns": null,
            "grid_auto_flow": null,
            "grid_auto_rows": null,
            "grid_column": null,
            "grid_gap": null,
            "grid_row": null,
            "grid_template_areas": null,
            "grid_template_columns": null,
            "grid_template_rows": null,
            "height": null,
            "justify_content": null,
            "justify_items": null,
            "left": null,
            "margin": null,
            "max_height": null,
            "max_width": null,
            "min_height": null,
            "min_width": null,
            "object_fit": null,
            "object_position": null,
            "order": null,
            "overflow": null,
            "overflow_x": null,
            "overflow_y": null,
            "padding": null,
            "right": null,
            "top": null,
            "visibility": null,
            "width": null
          }
        },
        "f8113d47f1d74b5889873f51b5e1dffd": {
          "model_module": "@jupyter-widgets/controls",
          "model_name": "ProgressStyleModel",
          "model_module_version": "1.5.0",
          "state": {
            "_model_module": "@jupyter-widgets/controls",
            "_model_module_version": "1.5.0",
            "_model_name": "ProgressStyleModel",
            "_view_count": null,
            "_view_module": "@jupyter-widgets/base",
            "_view_module_version": "1.2.0",
            "_view_name": "StyleView",
            "bar_color": null,
            "description_width": ""
          }
        },
        "12f9509441044ff5a96180627de2bcad": {
          "model_module": "@jupyter-widgets/base",
          "model_name": "LayoutModel",
          "model_module_version": "1.2.0",
          "state": {
            "_model_module": "@jupyter-widgets/base",
            "_model_module_version": "1.2.0",
            "_model_name": "LayoutModel",
            "_view_count": null,
            "_view_module": "@jupyter-widgets/base",
            "_view_module_version": "1.2.0",
            "_view_name": "LayoutView",
            "align_content": null,
            "align_items": null,
            "align_self": null,
            "border": null,
            "bottom": null,
            "display": null,
            "flex": null,
            "flex_flow": null,
            "grid_area": null,
            "grid_auto_columns": null,
            "grid_auto_flow": null,
            "grid_auto_rows": null,
            "grid_column": null,
            "grid_gap": null,
            "grid_row": null,
            "grid_template_areas": null,
            "grid_template_columns": null,
            "grid_template_rows": null,
            "height": null,
            "justify_content": null,
            "justify_items": null,
            "left": null,
            "margin": null,
            "max_height": null,
            "max_width": null,
            "min_height": null,
            "min_width": null,
            "object_fit": null,
            "object_position": null,
            "order": null,
            "overflow": null,
            "overflow_x": null,
            "overflow_y": null,
            "padding": null,
            "right": null,
            "top": null,
            "visibility": null,
            "width": null
          }
        },
        "5f12f65a966d4eb9bc3b2d1ec4b0e807": {
          "model_module": "@jupyter-widgets/controls",
          "model_name": "DescriptionStyleModel",
          "model_module_version": "1.5.0",
          "state": {
            "_model_module": "@jupyter-widgets/controls",
            "_model_module_version": "1.5.0",
            "_model_name": "DescriptionStyleModel",
            "_view_count": null,
            "_view_module": "@jupyter-widgets/base",
            "_view_module_version": "1.2.0",
            "_view_name": "StyleView",
            "description_width": ""
          }
        }
      }
    }
  },
  "nbformat": 4,
  "nbformat_minor": 0
}