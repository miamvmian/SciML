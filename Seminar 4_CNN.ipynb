version https://git-lfs.github.com/spec/v1
oid sha256:b006ce9b297056a6b33abd5da8cdb1f64d52689461decbaf2ba5453aa105f8d6
size 2221246
